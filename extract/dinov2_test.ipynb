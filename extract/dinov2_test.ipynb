{
 "cells": [
  {
   "cell_type": "code",
   "execution_count": 20,
   "metadata": {},
   "outputs": [],
   "source": [
    "# imports\n",
    "import torch\n",
    "from torchvision import transforms\n",
    "\n",
    "from torch.utils.data import DataLoader, Dataset\n",
    "from pathlib import Path\n",
    "from typing import Any, Callable, Iterable, Optional, Tuple, Union\n",
    "import cv2\n",
    "from PIL import Image\n",
    "\n",
    "from accelerate import Accelerator\n",
    "from tqdm import tqdm\n"
   ]
  },
  {
   "cell_type": "code",
   "execution_count": 3,
   "metadata": {},
   "outputs": [],
   "source": [
    "def get_transform(name: str):\n",
    "    if any(x in name for x in ('dino', 'mocov3', 'convnext', )):\n",
    "        normalize = transforms.Normalize((0.485, 0.456, 0.406), (0.229, 0.224, 0.225))\n",
    "        transform = transforms.Compose([transforms.ToTensor(), normalize])\n",
    "    else:\n",
    "        raise NotImplementedError()\n",
    "    return transform"
   ]
  },
  {
   "cell_type": "code",
   "execution_count": 7,
   "metadata": {},
   "outputs": [],
   "source": [
    "def get_model(name: str):\n",
    "    if 'dinov2' in name:\n",
    "        #  dinov2 models like dinov2_vits14\n",
    "        model = torch.hub.load('facebookresearch/dinov2:main', name)\n",
    "        model.fc = torch.nn.Identity()\n",
    "        val_transform = get_transform(name)\n",
    "        patch_size = model.patch_embed.patch_size\n",
    "        num_heads = model.blocks[0].attn.num_heads\n",
    "    elif 'dino' in name:\n",
    "        model = torch.hub.load('facebookresearch/dino:main', name)\n",
    "        model.fc = torch.nn.Identity()\n",
    "        val_transform = get_transform(name)\n",
    "        patch_size = model.patch_embed.patch_size\n",
    "        num_heads = model.blocks[0].attn.num_heads\n",
    "    else:\n",
    "        raise ValueError(f'Cannot get model: {name}')\n",
    "    model = model.eval()\n",
    "    return model, val_transform, patch_size, num_heads"
   ]
  },
  {
   "cell_type": "code",
   "execution_count": 11,
   "metadata": {},
   "outputs": [],
   "source": [
    "model_name = \"dinov2_vits14\""
   ]
  },
  {
   "cell_type": "code",
   "execution_count": 12,
   "metadata": {},
   "outputs": [
    {
     "name": "stderr",
     "output_type": "stream",
     "text": [
      "Using cache found in C:\\Users\\Tmenova/.cache\\torch\\hub\\facebookresearch_dinov2_main\n"
     ]
    }
   ],
   "source": [
    "model, val_transform, patch_size, num_heads = get_model(model_name)"
   ]
  },
  {
   "cell_type": "code",
   "execution_count": 78,
   "metadata": {},
   "outputs": [
    {
     "data": {
      "text/plain": [
       "(14, 14)"
      ]
     },
     "execution_count": 78,
     "metadata": {},
     "output_type": "execute_result"
    }
   ],
   "source": [
    "patch_size"
   ]
  },
  {
   "cell_type": "code",
   "execution_count": 13,
   "metadata": {},
   "outputs": [],
   "source": [
    "which_block = -1\n",
    "if 'dino' in model_name or 'mocov3' in model_name:\n",
    "    feat_out = {}\n",
    "    def hook_fn_forward_qkv(module, input, output):\n",
    "        feat_out[\"qkv\"] = output\n",
    "    model._modules[\"blocks\"][which_block]._modules[\"attn\"]._modules[\"qkv\"].register_forward_hook(hook_fn_forward_qkv)\n",
    "else:\n",
    "    raise ValueError(model_name)"
   ]
  },
  {
   "cell_type": "code",
   "execution_count": 15,
   "metadata": {},
   "outputs": [],
   "source": [
    "class ImagesDataset(Dataset):\n",
    "    \"\"\"A very simple dataset for loading images.\"\"\"\n",
    "\n",
    "    def __init__(self, filenames: str, images_root: Optional[str] = None, transform: Optional[Callable] = None,\n",
    "                 prepare_filenames: bool = True) -> None:\n",
    "        self.root = None if images_root is None else Path(images_root)\n",
    "        self.filenames = sorted(list(set(filenames))) if prepare_filenames else filenames\n",
    "        self.transform = transform\n",
    "\n",
    "    def __getitem__(self, index: int) -> Tuple[Any, Any]:\n",
    "        path = self.filenames[index]\n",
    "        full_path = Path(path) if self.root is None else self.root / path\n",
    "        assert full_path.is_file(), f'Not a file: {full_path}'\n",
    "        image = Image.open(full_path).convert('RGB')\n",
    "        # image =  \n",
    "        # image = cv2.imread(str(full_path))\n",
    "        # image = cv2.cvtColor(image, cv2.COLOR_BGR2RGB)\n",
    "        if self.transform is not None:\n",
    "            image = self.transform(image)\n",
    "        return image, path, index\n",
    "\n",
    "    def __len__(self) -> int:\n",
    "        return len(self.filenames)"
   ]
  },
  {
   "cell_type": "code",
   "execution_count": 16,
   "metadata": {},
   "outputs": [],
   "source": [
    "images_list = \"C:/Users/Tmenova/personal/tum/thesis/thesis-codebase/data/MINI/CAROTID_MIXED/val_mini/lists/images.txt\"\n",
    "images_root = \"C:/Users/Tmenova/personal/tum/thesis/thesis-codebase/data/MINI/CAROTID_MIXED/val_mini/images\"\n",
    "filenames = Path(images_list).read_text().splitlines()\n",
    "transform = transforms.Compose([transforms.ToTensor()])\n",
    "dataset = ImagesDataset(filenames=filenames, images_root=images_root, transform=transform)"
   ]
  },
  {
   "cell_type": "code",
   "execution_count": 17,
   "metadata": {},
   "outputs": [],
   "source": [
    "dataloader = torch.utils.data.DataLoader(dataset, batch_size=1, num_workers=0)\n"
   ]
  },
  {
   "cell_type": "code",
   "execution_count": 19,
   "metadata": {},
   "outputs": [
    {
     "name": "stdout",
     "output_type": "stream",
     "text": [
      "accelerator device= cuda\n"
     ]
    }
   ],
   "source": [
    "# Prepare\n",
    "cpu = True\n",
    "if torch.cuda.is_available():\n",
    "    cpu = False\n",
    "accelerator = Accelerator(cpu, mixed_precision=\"fp16\")\n",
    "# model, dataloader = accelerator.prepare(model, dataloader)\n",
    "model = model.to(accelerator.device)\n",
    "print('accelerator device=', accelerator.device)"
   ]
  },
  {
   "cell_type": "code",
   "execution_count": 21,
   "metadata": {},
   "outputs": [
    {
     "name": "stderr",
     "output_type": "stream",
     "text": [
      "Processing:   0%|          | 0/10 [00:00<?, ?it/s]"
     ]
    }
   ],
   "source": [
    "pbar = tqdm(dataloader, desc='Processing')"
   ]
  },
  {
   "cell_type": "code",
   "execution_count": 27,
   "metadata": {},
   "outputs": [
    {
     "data": {
      "text/plain": [
       "(tensor([[[0.0000, 0.0000, 0.0000,  ..., 0.0000, 0.0000, 0.0000],\n",
       "          [0.0000, 0.0000, 0.0000,  ..., 0.0784, 0.0745, 0.0745],\n",
       "          [0.0000, 0.0000, 0.0000,  ..., 0.0314, 0.0314, 0.0314],\n",
       "          ...,\n",
       "          [0.0000, 0.0000, 0.0000,  ..., 0.0000, 0.0000, 0.0000],\n",
       "          [0.0000, 0.0000, 0.0000,  ..., 0.0000, 0.0000, 0.0000],\n",
       "          [0.0000, 0.0000, 0.0000,  ..., 0.0000, 0.0000, 0.0000]],\n",
       " \n",
       "         [[0.0000, 0.0000, 0.0000,  ..., 0.0000, 0.0000, 0.0000],\n",
       "          [0.0000, 0.0000, 0.0000,  ..., 0.0784, 0.0745, 0.0745],\n",
       "          [0.0000, 0.0000, 0.0000,  ..., 0.0314, 0.0314, 0.0314],\n",
       "          ...,\n",
       "          [0.0000, 0.0000, 0.0000,  ..., 0.0000, 0.0000, 0.0000],\n",
       "          [0.0000, 0.0000, 0.0000,  ..., 0.0000, 0.0000, 0.0000],\n",
       "          [0.0000, 0.0000, 0.0000,  ..., 0.0000, 0.0000, 0.0000]],\n",
       " \n",
       "         [[0.0000, 0.0000, 0.0000,  ..., 0.0000, 0.0000, 0.0000],\n",
       "          [0.0000, 0.0000, 0.0000,  ..., 0.0784, 0.0745, 0.0745],\n",
       "          [0.0000, 0.0000, 0.0000,  ..., 0.0314, 0.0314, 0.0314],\n",
       "          ...,\n",
       "          [0.0000, 0.0000, 0.0000,  ..., 0.0000, 0.0000, 0.0000],\n",
       "          [0.0000, 0.0000, 0.0000,  ..., 0.0000, 0.0000, 0.0000],\n",
       "          [0.0000, 0.0000, 0.0000,  ..., 0.0000, 0.0000, 0.0000]]]),\n",
       " 'img1042.png',\n",
       " 0)"
      ]
     },
     "execution_count": 27,
     "metadata": {},
     "output_type": "execute_result"
    }
   ],
   "source": [
    "dataset[0]"
   ]
  },
  {
   "cell_type": "code",
   "execution_count": 33,
   "metadata": {},
   "outputs": [],
   "source": [
    "images, files, indices = dataset[0]"
   ]
  },
  {
   "cell_type": "code",
   "execution_count": 41,
   "metadata": {},
   "outputs": [],
   "source": [
    "batch = next(iter(dataset))"
   ]
  },
  {
   "cell_type": "code",
   "execution_count": 35,
   "metadata": {},
   "outputs": [
    {
     "data": {
      "text/plain": [
       "(tensor([[[0.0000, 0.0000, 0.0000,  ..., 0.0000, 0.0000, 0.0000],\n",
       "          [0.0000, 0.0000, 0.0000,  ..., 0.0784, 0.0745, 0.0745],\n",
       "          [0.0000, 0.0000, 0.0000,  ..., 0.0314, 0.0314, 0.0314],\n",
       "          ...,\n",
       "          [0.0000, 0.0000, 0.0000,  ..., 0.0000, 0.0000, 0.0000],\n",
       "          [0.0000, 0.0000, 0.0000,  ..., 0.0000, 0.0000, 0.0000],\n",
       "          [0.0000, 0.0000, 0.0000,  ..., 0.0000, 0.0000, 0.0000]],\n",
       " \n",
       "         [[0.0000, 0.0000, 0.0000,  ..., 0.0000, 0.0000, 0.0000],\n",
       "          [0.0000, 0.0000, 0.0000,  ..., 0.0784, 0.0745, 0.0745],\n",
       "          [0.0000, 0.0000, 0.0000,  ..., 0.0314, 0.0314, 0.0314],\n",
       "          ...,\n",
       "          [0.0000, 0.0000, 0.0000,  ..., 0.0000, 0.0000, 0.0000],\n",
       "          [0.0000, 0.0000, 0.0000,  ..., 0.0000, 0.0000, 0.0000],\n",
       "          [0.0000, 0.0000, 0.0000,  ..., 0.0000, 0.0000, 0.0000]],\n",
       " \n",
       "         [[0.0000, 0.0000, 0.0000,  ..., 0.0000, 0.0000, 0.0000],\n",
       "          [0.0000, 0.0000, 0.0000,  ..., 0.0784, 0.0745, 0.0745],\n",
       "          [0.0000, 0.0000, 0.0000,  ..., 0.0314, 0.0314, 0.0314],\n",
       "          ...,\n",
       "          [0.0000, 0.0000, 0.0000,  ..., 0.0000, 0.0000, 0.0000],\n",
       "          [0.0000, 0.0000, 0.0000,  ..., 0.0000, 0.0000, 0.0000],\n",
       "          [0.0000, 0.0000, 0.0000,  ..., 0.0000, 0.0000, 0.0000]]]),\n",
       " 'img1042.png',\n",
       " 0)"
      ]
     },
     "execution_count": 35,
     "metadata": {},
     "output_type": "execute_result"
    }
   ],
   "source": [
    "batch"
   ]
  },
  {
   "cell_type": "code",
   "execution_count": 36,
   "metadata": {},
   "outputs": [],
   "source": [
    "images, files, indices = batch"
   ]
  },
  {
   "cell_type": "code",
   "execution_count": 46,
   "metadata": {},
   "outputs": [
    {
     "name": "stderr",
     "output_type": "stream",
     "text": [
      "Processing:   0%|          | 0/10 [00:00<?, ?it/s]"
     ]
    },
    {
     "name": "stdout",
     "output_type": "stream",
     "text": [
      "<torch.utils.data.dataloader.DataLoader object at 0x00000272A914E648>\n"
     ]
    },
    {
     "name": "stderr",
     "output_type": "stream",
     "text": [
      "Processing: 100%|██████████| 10/10 [00:08<00:00,  1.15it/s]\n"
     ]
    }
   ],
   "source": [
    "pbar = tqdm(dataloader, desc='Processing')\n",
    "print(dataloader)\n",
    "for i, (images, files, indices) in enumerate(pbar):\n",
    "    output_dict = {}\n",
    "    # Reshape image\n",
    "    P = patch_size[0]\n",
    "    B, C, H, W = images.shape\n",
    "    H_patch, W_patch = H // P, W // P\n",
    "    H_pad, W_pad = H_patch * P, W_patch * P\n",
    "    T = H_patch * W_patch + 1  # number of tokens, add 1 for [CLS]\n",
    "    # images = F.interpolate(images, size=(H_pad, W_pad), mode='bilinear')  # resize image\n",
    "    images = images[:, :, :H_pad, :W_pad]\n",
    "    images = images.to(accelerator.device)\n",
    "\n",
    "    # collect features\n",
    "    if 'dinov2' in model_name or 'mocov3' in model_name:\n",
    "        with torch.no_grad():\n",
    "            # accelerator.unwrap_model(model).get_intermediate_layers(images)[0].squeeze(0)\n",
    "            model.get_intermediate_layers(images)[0].squeeze(0)\n",
    "        # output_dict['out'] = out\n",
    "        output_qkv = feat_out[\"qkv\"].reshape(B, T, 3, num_heads, -1 // num_heads).permute(2, 0, 3, 1, 4)\n",
    "        output_dict['k'] = output_qkv[1].transpose(1, 2).reshape(B, T, -1)[:, 1:, :]\n",
    "    else:\n",
    "        raise ValueError(model_name)\n",
    "    output_dict = {k: (v.detach().cpu() if torch.is_tensor(v) else v) for k, v in output_dict.items()}\n",
    "\n"
   ]
  },
  {
   "cell_type": "code",
   "execution_count": 47,
   "metadata": {},
   "outputs": [
    {
     "data": {
      "text/plain": [
       "{'k': tensor([[[ 1.8729,  0.2479, -1.4329,  ...,  0.1663, -0.1796, -1.0883],\n",
       "          [ 2.4307, -0.3700, -0.2780,  ...,  0.3730, -0.2587, -1.9577],\n",
       "          [ 1.0429,  0.3578, -1.9638,  ...,  0.1203, -0.3740, -0.9415],\n",
       "          ...,\n",
       "          [ 2.0477,  0.8199, -1.6675,  ..., -0.0553, -1.1283, -2.5139],\n",
       "          [ 1.9789,  0.3190, -0.7145,  ...,  0.3181, -0.6036, -0.5634],\n",
       "          [ 1.6825,  0.9970, -1.1676,  ..., -0.0787, -0.8086, -1.7645]]])}"
      ]
     },
     "execution_count": 47,
     "metadata": {},
     "output_type": "execute_result"
    }
   ],
   "source": [
    "output_dict"
   ]
  },
  {
   "cell_type": "code",
   "execution_count": 49,
   "metadata": {},
   "outputs": [],
   "source": [
    "import torch.nn.functional as F\n"
   ]
  },
  {
   "cell_type": "code",
   "execution_count": 50,
   "metadata": {},
   "outputs": [],
   "source": [
    "if torch.cuda.is_available():\n",
    "    feats = output_dict[\"k\"].squeeze().cuda()\n",
    "else:\n",
    "    feats = output_dict[\"k\"].squeeze().cpu()\n",
    "\n",
    "feats = F.normalize(feats, p=2, dim=-1)"
   ]
  },
  {
   "cell_type": "code",
   "execution_count": 51,
   "metadata": {},
   "outputs": [],
   "source": [
    "n_clusters = 6\n"
   ]
  },
  {
   "cell_type": "code",
   "execution_count": 53,
   "metadata": {},
   "outputs": [],
   "source": [
    "from sklearn.cluster import KMeans, MiniBatchKMeans\n"
   ]
  },
  {
   "cell_type": "code",
   "execution_count": 54,
   "metadata": {},
   "outputs": [],
   "source": [
    "feats_numpy = feats.cpu().detach().numpy()\n",
    "kmeans = KMeans(n_clusters=n_clusters, random_state=1)\n",
    "clusters1 = kmeans.fit_predict(feats_numpy)"
   ]
  },
  {
   "cell_type": "code",
   "execution_count": 56,
   "metadata": {},
   "outputs": [],
   "source": [
    "output_dict['indices'] = indices[0]\n",
    "output_dict['file'] = files[0]\n",
    "output_dict['id'] = id\n",
    "output_dict['model_name'] = model_name\n",
    "output_dict['patch_size'] = patch_size\n",
    "output_dict['shape'] = (B, C, H, W)"
   ]
  },
  {
   "cell_type": "code",
   "execution_count": 60,
   "metadata": {},
   "outputs": [],
   "source": [
    "import numpy as np\n",
    "\n",
    "def get_segmap(clusters, data_dict):\n",
    "    B, C, H, W, P, H_patch, W_patch, H_pad, W_pad = get_image_sizes(data_dict)\n",
    "    # Reshape\n",
    "    infer_bg_index = True\n",
    "    if clusters.size == H_patch * W_patch:  # TODO: better solution might be to pass in patch index\n",
    "        segmap = clusters.reshape(H_patch, W_patch)\n",
    "    elif clusters.size == H_patch * W_patch * 4:\n",
    "        segmap = clusters.reshape(H_patch * 2, W_patch * 2)\n",
    "    else:\n",
    "        raise ValueError()\n",
    "\n",
    "    # TODO: Improve this step in the pipeline.\n",
    "    # Background detection: we assume that the segment with the most border pixels is the \n",
    "    # background region. We will always make this region equal 0. \n",
    "    if infer_bg_index:\n",
    "        indices, normlized_counts = get_border_fraction(segmap)\n",
    "        bg_index = indices[np.argmax(normlized_counts)].item()\n",
    "        bg_region = (segmap == bg_index)\n",
    "        zero_region = (segmap == 0)\n",
    "        segmap[bg_region] = 0\n",
    "        segmap[zero_region] = bg_index\n",
    "\n",
    "    return segmap\n",
    "\n",
    "def get_image_sizes(data_dict: dict, downsample_factor = None):\n",
    "    P = data_dict['patch_size'] if downsample_factor is None else downsample_factor\n",
    "    P = P[0]\n",
    "    B, C, H, W = data_dict['shape']\n",
    "    assert B == 1, 'assumption violated :('\n",
    "    H_patch, W_patch = H // P, W // P\n",
    "    H_pad, W_pad = H_patch * P, W_patch * P\n",
    "    return (B, C, H, W, P, H_patch, W_patch, H_pad, W_pad)\n",
    "\n",
    "def get_border_fraction(segmap: np.array):\n",
    "    num_border_pixels = 2 * (segmap.shape[0] + segmap.shape[1])\n",
    "    counts_map = {idx: 0 for idx in np.unique(segmap)}\n",
    "    np.zeros(len(np.unique(segmap)))\n",
    "    for border in [segmap[:, 0], segmap[:, -1], segmap[0, :], segmap[-1, :]]:\n",
    "        unique, counts = np.unique(border, return_counts=True)\n",
    "        for idx, count in zip(unique.tolist(), counts.tolist()):\n",
    "            counts_map[idx] += count\n",
    "    # normlized_counts_map = {idx: count / num_border_pixels for idx, count in counts_map.items()}\n",
    "    indices = np.array(list(counts_map.keys()))\n",
    "    normlized_counts = np.array(list(counts_map.values())) / num_border_pixels\n",
    "    return indices, normlized_counts"
   ]
  },
  {
   "cell_type": "code",
   "execution_count": 61,
   "metadata": {},
   "outputs": [],
   "source": [
    "import matplotlib.pyplot as plt\n"
   ]
  },
  {
   "cell_type": "code",
   "execution_count": 62,
   "metadata": {},
   "outputs": [
    {
     "data": {
      "text/plain": [
       "<matplotlib.image.AxesImage at 0x273701e0588>"
      ]
     },
     "execution_count": 62,
     "metadata": {},
     "output_type": "execute_result"
    },
    {
     "data": {
      "image/png": "[encoded data removed]",
      "text/plain": [
       "<Figure size 640x480 with 1 Axes>"
      ]
     },
     "metadata": {},
     "output_type": "display_data"
    }
   ],
   "source": [
    "segmap_kmeans = get_segmap(clusters1, output_dict)\n",
    "plt.imshow(segmap_kmeans)"
   ]
  },
  {
   "cell_type": "markdown",
   "metadata": {},
   "source": [
    "## Test loading other dinov2 models"
   ]
  },
  {
   "cell_type": "code",
   "execution_count": 85,
   "metadata": {},
   "outputs": [
    {
     "name": "stderr",
     "output_type": "stream",
     "text": [
      "Using cache found in C:\\Users\\Tmenova/.cache\\torch\\hub\\facebookresearch_dinov2_main\n"
     ]
    }
   ],
   "source": [
    "# model_name = \"dino_vits8\"\n",
    "# model_name = \"dino_vitb8\"\n",
    "# model_name = \"dinov2_vits14\"\n",
    "model_name = \"dinov2_vitb14\"\n",
    "\n",
    "\n",
    "model, val_transform, patch_size, num_heads = get_model(model_name)"
   ]
  },
  {
   "cell_type": "code",
   "execution_count": null,
   "metadata": {},
   "outputs": [],
   "source": []
  }
 ],
 "metadata": {
  "kernelspec": {
   "display_name": "thesis_env",
   "language": "python",
   "name": "python3"
  },
  "language_info": {
   "codemirror_mode": {
    "name": "ipython",
    "version": 3
   },
   "file_extension": ".py",
   "mimetype": "text/x-python",
   "name": "python",
   "nbconvert_exporter": "python",
   "pygments_lexer": "ipython3",
   "version": "3.7.7"
  }
 },
 "nbformat": 4,
 "nbformat_minor": 2
}
