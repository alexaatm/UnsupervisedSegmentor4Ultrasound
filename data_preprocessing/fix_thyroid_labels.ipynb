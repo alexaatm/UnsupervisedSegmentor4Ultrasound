{
 "cells": [
  {
   "cell_type": "markdown",
   "metadata": {},
   "source": [
    "# FIX LABELS OF THYROID COMPOUNDED VOLUME 13"
   ]
  },
  {
   "cell_type": "code",
   "execution_count": 2,
   "metadata": {},
   "outputs": [],
   "source": [
    "SEGMENTATION_SLICES=\"C:/Users/Tmenova/personal/tum/thesis/initial-data/new_datasets/THYROID_COMPOUNDED/val/labels/13\""
   ]
  },
  {
   "cell_type": "code",
   "execution_count": null,
   "metadata": {},
   "outputs": [],
   "source": [
    "def remap_lables(old_label_image, old_labels, new_labels):\n",
    "    old_labels_unique = np.unique(old_label_image)\n",
    "    print('old_current', old_labels_unique)\n",
    "    print('old_assumed', old_labels)\n",
    "    # for old_current, old_assumed in zip(old_labels_unique,np.array(old_labels) ):\n",
    "    #     assert(old_current==old_assumed)\n",
    "    new_label_image = np.zeros_like(old_label_image)\n",
    "    for old_label_i, target_label_i in zip(old_labels, new_labels):\n",
    "        new_label_image[old_label_image == int(old_label_i)] = int(target_label_i)\n",
    "    return new_label_image"
   ]
  },
  {
   "cell_type": "code",
   "execution_count": null,
   "metadata": {},
   "outputs": [],
   "source": [
    "# for patient 13 this is the correspondence\n",
    "old_labels = [0, 10923, 21845, 32768, 43690, 54613, 65535]\n",
    "new_labels = [1, 2, 3, 4, 5, 6, 7]"
   ]
  },
  {
   "cell_type": "code",
   "execution_count": null,
   "metadata": {},
   "outputs": [],
   "source": [
    "# rename segm file names to match volume file names\n",
    "for segm_slice_file in sorted(os.listdir(SEGMENTATION_SLICES)):\n",
    "    segm_slice_file_path = os.path.join(SEGMENTATION_SLICES, segm_slice_file)\n",
    "    segm = np.array(Image.open(segm_slice_file_path))\n",
    "    new_segm = remap_lables(segm, old_labels, new_labels)\n",
    "    new_segm_image = Image.fromarray(new_segm)\n",
    "    new_segm_image.save(str(segm_slice_file_path))\n",
    "    "
   ]
  },
  {
   "cell_type": "code",
   "execution_count": null,
   "metadata": {},
   "outputs": [],
   "source": [
    "SEGMENTATION_SLICES=\"C:/Users/Tmenova/personal/tum/thesis/initial-data/new_datasets/THYROID_COMPOUNDED/val/labels/13\"\n",
    "VOLUME_SLICES=\"C:/Users/Tmenova/personal/tum/thesis/initial-data/new_datasets/THYROID_COMPOUNDED/val/images/13\"\n"
   ]
  },
  {
   "cell_type": "code",
   "execution_count": null,
   "metadata": {},
   "outputs": [],
   "source": [
    "# rename(SEGMENTATION_SLICES, VOLUME_SLICES)"
   ]
  },
  {
   "cell_type": "markdown",
   "metadata": {},
   "source": [
    "## Remap background to 0 in THYROID_COMPOUNDED TEST AND VAL datasets"
   ]
  },
  {
   "cell_type": "code",
   "execution_count": 1,
   "metadata": {},
   "outputs": [],
   "source": [
    "import numpy as np\n",
    "import os\n",
    "from PIL import Image\n",
    "\n",
    "def remap_lables(old_label_image, old_labels, new_labels):\n",
    "    old_labels_unique = np.unique(old_label_image)\n",
    "    new_label_image = old_label_image\n",
    "    for old_label_i, target_label_i in zip(old_labels, new_labels):\n",
    "        # assert(target_label_i not in old_labels_unique)\n",
    "        new_label_image[old_label_image == int(old_label_i)] = int(target_label_i)\n",
    "    return new_label_image"
   ]
  },
  {
   "cell_type": "code",
   "execution_count": 10,
   "metadata": {},
   "outputs": [],
   "source": [
    "SEGMENTATION_SLICES=\"C:/Users/Tmenova/personal/tum/thesis/initial-data/new_datasets/THYROID_COMPOUNDED/test/labels_fixed\"\n",
    "\n",
    "old_labels = [7]\n",
    "new_labels = [0]\n",
    "\n",
    "for segm_slice_file in sorted(os.listdir(SEGMENTATION_SLICES)):\n",
    "    segm_slice_file_path = os.path.join(SEGMENTATION_SLICES, segm_slice_file)\n",
    "    segm = np.array(Image.open(segm_slice_file_path))\n",
    "    new_segm = remap_lables(segm, old_labels, new_labels)\n",
    "    new_segm_image = Image.fromarray(new_segm)\n",
    "    new_segm_image.save(str(segm_slice_file_path))\n"
   ]
  },
  {
   "cell_type": "code",
   "execution_count": 11,
   "metadata": {},
   "outputs": [],
   "source": [
    "SEGMENTATION_SLICES=\"C:/Users/Tmenova/personal/tum/thesis/initial-data/new_datasets/THYROID_COMPOUNDED/val/labels_fixed\"\n",
    "\n",
    "old_labels = [7]\n",
    "new_labels = [0]\n",
    "\n",
    "for segm_slice_file in sorted(os.listdir(SEGMENTATION_SLICES)):\n",
    "    segm_slice_file_path = os.path.join(SEGMENTATION_SLICES, segm_slice_file)\n",
    "    segm = np.array(Image.open(segm_slice_file_path))\n",
    "    new_segm = remap_lables(segm, old_labels, new_labels)\n",
    "    new_segm_image = Image.fromarray(new_segm)\n",
    "    new_segm_image.save(str(segm_slice_file_path))\n"
   ]
  },
  {
   "cell_type": "code",
   "execution_count": null,
   "metadata": {},
   "outputs": [],
   "source": []
  }
 ],
 "metadata": {
  "kernelspec": {
   "display_name": "thesis_env",
   "language": "python",
   "name": "python3"
  },
  "language_info": {
   "codemirror_mode": {
    "name": "ipython",
    "version": 3
   },
   "file_extension": ".py",
   "mimetype": "text/x-python",
   "name": "python",
   "nbconvert_exporter": "python",
   "pygments_lexer": "ipython3",
   "version": "3.7.7"
  }
 },
 "nbformat": 4,
 "nbformat_minor": 2
}
