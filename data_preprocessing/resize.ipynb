{
 "cells": [
  {
   "cell_type": "code",
   "execution_count": 11,
   "metadata": {},
   "outputs": [],
   "source": [
    "import os\n",
    "from tqdm import tqdm\n",
    "import numpy as np\n",
    "from PIL import Image\n",
    "from torchvision import transforms"
   ]
  },
  {
   "cell_type": "code",
   "execution_count": 12,
   "metadata": {},
   "outputs": [],
   "source": [
    "VOLUME_SLICES=\"/home/guests/oleksandra_tmenova/test/project/thesis-codebase/data/CAROTID_MIXED/test/images\""
   ]
  },
  {
   "cell_type": "code",
   "execution_count": 13,
   "metadata": {},
   "outputs": [],
   "source": [
    "SEGMENTATION_SLICES=\"/home/guests/oleksandra_tmenova/test/project/thesis-codebase/data/CAROTID_MIXED/test/labels\""
   ]
  },
  {
   "cell_type": "code",
   "execution_count": 14,
   "metadata": {},
   "outputs": [],
   "source": [
    "images = sorted(os.listdir(VOLUME_SLICES))\n",
    "labels = sorted(os.listdir(SEGMENTATION_SLICES))"
   ]
  },
  {
   "cell_type": "code",
   "execution_count": 15,
   "metadata": {},
   "outputs": [],
   "source": [
    "assert(images==labels)"
   ]
  },
  {
   "cell_type": "code",
   "execution_count": 20,
   "metadata": {},
   "outputs": [],
   "source": [
    "if \"CAROTID_MIXED\" in VOLUME_SLICES and \"CAROTID_MIXED\" in SEGMENTATION_SLICES:\n",
    "    # make square\n",
    "    resize = transforms.Resize((256, 256))\n",
    "else:\n",
    "    # only resize\n",
    "    resize = transforms.Resize(256)\n",
    "        "
   ]
  },
  {
   "cell_type": "code",
   "execution_count": 21,
   "metadata": {},
   "outputs": [
    {
     "name": "stderr",
     "output_type": "stream",
     "text": [
      "  0%|          | 4/1877 [00:00<00:48, 38.24it/s]"
     ]
    },
    {
     "name": "stdout",
     "output_type": "stream",
     "text": [
      "image continuous_carotid_3_Patient-01-01100.png\n",
      "image continuous_carotid_3_Patient-01-01101.png\n",
      "image continuous_carotid_3_Patient-01-01102.png\n",
      "image continuous_carotid_3_Patient-01-01103.png\n",
      "image continuous_carotid_3_Patient-01-01104.png\n",
      "image continuous_carotid_3_Patient-01-01105.png\n",
      "image continuous_carotid_3_Patient-01-01106.png\n",
      "image continuous_carotid_3_Patient-01-01107.png\n"
     ]
    },
    {
     "name": "stderr",
     "output_type": "stream",
     "text": [
      "  1%|          | 14/1877 [00:00<00:46, 39.83it/s]"
     ]
    },
    {
     "name": "stdout",
     "output_type": "stream",
     "text": [
      "image continuous_carotid_3_Patient-01-01108.png\n",
      "image continuous_carotid_3_Patient-01-01109.png\n",
      "image continuous_carotid_3_Patient-01-01110.png\n",
      "image continuous_carotid_3_Patient-01-01111.png\n",
      "image continuous_carotid_3_Patient-01-01112.png\n",
      "image continuous_carotid_3_Patient-01-01113.png\n",
      "image continuous_carotid_3_Patient-01-01114.png\n",
      "image continuous_carotid_3_Patient-01-01115.png\n",
      "image continuous_carotid_3_Patient-01-01116.png\n"
     ]
    },
    {
     "name": "stderr",
     "output_type": "stream",
     "text": [
      "  1%|          | 23/1877 [00:00<00:45, 40.32it/s]"
     ]
    },
    {
     "name": "stdout",
     "output_type": "stream",
     "text": [
      "image continuous_carotid_3_Patient-01-01117.png\n",
      "image continuous_carotid_3_Patient-01-01118.png\n",
      "image continuous_carotid_3_Patient-01-01119.png\n",
      "image continuous_carotid_3_Patient-01-01120.png\n",
      "image continuous_carotid_3_Patient-01-01121.png\n",
      "image continuous_carotid_3_Patient-01-01122.png\n",
      "image continuous_carotid_3_Patient-01-01123.png\n",
      "image continuous_carotid_3_Patient-01-01124.png\n",
      "image continuous_carotid_3_Patient-01-01125.png\n"
     ]
    },
    {
     "name": "stderr",
     "output_type": "stream",
     "text": [
      "  2%|▏         | 33/1877 [00:00<00:44, 41.00it/s]"
     ]
    },
    {
     "name": "stdout",
     "output_type": "stream",
     "text": [
      "image continuous_carotid_3_Patient-01-01126.png\n",
      "image continuous_carotid_3_Patient-01-01127.png\n",
      "image continuous_carotid_3_Patient-01-01128.png\n",
      "image continuous_carotid_3_Patient-01-01129.png\n",
      "image continuous_carotid_3_Patient-01-01130.png\n",
      "image continuous_carotid_3_Patient-01-01131.png\n",
      "image continuous_carotid_3_Patient-01-01132.png\n",
      "image continuous_carotid_3_Patient-01-01133.png\n",
      "image continuous_carotid_3_Patient-01-01134.png\n"
     ]
    },
    {
     "name": "stderr",
     "output_type": "stream",
     "text": [
      "  2%|▏         | 43/1877 [00:01<00:44, 40.99it/s]"
     ]
    },
    {
     "name": "stdout",
     "output_type": "stream",
     "text": [
      "image continuous_carotid_3_Patient-01-01135.png\n",
      "image continuous_carotid_3_Patient-01-01136.png\n",
      "image continuous_carotid_3_Patient-01-01137.png\n",
      "image continuous_carotid_3_Patient-01-01138.png\n",
      "image continuous_carotid_3_Patient-01-01139.png\n",
      "image continuous_carotid_3_Patient-01-01140.png\n",
      "image continuous_carotid_3_Patient-01-01141.png\n",
      "image continuous_carotid_3_Patient-01-01142.png\n",
      "image continuous_carotid_3_Patient-01-01143.png\n"
     ]
    },
    {
     "name": "stderr",
     "output_type": "stream",
     "text": [
      "  3%|▎         | 48/1877 [00:01<00:44, 41.07it/s]"
     ]
    },
    {
     "name": "stdout",
     "output_type": "stream",
     "text": [
      "image continuous_carotid_3_Patient-01-01144.png\n",
      "image continuous_carotid_3_Patient-01-01145.png\n",
      "image continuous_carotid_3_Patient-01-01146.png\n",
      "image continuous_carotid_3_Patient-01-01147.png\n",
      "image continuous_carotid_3_Patient-01-01148.png\n",
      "image continuous_carotid_3_Patient-01-01149.png\n",
      "image continuous_carotid_3_Patient-01-01150.png\n",
      "image continuous_carotid_3_Patient-01-01151.png\n",
      "image continuous_carotid_3_Patient-01-01152.png\n"
     ]
    },
    {
     "name": "stderr",
     "output_type": "stream",
     "text": [
      "  3%|▎         | 58/1877 [00:01<00:44, 41.28it/s]"
     ]
    },
    {
     "name": "stdout",
     "output_type": "stream",
     "text": [
      "image continuous_carotid_3_Patient-01-01153.png\n",
      "image continuous_carotid_3_Patient-01-01154.png\n",
      "image continuous_carotid_3_Patient-01-01155.png\n",
      "image continuous_carotid_3_Patient-01-01156.png\n",
      "image continuous_carotid_3_Patient-01-01157.png\n",
      "image continuous_carotid_3_Patient-01-01158.png\n",
      "image continuous_carotid_3_Patient-01-01159.png\n",
      "image continuous_carotid_3_Patient-01-01160.png\n",
      "image continuous_carotid_3_Patient-01-01161.png\n"
     ]
    },
    {
     "name": "stderr",
     "output_type": "stream",
     "text": [
      "  4%|▎         | 68/1877 [00:01<00:43, 41.27it/s]"
     ]
    },
    {
     "name": "stdout",
     "output_type": "stream",
     "text": [
      "image continuous_carotid_3_Patient-01-01162.png\n",
      "image continuous_carotid_3_Patient-01-01163.png\n",
      "image continuous_carotid_3_Patient-01-01164.png\n",
      "image continuous_carotid_3_Patient-01-01165.png\n",
      "image continuous_carotid_3_Patient-01-01166.png\n",
      "image continuous_carotid_3_Patient-01-01167.png\n",
      "image continuous_carotid_3_Patient-01-01168.png\n",
      "image continuous_carotid_3_Patient-01-01169.png\n",
      "image continuous_carotid_3_Patient-01-01170.png\n"
     ]
    },
    {
     "name": "stderr",
     "output_type": "stream",
     "text": [
      "  4%|▍         | 78/1877 [00:01<00:43, 41.44it/s]"
     ]
    },
    {
     "name": "stdout",
     "output_type": "stream",
     "text": [
      "image continuous_carotid_3_Patient-01-01171.png\n",
      "image continuous_carotid_3_Patient-01-01172.png\n",
      "image continuous_carotid_3_Patient-01-01173.png\n",
      "image continuous_carotid_3_Patient-01-01174.png\n",
      "image continuous_carotid_3_Patient-01-01175.png\n",
      "image continuous_carotid_3_Patient-01-01176.png\n",
      "image continuous_carotid_3_Patient-01-01177.png\n",
      "image continuous_carotid_3_Patient-01-01178.png\n",
      "image continuous_carotid_3_Patient-01-01179.png\n"
     ]
    },
    {
     "name": "stderr",
     "output_type": "stream",
     "text": [
      "  5%|▍         | 88/1877 [00:02<00:43, 41.15it/s]"
     ]
    },
    {
     "name": "stdout",
     "output_type": "stream",
     "text": [
      "image continuous_carotid_3_Patient-01-01180.png\n",
      "image continuous_carotid_3_Patient-01-01181.png\n",
      "image continuous_carotid_3_Patient-01-01182.png\n",
      "image continuous_carotid_3_Patient-01-01183.png\n",
      "image continuous_carotid_3_Patient-01-01184.png\n",
      "image continuous_carotid_3_Patient-01-01185.png\n",
      "image continuous_carotid_3_Patient-01-01186.png\n",
      "image continuous_carotid_3_Patient-01-01187.png\n",
      "image continuous_carotid_3_Patient-01-01188.png\n"
     ]
    },
    {
     "name": "stderr",
     "output_type": "stream",
     "text": [
      "  5%|▍         | 93/1877 [00:02<00:43, 41.17it/s]"
     ]
    },
    {
     "name": "stdout",
     "output_type": "stream",
     "text": [
      "image continuous_carotid_3_Patient-01-01189.png\n",
      "image continuous_carotid_3_Patient-01-01190.png\n",
      "image continuous_carotid_3_Patient-01-01191.png\n",
      "image continuous_carotid_3_Patient-01-01192.png\n",
      "image continuous_carotid_3_Patient-01-01193.png\n",
      "image continuous_carotid_3_Patient-01-01194.png\n",
      "image continuous_carotid_3_Patient-01-01195.png\n",
      "image continuous_carotid_3_Patient-01-01196.png\n",
      "image continuous_carotid_3_Patient-01-01197.png\n"
     ]
    },
    {
     "name": "stderr",
     "output_type": "stream",
     "text": [
      "  5%|▌         | 103/1877 [00:02<00:42, 41.34it/s]"
     ]
    },
    {
     "name": "stdout",
     "output_type": "stream",
     "text": [
      "image continuous_carotid_3_Patient-01-01198.png\n",
      "image continuous_carotid_3_Patient-01-01199.png\n",
      "image continuous_carotid_3_Patient-01-01200.png\n",
      "image continuous_carotid_3_Patient-01-01201.png\n",
      "image continuous_carotid_3_Patient-01-01202.png\n",
      "image continuous_carotid_3_Patient-01-01203.png\n",
      "image continuous_carotid_3_Patient-01-01204.png\n",
      "image continuous_carotid_3_Patient-01-01205.png\n",
      "image continuous_carotid_3_Patient-01-01206.png\n"
     ]
    },
    {
     "name": "stderr",
     "output_type": "stream",
     "text": [
      "  6%|▌         | 113/1877 [00:02<00:42, 41.31it/s]"
     ]
    },
    {
     "name": "stdout",
     "output_type": "stream",
     "text": [
      "image continuous_carotid_3_Patient-01-01207.png\n",
      "image continuous_carotid_3_Patient-01-01208.png\n",
      "image continuous_carotid_3_Patient-01-01209.png\n",
      "image continuous_carotid_3_Patient-01-01210.png\n",
      "image continuous_carotid_3_Patient-01-01211.png\n",
      "image continuous_carotid_3_Patient-01-01212.png\n",
      "image continuous_carotid_3_Patient-01-01213.png\n",
      "image continuous_carotid_3_Patient-01-01214.png\n",
      "image continuous_carotid_3_Patient-01-01215.png\n"
     ]
    },
    {
     "name": "stderr",
     "output_type": "stream",
     "text": [
      "  7%|▋         | 123/1877 [00:02<00:42, 41.12it/s]"
     ]
    },
    {
     "name": "stdout",
     "output_type": "stream",
     "text": [
      "image continuous_carotid_3_Patient-01-01216.png\n",
      "image continuous_carotid_3_Patient-01-01217.png\n",
      "image continuous_carotid_3_Patient-01-01218.png\n",
      "image continuous_carotid_3_Patient-01-01219.png\n",
      "image continuous_carotid_3_Patient-01-01220.png\n",
      "image continuous_carotid_3_Patient-01-01221.png\n",
      "image continuous_carotid_3_Patient-01-01222.png\n",
      "image continuous_carotid_3_Patient-01-01223.png\n",
      "image continuous_carotid_3_Patient-01-01224.png\n"
     ]
    },
    {
     "name": "stderr",
     "output_type": "stream",
     "text": [
      "  7%|▋         | 133/1877 [00:03<00:42, 40.66it/s]"
     ]
    },
    {
     "name": "stdout",
     "output_type": "stream",
     "text": [
      "image continuous_carotid_3_Patient-01-01225.png\n",
      "image continuous_carotid_3_Patient-01-01226.png\n",
      "image continuous_carotid_3_Patient-01-01227.png\n",
      "image continuous_carotid_3_Patient-01-01228.png\n",
      "image continuous_carotid_3_Patient-01-01229.png\n",
      "image continuous_carotid_3_Patient-01-01230.png\n",
      "image continuous_carotid_3_Patient-01-01231.png\n",
      "image continuous_carotid_3_Patient-01-01232.png\n",
      "image continuous_carotid_3_Patient-01-01233.png\n"
     ]
    },
    {
     "name": "stderr",
     "output_type": "stream",
     "text": [
      "  7%|▋         | 138/1877 [00:03<00:42, 40.62it/s]"
     ]
    },
    {
     "name": "stdout",
     "output_type": "stream",
     "text": [
      "image continuous_carotid_3_Patient-01-01234.png\n",
      "image continuous_carotid_3_Patient-01-01235.png\n",
      "image continuous_carotid_3_Patient-01-01236.png\n",
      "image continuous_carotid_3_Patient-01-01237.png\n",
      "image continuous_carotid_3_Patient-01-01238.png\n",
      "image continuous_carotid_3_Patient-01-01239.png\n",
      "image continuous_carotid_3_Patient-01-01240.png\n",
      "image continuous_carotid_3_Patient-01-01241.png\n",
      "image continuous_carotid_3_Patient-01-01242.png\n"
     ]
    },
    {
     "name": "stderr",
     "output_type": "stream",
     "text": [
      "  8%|▊         | 148/1877 [00:03<00:42, 40.61it/s]"
     ]
    },
    {
     "name": "stdout",
     "output_type": "stream",
     "text": [
      "image continuous_carotid_3_Patient-01-01243.png\n",
      "image continuous_carotid_3_Patient-01-01244.png\n",
      "image continuous_carotid_3_Patient-01-01245.png\n",
      "image continuous_carotid_3_Patient-01-01246.png\n",
      "image continuous_carotid_3_Patient-01-01247.png\n",
      "image continuous_carotid_3_Patient-01-01248.png\n",
      "image continuous_carotid_3_Patient-01-01249.png\n",
      "image continuous_carotid_3_Patient-01-01250.png\n",
      "image continuous_carotid_3_Patient-01-01251.png\n"
     ]
    },
    {
     "name": "stderr",
     "output_type": "stream",
     "text": [
      "  8%|▊         | 158/1877 [00:03<00:41, 41.04it/s]"
     ]
    },
    {
     "name": "stdout",
     "output_type": "stream",
     "text": [
      "image continuous_carotid_3_Patient-01-01252.png\n",
      "image continuous_carotid_3_Patient-01-01253.png\n",
      "image continuous_carotid_3_Patient-01-01254.png\n",
      "image continuous_carotid_3_Patient-01-01255.png\n",
      "image continuous_carotid_3_Patient-01-01256.png\n",
      "image continuous_carotid_3_Patient-01-01257.png\n",
      "image continuous_carotid_3_Patient-01-01258.png\n",
      "image continuous_carotid_3_Patient-01-01259.png\n",
      "image continuous_carotid_3_Patient-01-01260.png\n"
     ]
    },
    {
     "name": "stderr",
     "output_type": "stream",
     "text": [
      "  9%|▉         | 168/1877 [00:04<00:41, 41.11it/s]"
     ]
    },
    {
     "name": "stdout",
     "output_type": "stream",
     "text": [
      "image continuous_carotid_3_Patient-01-01261.png\n",
      "image continuous_carotid_3_Patient-01-01262.png\n",
      "image continuous_carotid_3_Patient-01-01263.png\n",
      "image continuous_carotid_3_Patient-01-01264.png\n",
      "image continuous_carotid_3_Patient-01-01265.png\n",
      "image continuous_carotid_3_Patient-01-01266.png\n",
      "image continuous_carotid_3_Patient-01-01267.png\n",
      "image continuous_carotid_3_Patient-01-01268.png\n",
      "image continuous_carotid_3_Patient-01-01269.png\n"
     ]
    },
    {
     "name": "stderr",
     "output_type": "stream",
     "text": [
      "  9%|▉         | 178/1877 [00:04<00:41, 41.15it/s]"
     ]
    },
    {
     "name": "stdout",
     "output_type": "stream",
     "text": [
      "image continuous_carotid_3_Patient-01-01270.png\n",
      "image continuous_carotid_3_Patient-01-01271.png\n",
      "image continuous_carotid_3_Patient-01-01272.png\n",
      "image continuous_carotid_3_Patient-01-01273.png\n",
      "image continuous_carotid_3_Patient-01-01274.png\n",
      "image continuous_carotid_3_Patient-01-01275.png\n",
      "image continuous_carotid_3_Patient-01-01276.png\n",
      "image continuous_carotid_3_Patient-01-01277.png\n",
      "image continuous_carotid_3_Patient-01-01278.png\n"
     ]
    },
    {
     "name": "stderr",
     "output_type": "stream",
     "text": [
      " 10%|▉         | 183/1877 [00:04<00:41, 41.16it/s]"
     ]
    },
    {
     "name": "stdout",
     "output_type": "stream",
     "text": [
      "image continuous_carotid_3_Patient-01-01279.png\n",
      "image continuous_carotid_3_Patient-01-01280.png\n",
      "image continuous_carotid_3_Patient-01-01281.png\n",
      "image continuous_carotid_3_Patient-01-01282.png\n",
      "image continuous_carotid_3_Patient-01-01283.png\n",
      "image continuous_carotid_3_Patient-01-01284.png\n",
      "image continuous_carotid_3_Patient-01-01285.png\n",
      "image continuous_carotid_3_Patient-01-01286.png\n",
      "image continuous_carotid_3_Patient-01-01287.png\n"
     ]
    },
    {
     "name": "stderr",
     "output_type": "stream",
     "text": [
      " 10%|█         | 193/1877 [00:04<00:40, 41.14it/s]"
     ]
    },
    {
     "name": "stdout",
     "output_type": "stream",
     "text": [
      "image continuous_carotid_3_Patient-01-01288.png\n",
      "image continuous_carotid_3_Patient-01-01289.png\n",
      "image continuous_carotid_3_Patient-01-01290.png\n",
      "image continuous_carotid_3_Patient-01-01291.png\n",
      "image continuous_carotid_3_Patient-01-01292.png\n",
      "image continuous_carotid_3_Patient-01-01293.png\n",
      "image continuous_carotid_3_Patient-01-01294.png\n",
      "image continuous_carotid_3_Patient-01-01295.png\n",
      "image continuous_carotid_3_Patient-01-01296.png\n"
     ]
    },
    {
     "name": "stderr",
     "output_type": "stream",
     "text": [
      " 11%|█         | 203/1877 [00:04<00:40, 41.42it/s]"
     ]
    },
    {
     "name": "stdout",
     "output_type": "stream",
     "text": [
      "image continuous_carotid_3_Patient-01-01297.png\n",
      "image continuous_carotid_3_Patient-01-01298.png\n",
      "image continuous_carotid_3_Patient-01-01299.png\n",
      "image continuous_carotid_3_Patient-01-01300.png\n",
      "image continuous_carotid_3_Patient-01-01301.png\n",
      "image continuous_carotid_3_Patient-01-01302.png\n",
      "image continuous_carotid_3_Patient-01-01303.png\n",
      "image continuous_carotid_3_Patient-01-01304.png\n",
      "image continuous_carotid_3_Patient-01-01305.png\n"
     ]
    },
    {
     "name": "stderr",
     "output_type": "stream",
     "text": [
      " 11%|█▏        | 213/1877 [00:05<00:40, 41.55it/s]"
     ]
    },
    {
     "name": "stdout",
     "output_type": "stream",
     "text": [
      "image continuous_carotid_3_Patient-01-01306.png\n",
      "image continuous_carotid_3_Patient-01-01307.png\n",
      "image continuous_carotid_3_Patient-01-01308.png\n",
      "image continuous_carotid_3_Patient-01-01309.png\n",
      "image continuous_carotid_3_Patient-01-01310.png\n",
      "image continuous_carotid_3_Patient-01-01311.png\n",
      "image continuous_carotid_3_Patient-01-01312.png\n",
      "image continuous_carotid_3_Patient-01-01313.png\n",
      "image continuous_carotid_3_Patient-01-01314.png\n"
     ]
    },
    {
     "name": "stderr",
     "output_type": "stream",
     "text": [
      " 12%|█▏        | 223/1877 [00:05<00:39, 41.42it/s]"
     ]
    },
    {
     "name": "stdout",
     "output_type": "stream",
     "text": [
      "image continuous_carotid_3_Patient-01-01315.png\n",
      "image continuous_carotid_3_Patient-01-01316.png\n",
      "image continuous_carotid_3_Patient-01-01317.png\n",
      "image continuous_carotid_3_Patient-01-01318.png\n",
      "image continuous_carotid_3_Patient-01-01319.png\n",
      "image continuous_carotid_3_Patient-01-01320.png\n",
      "image continuous_carotid_3_Patient-01-01321.png\n",
      "image continuous_carotid_3_Patient-01-01322.png\n",
      "image continuous_carotid_3_Patient-01-01323.png\n"
     ]
    },
    {
     "name": "stderr",
     "output_type": "stream",
     "text": [
      " 12%|█▏        | 228/1877 [00:05<00:39, 41.30it/s]"
     ]
    },
    {
     "name": "stdout",
     "output_type": "stream",
     "text": [
      "image continuous_carotid_3_Patient-01-01324.png\n",
      "image continuous_carotid_3_Patient-01-01325.png\n",
      "image continuous_carotid_3_Patient-01-01326.png\n",
      "image continuous_carotid_3_Patient-01-01327.png\n",
      "image continuous_carotid_3_Patient-01-01328.png\n",
      "image continuous_carotid_3_Patient-01-01329.png\n",
      "image continuous_carotid_3_Patient-01-01330.png\n",
      "image continuous_carotid_3_Patient-01-01331.png\n",
      "image continuous_carotid_3_Patient-01-01332.png\n"
     ]
    },
    {
     "name": "stderr",
     "output_type": "stream",
     "text": [
      " 13%|█▎        | 238/1877 [00:05<00:39, 41.30it/s]"
     ]
    },
    {
     "name": "stdout",
     "output_type": "stream",
     "text": [
      "image continuous_carotid_3_Patient-01-01333.png\n",
      "image continuous_carotid_3_Patient-01-01334.png\n",
      "image continuous_carotid_3_Patient-01-01335.png\n",
      "image continuous_carotid_3_Patient-01-01336.png\n",
      "image continuous_carotid_3_Patient-01-01337.png\n",
      "image continuous_carotid_3_Patient-01-01338.png\n",
      "image continuous_carotid_3_Patient-01-01339.png\n",
      "image continuous_carotid_3_Patient-01-01340.png\n",
      "image continuous_carotid_3_Patient-01-01341.png\n"
     ]
    },
    {
     "name": "stderr",
     "output_type": "stream",
     "text": [
      " 13%|█▎        | 248/1877 [00:06<00:39, 41.65it/s]"
     ]
    },
    {
     "name": "stdout",
     "output_type": "stream",
     "text": [
      "image continuous_carotid_3_Patient-01-01342.png\n",
      "image continuous_carotid_3_Patient-01-01343.png\n",
      "image continuous_carotid_3_Patient-01-01344.png\n",
      "image continuous_carotid_3_Patient-01-01345.png\n",
      "image continuous_carotid_3_Patient-01-01346.png\n",
      "image continuous_carotid_3_Patient-01-01347.png\n",
      "image continuous_carotid_3_Patient-01-01348.png\n",
      "image continuous_carotid_3_Patient-01-01349.png\n",
      "image continuous_carotid_3_Patient-01-01350.png\n"
     ]
    },
    {
     "name": "stderr",
     "output_type": "stream",
     "text": [
      " 14%|█▎        | 258/1877 [00:06<00:38, 41.65it/s]"
     ]
    },
    {
     "name": "stdout",
     "output_type": "stream",
     "text": [
      "image continuous_carotid_3_Patient-01-01351.png\n",
      "image continuous_carotid_3_Patient-01-01352.png\n",
      "image continuous_carotid_3_Patient-01-01353.png\n",
      "image continuous_carotid_3_Patient-01-01354.png\n",
      "image continuous_carotid_3_Patient-01-01355.png\n",
      "image continuous_carotid_3_Patient-01-01356.png\n",
      "image continuous_carotid_3_Patient-01-01357.png\n",
      "image continuous_carotid_3_Patient-01-01358.png\n",
      "image continuous_carotid_3_Patient-01-01359.png\n"
     ]
    },
    {
     "name": "stderr",
     "output_type": "stream",
     "text": [
      " 14%|█▍        | 268/1877 [00:06<00:38, 41.67it/s]"
     ]
    },
    {
     "name": "stdout",
     "output_type": "stream",
     "text": [
      "image continuous_carotid_3_Patient-01-01360.png\n",
      "image continuous_carotid_3_Patient-01-01361.png\n",
      "image continuous_carotid_3_Patient-01-01362.png\n",
      "image continuous_carotid_3_Patient-01-01363.png\n",
      "image continuous_carotid_3_Patient-01-01364.png\n",
      "image continuous_carotid_3_Patient-01-01365.png\n",
      "image continuous_carotid_3_Patient-01-01366.png\n",
      "image continuous_carotid_3_Patient-01-01367.png\n",
      "image continuous_carotid_3_Patient-01-01368.png\n"
     ]
    },
    {
     "name": "stderr",
     "output_type": "stream",
     "text": [
      " 15%|█▍        | 273/1877 [00:06<00:38, 41.40it/s]"
     ]
    },
    {
     "name": "stdout",
     "output_type": "stream",
     "text": [
      "image continuous_carotid_3_Patient-01-01369.png\n",
      "image continuous_carotid_3_Patient-01-01370.png\n",
      "image continuous_carotid_3_Patient-01-01371.png\n",
      "image continuous_carotid_3_Patient-01-01372.png\n",
      "image continuous_carotid_3_Patient-01-01373.png\n",
      "image continuous_carotid_3_Patient-01-01374.png\n",
      "image continuous_carotid_3_Patient-01-01375.png\n",
      "image continuous_carotid_3_Patient-01-01376.png\n",
      "image continuous_carotid_3_Patient-01-01377.png\n"
     ]
    },
    {
     "name": "stderr",
     "output_type": "stream",
     "text": [
      " 15%|█▌        | 283/1877 [00:06<00:38, 41.49it/s]"
     ]
    },
    {
     "name": "stdout",
     "output_type": "stream",
     "text": [
      "image continuous_carotid_3_Patient-01-01378.png\n",
      "image continuous_carotid_3_Patient-01-01379.png\n",
      "image continuous_carotid_3_Patient-01-01380.png\n",
      "image continuous_carotid_3_Patient-01-01381.png\n",
      "image continuous_carotid_3_Patient-01-01382.png\n",
      "image continuous_carotid_3_Patient-01-01383.png\n",
      "image continuous_carotid_3_Patient-01-01384.png\n",
      "image continuous_carotid_3_Patient-01-01385.png\n",
      "image continuous_carotid_3_Patient-01-01386.png\n"
     ]
    },
    {
     "name": "stderr",
     "output_type": "stream",
     "text": [
      " 16%|█▌        | 293/1877 [00:07<00:38, 41.53it/s]"
     ]
    },
    {
     "name": "stdout",
     "output_type": "stream",
     "text": [
      "image continuous_carotid_3_Patient-01-01387.png\n",
      "image continuous_carotid_3_Patient-01-01388.png\n",
      "image continuous_carotid_3_Patient-01-01389.png\n",
      "image continuous_carotid_3_Patient-01-01390.png\n",
      "image continuous_carotid_3_Patient-01-01391.png\n",
      "image continuous_carotid_3_Patient-01-01392.png\n",
      "image continuous_carotid_3_Patient-01-01393.png\n",
      "image continuous_carotid_3_Patient-01-01394.png\n",
      "image continuous_carotid_3_Patient-01-01395.png\n"
     ]
    },
    {
     "name": "stderr",
     "output_type": "stream",
     "text": [
      " 16%|█▌        | 303/1877 [00:07<00:38, 41.21it/s]"
     ]
    },
    {
     "name": "stdout",
     "output_type": "stream",
     "text": [
      "image continuous_carotid_3_Patient-01-01396.png\n",
      "image continuous_carotid_3_Patient-01-01397.png\n",
      "image continuous_carotid_3_Patient-01-01398.png\n",
      "image continuous_carotid_3_Patient-01-01399.png\n",
      "image continuous_carotid_3_Patient-01-01400.png\n",
      "image continuous_carotid_3_Patient-01-01401.png\n",
      "image continuous_carotid_3_Patient-01-01402.png\n",
      "image continuous_carotid_3_Patient-01-01403.png\n",
      "image continuous_carotid_3_Patient-01-01404.png\n"
     ]
    },
    {
     "name": "stderr",
     "output_type": "stream",
     "text": [
      " 17%|█▋        | 313/1877 [00:07<00:38, 41.05it/s]"
     ]
    },
    {
     "name": "stdout",
     "output_type": "stream",
     "text": [
      "image continuous_carotid_3_Patient-01-01405.png\n",
      "image continuous_carotid_3_Patient-01-01406.png\n",
      "image continuous_carotid_3_Patient-01-01407.png\n",
      "image continuous_carotid_3_Patient-01-01408.png\n",
      "image continuous_carotid_3_Patient-01-01409.png\n",
      "image continuous_carotid_3_Patient-01-01410.png\n",
      "image continuous_carotid_3_Patient-01-01411.png\n",
      "image continuous_carotid_3_Patient-01-01412.png\n",
      "image continuous_carotid_3_Patient-01-01413.png\n"
     ]
    },
    {
     "name": "stderr",
     "output_type": "stream",
     "text": [
      " 17%|█▋        | 318/1877 [00:07<00:37, 41.24it/s]"
     ]
    },
    {
     "name": "stdout",
     "output_type": "stream",
     "text": [
      "image continuous_carotid_3_Patient-01-01414.png\n",
      "image continuous_carotid_3_Patient-01-01415.png\n",
      "image continuous_carotid_3_Patient-01-01416.png\n",
      "image continuous_carotid_3_Patient-01-01417.png\n",
      "image continuous_carotid_3_Patient-01-01418.png\n",
      "image continuous_carotid_3_Patient-01-01419.png\n",
      "image continuous_carotid_3_Patient-01-01420.png\n",
      "image continuous_carotid_3_Patient-01-01421.png\n",
      "image continuous_carotid_3_Patient-01-01422.png\n"
     ]
    },
    {
     "name": "stderr",
     "output_type": "stream",
     "text": [
      " 17%|█▋        | 328/1877 [00:07<00:37, 41.31it/s]"
     ]
    },
    {
     "name": "stdout",
     "output_type": "stream",
     "text": [
      "image continuous_carotid_3_Patient-01-01423.png\n",
      "image continuous_carotid_3_Patient-01-01424.png\n",
      "image continuous_carotid_3_Patient-01-01425.png\n",
      "image continuous_carotid_3_Patient-01-01426.png\n",
      "image continuous_carotid_3_Patient-01-01427.png\n",
      "image continuous_carotid_3_Patient-01-01428.png\n",
      "image continuous_carotid_3_Patient-01-01429.png\n",
      "image continuous_carotid_3_Patient-01-01430.png\n",
      "image continuous_carotid_3_Patient-01-01431.png\n"
     ]
    },
    {
     "name": "stderr",
     "output_type": "stream",
     "text": [
      " 18%|█▊        | 338/1877 [00:08<00:37, 41.19it/s]"
     ]
    },
    {
     "name": "stdout",
     "output_type": "stream",
     "text": [
      "image continuous_carotid_3_Patient-01-01432.png\n",
      "image continuous_carotid_3_Patient-01-01433.png\n",
      "image continuous_carotid_3_Patient-01-01434.png\n",
      "image continuous_carotid_3_Patient-01-01435.png\n",
      "image continuous_carotid_3_Patient-01-01436.png\n",
      "image continuous_carotid_3_Patient-01-01437.png\n",
      "image continuous_carotid_3_Patient-01-01438.png\n",
      "image continuous_carotid_3_Patient-01-01439.png\n",
      "image continuous_carotid_3_Patient-01-01440.png\n"
     ]
    },
    {
     "name": "stderr",
     "output_type": "stream",
     "text": [
      " 19%|█▊        | 348/1877 [00:08<00:37, 40.92it/s]"
     ]
    },
    {
     "name": "stdout",
     "output_type": "stream",
     "text": [
      "image continuous_carotid_3_Patient-01-01441.png\n",
      "image continuous_carotid_3_Patient-01-01442.png\n",
      "image continuous_carotid_3_Patient-01-01443.png\n",
      "image continuous_carotid_3_Patient-01-01444.png\n",
      "image continuous_carotid_3_Patient-01-01445.png\n",
      "image continuous_carotid_3_Patient-01-01446.png\n",
      "image continuous_carotid_3_Patient-01-01447.png\n",
      "image continuous_carotid_3_Patient-01-01448.png\n",
      "image continuous_carotid_3_Patient-01-01449.png\n"
     ]
    },
    {
     "name": "stderr",
     "output_type": "stream",
     "text": [
      " 19%|█▉        | 358/1877 [00:08<00:36, 41.12it/s]"
     ]
    },
    {
     "name": "stdout",
     "output_type": "stream",
     "text": [
      "image continuous_carotid_3_Patient-01-01450.png\n",
      "image continuous_carotid_3_Patient-01-01451.png\n",
      "image continuous_carotid_3_Patient-01-01452.png\n",
      "image continuous_carotid_3_Patient-01-01453.png\n",
      "image continuous_carotid_3_Patient-01-01454.png\n",
      "image continuous_carotid_3_Patient-01-01455.png\n",
      "image continuous_carotid_3_Patient-01-01456.png\n",
      "image continuous_carotid_3_Patient-01-01457.png\n",
      "image continuous_carotid_3_Patient-01-01458.png\n"
     ]
    },
    {
     "name": "stderr",
     "output_type": "stream",
     "text": [
      " 19%|█▉        | 363/1877 [00:08<00:42, 35.50it/s]"
     ]
    },
    {
     "name": "stdout",
     "output_type": "stream",
     "text": [
      "image continuous_carotid_3_Patient-01-01459.png\n",
      "image continuous_carotid_3_Patient-01-01460.png\n",
      "image continuous_carotid_3_Patient-01-01461.png\n",
      "image continuous_carotid_3_Patient-01-01462.png\n"
     ]
    },
    {
     "name": "stderr",
     "output_type": "stream",
     "text": [
      " 20%|█▉        | 367/1877 [00:09<00:48, 31.36it/s]"
     ]
    },
    {
     "name": "stdout",
     "output_type": "stream",
     "text": [
      "image continuous_carotid_3_Patient-01-01463.png\n",
      "image continuous_carotid_3_Patient-01-01464.png\n",
      "image continuous_carotid_3_Patient-01-01465.png\n",
      "image continuous_carotid_3_Patient-01-01466.png\n",
      "image continuous_carotid_3_Patient-01-01467.png\n",
      "image continuous_carotid_3_Patient-01-01468.png\n",
      "image continuous_carotid_3_Patient-01-01469.png\n",
      "image continuous_carotid_3_Patient-01-01470.png\n"
     ]
    },
    {
     "name": "stderr",
     "output_type": "stream",
     "text": [
      " 20%|██        | 377/1877 [00:09<00:41, 36.02it/s]"
     ]
    },
    {
     "name": "stdout",
     "output_type": "stream",
     "text": [
      "image continuous_carotid_3_Patient-01-01471.png\n",
      "image continuous_carotid_3_Patient-01-01472.png\n",
      "image continuous_carotid_3_Patient-01-01473.png\n",
      "image continuous_carotid_3_Patient-01-01474.png\n",
      "image continuous_carotid_3_Patient-01-01475.png\n",
      "image continuous_carotid_3_Patient-01-01476.png\n",
      "image continuous_carotid_3_Patient-01-01477.png\n",
      "image continuous_carotid_3_Patient-01-01478.png\n",
      "image continuous_carotid_3_Patient-01-01479.png\n"
     ]
    },
    {
     "name": "stderr",
     "output_type": "stream",
     "text": [
      " 21%|██        | 387/1877 [00:09<00:38, 38.73it/s]"
     ]
    },
    {
     "name": "stdout",
     "output_type": "stream",
     "text": [
      "image continuous_carotid_3_Patient-01-01480.png\n",
      "image continuous_carotid_3_Patient-01-01481.png\n",
      "image continuous_carotid_3_Patient-01-01482.png\n",
      "image continuous_carotid_3_Patient-01-01483.png\n",
      "image continuous_carotid_3_Patient-01-01484.png\n",
      "image continuous_carotid_3_Patient-01-01485.png\n",
      "image continuous_carotid_3_Patient-01-01486.png\n",
      "image continuous_carotid_3_Patient-01-01487.png\n",
      "image continuous_carotid_3_Patient-01-01488.png\n"
     ]
    },
    {
     "name": "stderr",
     "output_type": "stream",
     "text": [
      " 21%|██        | 397/1877 [00:09<00:36, 40.06it/s]"
     ]
    },
    {
     "name": "stdout",
     "output_type": "stream",
     "text": [
      "image continuous_carotid_3_Patient-01-01489.png\n",
      "image continuous_carotid_3_Patient-01-01490.png\n",
      "image continuous_carotid_3_Patient-01-01491.png\n",
      "image continuous_carotid_3_Patient-01-01492.png\n",
      "image continuous_carotid_3_Patient-01-01493.png\n",
      "image continuous_carotid_3_Patient-01-01494.png\n",
      "image continuous_carotid_3_Patient-01-01495.png\n",
      "image continuous_carotid_3_Patient-01-01496.png\n",
      "image continuous_carotid_3_Patient-01-01497.png\n"
     ]
    },
    {
     "name": "stderr",
     "output_type": "stream",
     "text": [
      " 21%|██▏       | 402/1877 [00:09<00:36, 40.55it/s]"
     ]
    },
    {
     "name": "stdout",
     "output_type": "stream",
     "text": [
      "image continuous_carotid_3_Patient-01-01498.png\n",
      "image continuous_carotid_3_Patient-01-01499.png\n",
      "image continuous_carotid_3_Patient-01-01500.png\n",
      "image continuous_carotid_3_Patient-01-01501.png\n",
      "image continuous_carotid_3_Patient-01-01502.png\n",
      "image continuous_carotid_3_Patient-01-01503.png\n",
      "image continuous_carotid_3_Patient-01-01504.png\n",
      "image continuous_carotid_3_Patient-01-01505.png\n",
      "image continuous_carotid_3_Patient-01-01506.png\n"
     ]
    },
    {
     "name": "stderr",
     "output_type": "stream",
     "text": [
      " 22%|██▏       | 412/1877 [00:10<00:35, 40.90it/s]"
     ]
    },
    {
     "name": "stdout",
     "output_type": "stream",
     "text": [
      "image continuous_carotid_3_Patient-01-01507.png\n",
      "image continuous_carotid_3_Patient-01-01508.png\n",
      "image continuous_carotid_3_Patient-01-01509.png\n",
      "image continuous_carotid_3_Patient-01-01510.png\n",
      "image continuous_carotid_3_Patient-01-01511.png\n",
      "image continuous_carotid_3_Patient-01-01512.png\n",
      "image continuous_carotid_3_Patient-01-01513.png\n",
      "image continuous_carotid_3_Patient-01-01514.png\n",
      "image continuous_carotid_3_Patient-01-01515.png\n"
     ]
    },
    {
     "name": "stderr",
     "output_type": "stream",
     "text": [
      " 22%|██▏       | 422/1877 [00:10<00:35, 41.43it/s]"
     ]
    },
    {
     "name": "stdout",
     "output_type": "stream",
     "text": [
      "image continuous_carotid_3_Patient-01-01516.png\n",
      "image continuous_carotid_3_Patient-01-01517.png\n",
      "image continuous_carotid_3_Patient-01-01518.png\n",
      "image continuous_carotid_3_Patient-01-01519.png\n",
      "image continuous_carotid_3_Patient-01-01520.png\n",
      "image continuous_carotid_3_Patient-01-01521.png\n",
      "image continuous_carotid_3_Patient-01-01522.png\n",
      "image continuous_carotid_3_Patient-01-01523.png\n",
      "image continuous_carotid_3_Patient-01-01524.png\n"
     ]
    },
    {
     "name": "stderr",
     "output_type": "stream",
     "text": [
      " 23%|██▎       | 432/1877 [00:10<00:34, 41.61it/s]"
     ]
    },
    {
     "name": "stdout",
     "output_type": "stream",
     "text": [
      "image continuous_carotid_3_Patient-01-01525.png\n",
      "image continuous_carotid_3_Patient-01-01526.png\n",
      "image continuous_carotid_3_Patient-01-01527.png\n",
      "image continuous_carotid_3_Patient-01-01528.png\n",
      "image continuous_carotid_3_Patient-01-01529.png\n",
      "image continuous_carotid_3_Patient-01-01530.png\n",
      "image continuous_carotid_3_Patient-01-01531.png\n",
      "image continuous_carotid_3_Patient-01-01532.png\n",
      "image continuous_carotid_3_Patient-01-01533.png\n"
     ]
    },
    {
     "name": "stderr",
     "output_type": "stream",
     "text": [
      " 24%|██▎       | 442/1877 [00:10<00:34, 41.78it/s]"
     ]
    },
    {
     "name": "stdout",
     "output_type": "stream",
     "text": [
      "image continuous_carotid_3_Patient-01-01534.png\n",
      "image continuous_carotid_3_Patient-01-01535.png\n",
      "image continuous_carotid_3_Patient-01-01536.png\n",
      "image continuous_carotid_3_Patient-01-01537.png\n",
      "image continuous_carotid_3_Patient-01-01538.png\n",
      "image continuous_carotid_3_Patient-01-01539.png\n",
      "image continuous_carotid_3_Patient-01-01540.png\n",
      "image continuous_carotid_4_Patient-01-02100.png\n",
      "image continuous_carotid_4_Patient-01-02101.png\n"
     ]
    },
    {
     "name": "stderr",
     "output_type": "stream",
     "text": [
      " 24%|██▍       | 447/1877 [00:10<00:34, 41.77it/s]"
     ]
    },
    {
     "name": "stdout",
     "output_type": "stream",
     "text": [
      "image continuous_carotid_4_Patient-01-02102.png\n",
      "image continuous_carotid_4_Patient-01-02103.png\n",
      "image continuous_carotid_4_Patient-01-02104.png\n",
      "image continuous_carotid_4_Patient-01-02105.png\n",
      "image continuous_carotid_4_Patient-01-02106.png\n",
      "image continuous_carotid_4_Patient-01-02107.png\n",
      "image continuous_carotid_4_Patient-01-02108.png\n",
      "image continuous_carotid_4_Patient-01-02109.png\n",
      "image continuous_carotid_4_Patient-01-02110.png\n"
     ]
    },
    {
     "name": "stderr",
     "output_type": "stream",
     "text": [
      " 24%|██▍       | 457/1877 [00:11<00:33, 42.73it/s]"
     ]
    },
    {
     "name": "stdout",
     "output_type": "stream",
     "text": [
      "image continuous_carotid_4_Patient-01-02111.png\n",
      "image continuous_carotid_4_Patient-01-02112.png\n",
      "image continuous_carotid_4_Patient-01-02113.png\n",
      "image continuous_carotid_4_Patient-01-02114.png\n",
      "image continuous_carotid_4_Patient-01-02115.png\n",
      "image continuous_carotid_4_Patient-01-02116.png\n",
      "image continuous_carotid_4_Patient-01-02117.png\n",
      "image continuous_carotid_4_Patient-01-02118.png\n",
      "image continuous_carotid_4_Patient-01-02119.png\n"
     ]
    },
    {
     "name": "stderr",
     "output_type": "stream",
     "text": [
      " 25%|██▍       | 467/1877 [00:11<00:32, 43.23it/s]"
     ]
    },
    {
     "name": "stdout",
     "output_type": "stream",
     "text": [
      "image continuous_carotid_4_Patient-01-02120.png\n",
      "image continuous_carotid_4_Patient-01-02121.png\n",
      "image continuous_carotid_4_Patient-01-02122.png\n",
      "image continuous_carotid_4_Patient-01-02123.png\n",
      "image continuous_carotid_4_Patient-01-02124.png\n",
      "image continuous_carotid_4_Patient-01-02125.png\n",
      "image continuous_carotid_4_Patient-01-02126.png\n",
      "image continuous_carotid_4_Patient-01-02127.png\n",
      "image continuous_carotid_4_Patient-01-02128.png\n"
     ]
    },
    {
     "name": "stderr",
     "output_type": "stream",
     "text": [
      " 25%|██▌       | 477/1877 [00:11<00:32, 43.40it/s]"
     ]
    },
    {
     "name": "stdout",
     "output_type": "stream",
     "text": [
      "image continuous_carotid_4_Patient-01-02129.png\n",
      "image continuous_carotid_4_Patient-01-02130.png\n",
      "image continuous_carotid_4_Patient-01-02131.png\n",
      "image continuous_carotid_4_Patient-01-02132.png\n",
      "image continuous_carotid_4_Patient-01-02133.png\n",
      "image continuous_carotid_4_Patient-01-02134.png\n",
      "image continuous_carotid_4_Patient-01-02135.png\n",
      "image continuous_carotid_4_Patient-01-02136.png\n",
      "image continuous_carotid_4_Patient-01-02137.png\n"
     ]
    },
    {
     "name": "stderr",
     "output_type": "stream",
     "text": [
      " 26%|██▌       | 487/1877 [00:11<00:31, 43.52it/s]"
     ]
    },
    {
     "name": "stdout",
     "output_type": "stream",
     "text": [
      "image continuous_carotid_4_Patient-01-02138.png\n",
      "image continuous_carotid_4_Patient-01-02139.png\n",
      "image continuous_carotid_4_Patient-01-02140.png\n",
      "image continuous_carotid_4_Patient-01-02141.png\n",
      "image continuous_carotid_4_Patient-01-02142.png\n",
      "image continuous_carotid_4_Patient-01-02143.png\n",
      "image continuous_carotid_4_Patient-01-02144.png\n",
      "image continuous_carotid_4_Patient-01-02145.png\n",
      "image continuous_carotid_4_Patient-01-02146.png\n"
     ]
    },
    {
     "name": "stderr",
     "output_type": "stream",
     "text": [
      " 26%|██▌       | 492/1877 [00:12<00:31, 43.70it/s]"
     ]
    },
    {
     "name": "stdout",
     "output_type": "stream",
     "text": [
      "image continuous_carotid_4_Patient-01-02147.png\n",
      "image continuous_carotid_4_Patient-01-02148.png\n",
      "image continuous_carotid_4_Patient-01-02149.png\n",
      "image continuous_carotid_4_Patient-01-02150.png\n",
      "image continuous_carotid_4_Patient-01-02151.png\n",
      "image continuous_carotid_4_Patient-01-02152.png\n",
      "image continuous_carotid_4_Patient-01-02153.png\n",
      "image continuous_carotid_4_Patient-01-02154.png\n",
      "image continuous_carotid_4_Patient-01-02155.png\n"
     ]
    },
    {
     "name": "stderr",
     "output_type": "stream",
     "text": [
      " 27%|██▋       | 502/1877 [00:12<00:31, 43.81it/s]"
     ]
    },
    {
     "name": "stdout",
     "output_type": "stream",
     "text": [
      "image continuous_carotid_4_Patient-01-02156.png\n",
      "image continuous_carotid_4_Patient-01-02157.png\n",
      "image continuous_carotid_4_Patient-01-02158.png\n",
      "image continuous_carotid_4_Patient-01-02159.png\n",
      "image continuous_carotid_4_Patient-01-02160.png\n",
      "image continuous_carotid_4_Patient-01-02161.png\n",
      "image continuous_carotid_4_Patient-01-02162.png\n",
      "image continuous_carotid_4_Patient-01-02163.png\n",
      "image continuous_carotid_4_Patient-01-02164.png\n"
     ]
    },
    {
     "name": "stderr",
     "output_type": "stream",
     "text": [
      " 27%|██▋       | 512/1877 [00:12<00:31, 43.81it/s]"
     ]
    },
    {
     "name": "stdout",
     "output_type": "stream",
     "text": [
      "image continuous_carotid_4_Patient-01-02165.png\n",
      "image continuous_carotid_4_Patient-01-02166.png\n",
      "image continuous_carotid_4_Patient-01-02167.png\n",
      "image continuous_carotid_4_Patient-01-02168.png\n",
      "image continuous_carotid_4_Patient-01-02169.png\n",
      "image continuous_carotid_4_Patient-01-02170.png\n",
      "image continuous_carotid_4_Patient-01-02171.png\n",
      "image continuous_carotid_4_Patient-01-02172.png\n",
      "image continuous_carotid_4_Patient-01-02173.png\n"
     ]
    },
    {
     "name": "stderr",
     "output_type": "stream",
     "text": [
      " 28%|██▊       | 522/1877 [00:12<00:30, 43.75it/s]"
     ]
    },
    {
     "name": "stdout",
     "output_type": "stream",
     "text": [
      "image continuous_carotid_4_Patient-01-02174.png\n",
      "image continuous_carotid_4_Patient-01-02175.png\n",
      "image continuous_carotid_4_Patient-01-02176.png\n",
      "image continuous_carotid_4_Patient-01-02177.png\n",
      "image continuous_carotid_4_Patient-01-02178.png\n",
      "image continuous_carotid_4_Patient-01-02179.png\n",
      "image continuous_carotid_4_Patient-01-02180.png\n",
      "image continuous_carotid_4_Patient-01-02181.png\n",
      "image continuous_carotid_4_Patient-01-02182.png\n"
     ]
    },
    {
     "name": "stderr",
     "output_type": "stream",
     "text": [
      " 28%|██▊       | 532/1877 [00:12<00:30, 43.94it/s]"
     ]
    },
    {
     "name": "stdout",
     "output_type": "stream",
     "text": [
      "image continuous_carotid_4_Patient-01-02183.png\n",
      "image continuous_carotid_4_Patient-01-02184.png\n",
      "image continuous_carotid_4_Patient-01-02185.png\n",
      "image continuous_carotid_4_Patient-01-02186.png\n",
      "image continuous_carotid_4_Patient-01-02187.png\n",
      "image continuous_carotid_4_Patient-01-02188.png\n",
      "image continuous_carotid_4_Patient-01-02189.png\n",
      "image continuous_carotid_4_Patient-01-02190.png\n",
      "image continuous_carotid_4_Patient-01-02191.png\n"
     ]
    },
    {
     "name": "stderr",
     "output_type": "stream",
     "text": [
      " 29%|██▊       | 537/1877 [00:13<00:30, 44.04it/s]"
     ]
    },
    {
     "name": "stdout",
     "output_type": "stream",
     "text": [
      "image continuous_carotid_4_Patient-01-02192.png\n",
      "image continuous_carotid_4_Patient-01-02193.png\n",
      "image continuous_carotid_4_Patient-01-02194.png\n",
      "image continuous_carotid_4_Patient-01-02195.png\n",
      "image continuous_carotid_4_Patient-01-02196.png\n",
      "image continuous_carotid_4_Patient-01-02197.png\n",
      "image continuous_carotid_4_Patient-01-02198.png\n",
      "image continuous_carotid_4_Patient-01-02199.png\n",
      "image continuous_carotid_4_Patient-01-02200.png\n"
     ]
    },
    {
     "name": "stderr",
     "output_type": "stream",
     "text": [
      " 29%|██▉       | 547/1877 [00:13<00:31, 42.54it/s]"
     ]
    },
    {
     "name": "stdout",
     "output_type": "stream",
     "text": [
      "image continuous_carotid_4_Patient-01-02201.png\n",
      "image continuous_carotid_4_Patient-01-02202.png\n",
      "image continuous_carotid_4_Patient-01-02203.png\n",
      "image continuous_carotid_4_Patient-01-02204.png\n",
      "image continuous_carotid_4_Patient-01-02205.png\n",
      "image continuous_carotid_4_Patient-01-02206.png\n",
      "image continuous_carotid_4_Patient-01-02207.png\n",
      "image continuous_carotid_4_Patient-01-02208.png\n",
      "image continuous_carotid_4_Patient-01-02209.png\n"
     ]
    },
    {
     "name": "stderr",
     "output_type": "stream",
     "text": [
      " 30%|██▉       | 557/1877 [00:13<00:31, 42.32it/s]"
     ]
    },
    {
     "name": "stdout",
     "output_type": "stream",
     "text": [
      "image continuous_carotid_4_Patient-01-02210.png\n",
      "image continuous_carotid_4_Patient-01-02211.png\n",
      "image continuous_carotid_4_Patient-01-02212.png\n",
      "image continuous_carotid_4_Patient-01-02213.png\n",
      "image continuous_carotid_4_Patient-01-02214.png\n",
      "image continuous_carotid_4_Patient-01-02215.png\n",
      "image continuous_carotid_4_Patient-01-02216.png\n",
      "image continuous_carotid_4_Patient-01-02217.png\n",
      "image continuous_carotid_4_Patient-01-02218.png\n"
     ]
    },
    {
     "name": "stderr",
     "output_type": "stream",
     "text": [
      " 30%|███       | 567/1877 [00:13<00:30, 43.21it/s]"
     ]
    },
    {
     "name": "stdout",
     "output_type": "stream",
     "text": [
      "image continuous_carotid_4_Patient-01-02219.png\n",
      "image continuous_carotid_4_Patient-01-02220.png\n",
      "image continuous_carotid_4_Patient-01-02221.png\n",
      "image continuous_carotid_4_Patient-01-02222.png\n",
      "image continuous_carotid_4_Patient-01-02223.png\n",
      "image continuous_carotid_4_Patient-01-02224.png\n",
      "image continuous_carotid_4_Patient-01-02225.png\n",
      "image continuous_carotid_4_Patient-01-02226.png\n",
      "image continuous_carotid_4_Patient-01-02227.png\n"
     ]
    },
    {
     "name": "stderr",
     "output_type": "stream",
     "text": [
      " 31%|███       | 577/1877 [00:13<00:29, 44.16it/s]"
     ]
    },
    {
     "name": "stdout",
     "output_type": "stream",
     "text": [
      "image continuous_carotid_4_Patient-01-02228.png\n",
      "image continuous_carotid_4_Patient-01-02229.png\n",
      "image continuous_carotid_4_Patient-01-02230.png\n",
      "image continuous_carotid_4_Patient-01-02231.png\n",
      "image continuous_carotid_4_Patient-01-02232.png\n",
      "image continuous_carotid_4_Patient-01-02233.png\n",
      "image continuous_carotid_4_Patient-01-02234.png\n",
      "image continuous_carotid_4_Patient-01-02235.png\n",
      "image continuous_carotid_4_Patient-01-02236.png\n",
      "image continuous_carotid_4_Patient-01-02237.png\n"
     ]
    },
    {
     "name": "stderr",
     "output_type": "stream",
     "text": [
      " 31%|███▏      | 587/1877 [00:14<00:29, 44.26it/s]"
     ]
    },
    {
     "name": "stdout",
     "output_type": "stream",
     "text": [
      "image continuous_carotid_4_Patient-01-02238.png\n",
      "image continuous_carotid_4_Patient-01-02239.png\n",
      "image continuous_carotid_4_Patient-01-02240.png\n",
      "image continuous_carotid_4_Patient-01-02241.png\n",
      "image continuous_carotid_4_Patient-01-02242.png\n",
      "image continuous_carotid_4_Patient-01-02243.png\n",
      "image continuous_carotid_4_Patient-01-02244.png\n",
      "image continuous_carotid_4_Patient-01-02245.png\n",
      "image continuous_carotid_4_Patient-01-02246.png\n"
     ]
    },
    {
     "name": "stderr",
     "output_type": "stream",
     "text": [
      " 32%|███▏      | 597/1877 [00:14<00:28, 44.61it/s]"
     ]
    },
    {
     "name": "stdout",
     "output_type": "stream",
     "text": [
      "image continuous_carotid_4_Patient-01-02247.png\n",
      "image continuous_carotid_4_Patient-01-02248.png\n",
      "image continuous_carotid_4_Patient-01-02249.png\n",
      "image continuous_carotid_4_Patient-01-02250.png\n",
      "image continuous_carotid_4_Patient-01-02251.png\n",
      "image continuous_carotid_4_Patient-01-02252.png\n",
      "image continuous_carotid_4_Patient-01-02253.png\n",
      "image continuous_carotid_4_Patient-01-02254.png\n",
      "image continuous_carotid_4_Patient-01-02255.png\n",
      "image continuous_carotid_4_Patient-01-02256.png\n"
     ]
    },
    {
     "name": "stderr",
     "output_type": "stream",
     "text": [
      " 32%|███▏      | 607/1877 [00:14<00:28, 44.69it/s]"
     ]
    },
    {
     "name": "stdout",
     "output_type": "stream",
     "text": [
      "image continuous_carotid_4_Patient-01-02257.png\n",
      "image continuous_carotid_4_Patient-01-02258.png\n",
      "image continuous_carotid_4_Patient-01-02259.png\n",
      "image continuous_carotid_4_Patient-01-02260.png\n",
      "image continuous_carotid_4_Patient-01-02261.png\n",
      "image continuous_carotid_4_Patient-01-02262.png\n",
      "image continuous_carotid_4_Patient-01-02263.png\n",
      "image continuous_carotid_4_Patient-01-02264.png\n",
      "image continuous_carotid_4_Patient-01-02265.png\n",
      "image continuous_carotid_4_Patient-01-02266.png\n"
     ]
    },
    {
     "name": "stderr",
     "output_type": "stream",
     "text": [
      " 33%|███▎      | 617/1877 [00:14<00:28, 44.50it/s]"
     ]
    },
    {
     "name": "stdout",
     "output_type": "stream",
     "text": [
      "image continuous_carotid_4_Patient-01-02267.png\n",
      "image continuous_carotid_4_Patient-01-02268.png\n",
      "image continuous_carotid_4_Patient-01-02269.png\n",
      "image continuous_carotid_4_Patient-01-02270.png\n",
      "image continuous_carotid_4_Patient-01-02271.png\n",
      "image continuous_carotid_4_Patient-01-02272.png\n",
      "image continuous_carotid_4_Patient-01-02273.png\n",
      "image continuous_carotid_4_Patient-01-02274.png\n",
      "image continuous_carotid_4_Patient-01-02275.png\n",
      "image continuous_carotid_4_Patient-01-02276.png\n"
     ]
    },
    {
     "name": "stderr",
     "output_type": "stream",
     "text": [
      " 33%|███▎      | 627/1877 [00:15<00:27, 44.71it/s]"
     ]
    },
    {
     "name": "stdout",
     "output_type": "stream",
     "text": [
      "image continuous_carotid_4_Patient-01-02277.png\n",
      "image continuous_carotid_4_Patient-01-02278.png\n",
      "image continuous_carotid_4_Patient-01-02279.png\n",
      "image continuous_carotid_4_Patient-01-02280.png\n",
      "image continuous_carotid_4_Patient-01-02281.png\n",
      "image continuous_carotid_4_Patient-01-02282.png\n",
      "image continuous_carotid_4_Patient-01-02283.png\n",
      "image continuous_carotid_4_Patient-01-02284.png\n",
      "image continuous_carotid_4_Patient-01-02285.png\n",
      "image continuous_carotid_4_Patient-01-02286.png\n"
     ]
    },
    {
     "name": "stderr",
     "output_type": "stream",
     "text": [
      " 34%|███▍      | 637/1877 [00:15<00:27, 44.76it/s]"
     ]
    },
    {
     "name": "stdout",
     "output_type": "stream",
     "text": [
      "image continuous_carotid_4_Patient-01-02287.png\n",
      "image continuous_carotid_4_Patient-01-02288.png\n",
      "image continuous_carotid_4_Patient-01-02289.png\n",
      "image continuous_carotid_4_Patient-01-02290.png\n",
      "image continuous_carotid_4_Patient-01-02291.png\n",
      "image continuous_carotid_4_Patient-01-02292.png\n",
      "image continuous_carotid_4_Patient-01-02293.png\n",
      "image continuous_carotid_4_Patient-01-02294.png\n",
      "image continuous_carotid_4_Patient-01-02295.png\n",
      "image continuous_carotid_4_Patient-01-02296.png\n"
     ]
    },
    {
     "name": "stderr",
     "output_type": "stream",
     "text": [
      " 34%|███▍      | 647/1877 [00:15<00:27, 44.72it/s]"
     ]
    },
    {
     "name": "stdout",
     "output_type": "stream",
     "text": [
      "image continuous_carotid_4_Patient-01-02297.png\n",
      "image continuous_carotid_4_Patient-01-02298.png\n",
      "image continuous_carotid_4_Patient-01-02299.png\n",
      "image continuous_carotid_4_Patient-01-02300.png\n",
      "image continuous_carotid_4_Patient-01-02301.png\n",
      "image continuous_carotid_4_Patient-01-02302.png\n",
      "image continuous_carotid_4_Patient-01-02303.png\n",
      "image continuous_carotid_4_Patient-01-02304.png\n",
      "image continuous_carotid_4_Patient-01-02305.png\n",
      "image continuous_carotid_4_Patient-01-02306.png\n"
     ]
    },
    {
     "name": "stderr",
     "output_type": "stream",
     "text": [
      " 35%|███▌      | 657/1877 [00:15<00:27, 44.88it/s]"
     ]
    },
    {
     "name": "stdout",
     "output_type": "stream",
     "text": [
      "image continuous_carotid_4_Patient-01-02307.png\n",
      "image continuous_carotid_4_Patient-01-02308.png\n",
      "image continuous_carotid_4_Patient-01-02309.png\n",
      "image continuous_carotid_4_Patient-01-02310.png\n",
      "image continuous_carotid_4_Patient-01-02311.png\n",
      "image continuous_carotid_4_Patient-01-02312.png\n",
      "image continuous_carotid_4_Patient-01-02313.png\n",
      "image continuous_carotid_4_Patient-01-02314.png\n",
      "image continuous_carotid_4_Patient-01-02315.png\n",
      "image continuous_carotid_4_Patient-01-02316.png\n"
     ]
    },
    {
     "name": "stderr",
     "output_type": "stream",
     "text": [
      " 36%|███▌      | 667/1877 [00:15<00:26, 45.05it/s]"
     ]
    },
    {
     "name": "stdout",
     "output_type": "stream",
     "text": [
      "image continuous_carotid_4_Patient-01-02317.png\n",
      "image continuous_carotid_4_Patient-01-02318.png\n",
      "image continuous_carotid_4_Patient-01-02319.png\n",
      "image continuous_carotid_4_Patient-01-02320.png\n",
      "image continuous_carotid_4_Patient-01-02321.png\n",
      "image continuous_carotid_4_Patient-01-02322.png\n",
      "image continuous_carotid_4_Patient-01-02323.png\n",
      "image continuous_carotid_4_Patient-01-02324.png\n",
      "image continuous_carotid_4_Patient-01-02325.png\n",
      "image continuous_carotid_4_Patient-01-02326.png\n"
     ]
    },
    {
     "name": "stderr",
     "output_type": "stream",
     "text": [
      " 36%|███▌      | 672/1877 [00:16<00:27, 44.23it/s]"
     ]
    },
    {
     "name": "stdout",
     "output_type": "stream",
     "text": [
      "image continuous_carotid_4_Patient-01-02327.png\n",
      "image continuous_carotid_4_Patient-01-02328.png\n",
      "image continuous_carotid_4_Patient-01-02329.png\n",
      "image continuous_carotid_4_Patient-01-02330.png\n",
      "image continuous_carotid_4_Patient-01-02331.png\n",
      "image continuous_carotid_4_Patient-01-02332.png\n",
      "image continuous_carotid_4_Patient-01-02333.png\n",
      "image continuous_carotid_4_Patient-01-02334.png\n",
      "image continuous_carotid_4_Patient-01-02335.png\n"
     ]
    },
    {
     "name": "stderr",
     "output_type": "stream",
     "text": [
      " 36%|███▋      | 682/1877 [00:16<00:27, 42.76it/s]"
     ]
    },
    {
     "name": "stdout",
     "output_type": "stream",
     "text": [
      "image continuous_carotid_4_Patient-01-02336.png\n",
      "image continuous_carotid_4_Patient-01-02337.png\n",
      "image continuous_carotid_4_Patient-01-02338.png\n",
      "image continuous_carotid_4_Patient-01-02339.png\n",
      "image continuous_carotid_4_Patient-01-02340.png\n",
      "image continuous_carotid_4_Patient-01-02341.png\n",
      "image continuous_carotid_4_Patient-01-02342.png\n",
      "image continuous_carotid_4_Patient-01-02343.png\n",
      "image continuous_carotid_4_Patient-01-02344.png\n"
     ]
    },
    {
     "name": "stderr",
     "output_type": "stream",
     "text": [
      " 37%|███▋      | 692/1877 [00:16<00:28, 42.00it/s]"
     ]
    },
    {
     "name": "stdout",
     "output_type": "stream",
     "text": [
      "image continuous_carotid_4_Patient-01-02345.png\n",
      "image continuous_carotid_4_Patient-01-02346.png\n",
      "image continuous_carotid_4_Patient-01-02347.png\n",
      "image continuous_carotid_4_Patient-01-02348.png\n",
      "image continuous_carotid_4_Patient-01-02349.png\n",
      "image continuous_carotid_4_Patient-01-02350.png\n",
      "image continuous_carotid_4_Patient-01-02351.png\n",
      "image continuous_carotid_4_Patient-01-02352.png\n",
      "image continuous_carotid_4_Patient-01-02353.png\n"
     ]
    },
    {
     "name": "stderr",
     "output_type": "stream",
     "text": [
      " 37%|███▋      | 702/1877 [00:16<00:28, 41.93it/s]"
     ]
    },
    {
     "name": "stdout",
     "output_type": "stream",
     "text": [
      "image continuous_carotid_4_Patient-01-02354.png\n",
      "image continuous_carotid_4_Patient-01-02355.png\n",
      "image continuous_carotid_4_Patient-01-02356.png\n",
      "image continuous_carotid_4_Patient-01-02357.png\n",
      "image continuous_carotid_4_Patient-01-02358.png\n",
      "image continuous_carotid_4_Patient-01-02359.png\n",
      "image continuous_carotid_4_Patient-01-02360.png\n",
      "image continuous_carotid_4_Patient-01-02361.png\n",
      "image continuous_carotid_4_Patient-01-02362.png\n"
     ]
    },
    {
     "name": "stderr",
     "output_type": "stream",
     "text": [
      " 38%|███▊      | 712/1877 [00:17<00:27, 41.95it/s]"
     ]
    },
    {
     "name": "stdout",
     "output_type": "stream",
     "text": [
      "image continuous_carotid_4_Patient-01-02363.png\n",
      "image continuous_carotid_4_Patient-01-02364.png\n",
      "image continuous_carotid_4_Patient-01-02365.png\n",
      "image continuous_carotid_4_Patient-01-02366.png\n",
      "image continuous_carotid_4_Patient-01-02367.png\n",
      "image continuous_carotid_4_Patient-01-02368.png\n",
      "image continuous_carotid_4_Patient-01-02369.png\n",
      "image continuous_carotid_4_Patient-01-02370.png\n",
      "image continuous_carotid_4_Patient-01-02371.png\n"
     ]
    },
    {
     "name": "stderr",
     "output_type": "stream",
     "text": [
      " 38%|███▊      | 717/1877 [00:17<00:27, 41.99it/s]"
     ]
    },
    {
     "name": "stdout",
     "output_type": "stream",
     "text": [
      "image continuous_carotid_4_Patient-01-02372.png\n",
      "image continuous_carotid_4_Patient-01-02373.png\n",
      "image continuous_carotid_4_Patient-01-02374.png\n",
      "image continuous_carotid_4_Patient-01-02375.png\n",
      "image continuous_carotid_4_Patient-01-02376.png\n",
      "image continuous_carotid_4_Patient-01-02377.png\n",
      "image continuous_carotid_4_Patient-01-02378.png\n",
      "image continuous_carotid_4_Patient-01-02379.png\n",
      "image continuous_carotid_4_Patient-01-02380.png\n"
     ]
    },
    {
     "name": "stderr",
     "output_type": "stream",
     "text": [
      " 39%|███▊      | 727/1877 [00:17<00:27, 41.40it/s]"
     ]
    },
    {
     "name": "stdout",
     "output_type": "stream",
     "text": [
      "image continuous_carotid_4_Patient-01-02381.png\n",
      "image continuous_carotid_4_Patient-01-02382.png\n",
      "image continuous_carotid_4_Patient-01-02383.png\n",
      "image continuous_carotid_4_Patient-01-02384.png\n",
      "image continuous_carotid_4_Patient-01-02385.png\n",
      "image continuous_carotid_4_Patient-01-02386.png\n",
      "image continuous_carotid_4_Patient-01-02387.png\n",
      "image continuous_carotid_4_Patient-01-02388.png\n",
      "image continuous_carotid_4_Patient-01-02389.png\n"
     ]
    },
    {
     "name": "stderr",
     "output_type": "stream",
     "text": [
      " 39%|███▉      | 737/1877 [00:17<00:27, 42.18it/s]"
     ]
    },
    {
     "name": "stdout",
     "output_type": "stream",
     "text": [
      "image continuous_carotid_4_Patient-01-02390.png\n",
      "image continuous_carotid_4_Patient-01-02391.png\n",
      "image continuous_carotid_4_Patient-01-02392.png\n",
      "image continuous_carotid_4_Patient-01-02393.png\n",
      "image continuous_carotid_4_Patient-01-02394.png\n",
      "image continuous_carotid_4_Patient-01-02395.png\n",
      "image continuous_carotid_4_Patient-01-02396.png\n",
      "image continuous_carotid_4_Patient-01-02397.png\n",
      "image continuous_carotid_4_Patient-01-02398.png\n"
     ]
    },
    {
     "name": "stderr",
     "output_type": "stream",
     "text": [
      " 40%|███▉      | 747/1877 [00:17<00:26, 43.21it/s]"
     ]
    },
    {
     "name": "stdout",
     "output_type": "stream",
     "text": [
      "image continuous_carotid_4_Patient-01-02399.png\n",
      "image continuous_carotid_4_Patient-01-02400.png\n",
      "image continuous_carotid_4_Patient-01-02401.png\n",
      "image continuous_carotid_4_Patient-01-02402.png\n",
      "image continuous_carotid_4_Patient-01-02403.png\n",
      "image continuous_carotid_4_Patient-01-02404.png\n",
      "image continuous_carotid_4_Patient-01-02405.png\n",
      "image continuous_carotid_4_Patient-01-02406.png\n",
      "image continuous_carotid_4_Patient-01-02407.png\n"
     ]
    },
    {
     "name": "stderr",
     "output_type": "stream",
     "text": [
      " 40%|████      | 757/1877 [00:18<00:25, 44.08it/s]"
     ]
    },
    {
     "name": "stdout",
     "output_type": "stream",
     "text": [
      "image continuous_carotid_4_Patient-01-02408.png\n",
      "image continuous_carotid_4_Patient-01-02409.png\n",
      "image continuous_carotid_4_Patient-01-02410.png\n",
      "image continuous_carotid_4_Patient-01-02411.png\n",
      "image continuous_carotid_4_Patient-01-02412.png\n",
      "image continuous_carotid_4_Patient-01-02413.png\n",
      "image continuous_carotid_4_Patient-01-02414.png\n",
      "image continuous_carotid_4_Patient-01-02415.png\n",
      "image continuous_carotid_4_Patient-01-02416.png\n",
      "image continuous_carotid_4_Patient-01-02417.png\n"
     ]
    },
    {
     "name": "stderr",
     "output_type": "stream",
     "text": [
      " 41%|████      | 767/1877 [00:18<00:25, 44.25it/s]"
     ]
    },
    {
     "name": "stdout",
     "output_type": "stream",
     "text": [
      "image continuous_carotid_4_Patient-01-02418.png\n",
      "image continuous_carotid_4_Patient-01-02419.png\n",
      "image continuous_carotid_4_Patient-01-02420.png\n",
      "image continuous_carotid_4_Patient-01-02421.png\n",
      "image continuous_carotid_4_Patient-01-02422.png\n",
      "image continuous_carotid_4_Patient-01-02423.png\n",
      "image continuous_carotid_4_Patient-01-02424.png\n",
      "image continuous_carotid_4_Patient-01-02425.png\n",
      "image continuous_carotid_4_Patient-01-02426.png\n"
     ]
    },
    {
     "name": "stderr",
     "output_type": "stream",
     "text": [
      " 41%|████      | 772/1877 [00:18<00:25, 44.05it/s]"
     ]
    },
    {
     "name": "stdout",
     "output_type": "stream",
     "text": [
      "image continuous_carotid_4_Patient-01-02427.png\n",
      "image continuous_carotid_4_Patient-01-02428.png\n",
      "image continuous_carotid_4_Patient-01-02429.png\n",
      "image continuous_carotid_4_Patient-01-02430.png\n",
      "image continuous_carotid_4_Patient-01-02431.png\n",
      "image continuous_carotid_4_Patient-01-02432.png\n",
      "image continuous_carotid_4_Patient-01-02433.png\n",
      "image continuous_carotid_4_Patient-01-02434.png\n",
      "image continuous_carotid_4_Patient-01-02435.png\n"
     ]
    },
    {
     "name": "stderr",
     "output_type": "stream",
     "text": [
      " 42%|████▏     | 782/1877 [00:18<00:25, 43.29it/s]"
     ]
    },
    {
     "name": "stdout",
     "output_type": "stream",
     "text": [
      "image continuous_carotid_4_Patient-01-02436.png\n",
      "image continuous_carotid_4_Patient-01-02437.png\n",
      "image continuous_carotid_4_Patient-01-02438.png\n",
      "image continuous_carotid_4_Patient-01-02439.png\n",
      "image continuous_carotid_4_Patient-01-02440.png\n",
      "image continuous_carotid_4_Patient-01-02441.png\n",
      "image continuous_carotid_4_Patient-01-02442.png\n",
      "image continuous_carotid_4_Patient-01-02443.png\n",
      "image continuous_carotid_4_Patient-01-02444.png\n"
     ]
    },
    {
     "name": "stderr",
     "output_type": "stream",
     "text": [
      " 42%|████▏     | 792/1877 [00:18<00:24, 43.77it/s]"
     ]
    },
    {
     "name": "stdout",
     "output_type": "stream",
     "text": [
      "image continuous_carotid_4_Patient-01-02445.png\n",
      "image continuous_carotid_4_Patient-01-02446.png\n",
      "image continuous_carotid_4_Patient-01-02447.png\n",
      "image continuous_carotid_4_Patient-01-02448.png\n",
      "image continuous_carotid_4_Patient-01-02449.png\n",
      "image continuous_carotid_4_Patient-01-02450.png\n",
      "image continuous_carotid_4_Patient-01-02451.png\n",
      "image continuous_carotid_4_Patient-01-02452.png\n",
      "image continuous_carotid_4_Patient-01-02453.png\n",
      "image continuous_carotid_4_Patient-01-02454.png\n"
     ]
    },
    {
     "name": "stderr",
     "output_type": "stream",
     "text": [
      " 43%|████▎     | 802/1877 [00:19<00:24, 44.44it/s]"
     ]
    },
    {
     "name": "stdout",
     "output_type": "stream",
     "text": [
      "image continuous_carotid_4_Patient-01-02455.png\n",
      "image continuous_carotid_4_Patient-01-02456.png\n",
      "image continuous_carotid_4_Patient-01-02457.png\n",
      "image continuous_carotid_4_Patient-01-02458.png\n",
      "image continuous_carotid_4_Patient-01-02459.png\n",
      "image continuous_carotid_4_Patient-01-02460.png\n",
      "image continuous_carotid_4_Patient-01-02461.png\n",
      "image continuous_carotid_4_Patient-01-02462.png\n",
      "image continuous_carotid_4_Patient-01-02463.png\n",
      "image continuous_carotid_4_Patient-01-02464.png\n"
     ]
    },
    {
     "name": "stderr",
     "output_type": "stream",
     "text": [
      " 43%|████▎     | 812/1877 [00:19<00:23, 44.46it/s]"
     ]
    },
    {
     "name": "stdout",
     "output_type": "stream",
     "text": [
      "image continuous_carotid_4_Patient-01-02465.png\n",
      "image continuous_carotid_4_Patient-01-02466.png\n",
      "image continuous_carotid_4_Patient-01-02467.png\n",
      "image continuous_carotid_4_Patient-01-02468.png\n",
      "image continuous_carotid_4_Patient-01-02469.png\n",
      "image continuous_carotid_4_Patient-01-02470.png\n",
      "image continuous_carotid_4_Patient-01-02471.png\n",
      "image continuous_carotid_4_Patient-01-02472.png\n",
      "image continuous_carotid_4_Patient-01-02473.png\n"
     ]
    },
    {
     "name": "stderr",
     "output_type": "stream",
     "text": [
      " 44%|████▍     | 822/1877 [00:19<00:23, 44.52it/s]"
     ]
    },
    {
     "name": "stdout",
     "output_type": "stream",
     "text": [
      "image continuous_carotid_4_Patient-01-02474.png\n",
      "image continuous_carotid_4_Patient-01-02475.png\n",
      "image continuous_carotid_4_Patient-01-02476.png\n",
      "image continuous_carotid_4_Patient-01-02477.png\n",
      "image continuous_carotid_4_Patient-01-02478.png\n",
      "image continuous_carotid_4_Patient-01-02479.png\n",
      "image continuous_carotid_4_Patient-01-02480.png\n",
      "image continuous_carotid_4_Patient-01-02481.png\n",
      "image continuous_carotid_4_Patient-01-02482.png\n",
      "image continuous_carotid_4_Patient-01-02483.png\n"
     ]
    },
    {
     "name": "stderr",
     "output_type": "stream",
     "text": [
      " 44%|████▍     | 832/1877 [00:19<00:24, 42.55it/s]"
     ]
    },
    {
     "name": "stdout",
     "output_type": "stream",
     "text": [
      "image continuous_carotid_4_Patient-01-02484.png\n",
      "image continuous_carotid_4_Patient-01-02485.png\n",
      "image continuous_carotid_4_Patient-01-02486.png\n",
      "image continuous_carotid_4_Patient-01-02487.png\n",
      "image continuous_carotid_4_Patient-01-02488.png\n",
      "image continuous_carotid_4_Patient-01-02489.png\n",
      "image continuous_carotid_4_Patient-01-02490.png\n",
      "image continuous_carotid_4_Patient-01-02491.png\n",
      "image continuous_carotid_4_Patient-01-02492.png\n"
     ]
    },
    {
     "name": "stderr",
     "output_type": "stream",
     "text": [
      " 45%|████▍     | 842/1877 [00:20<00:24, 42.77it/s]"
     ]
    },
    {
     "name": "stdout",
     "output_type": "stream",
     "text": [
      "image continuous_carotid_4_Patient-01-02493.png\n",
      "image continuous_carotid_4_Patient-01-02494.png\n",
      "image continuous_carotid_4_Patient-01-02495.png\n",
      "image continuous_carotid_4_Patient-01-02496.png\n",
      "image continuous_carotid_4_Patient-01-02497.png\n",
      "image continuous_carotid_4_Patient-01-02498.png\n",
      "image continuous_carotid_4_Patient-01-02499.png\n",
      "image continuous_carotid_4_Patient-01-02500.png\n",
      "image continuous_carotid_4_Patient-01-02501.png\n"
     ]
    },
    {
     "name": "stderr",
     "output_type": "stream",
     "text": [
      " 45%|████▌     | 847/1877 [00:20<00:23, 43.06it/s]"
     ]
    },
    {
     "name": "stdout",
     "output_type": "stream",
     "text": [
      "image continuous_carotid_4_Patient-01-02502.png\n",
      "image continuous_carotid_4_Patient-01-02503.png\n",
      "image continuous_carotid_4_Patient-01-02504.png\n",
      "image continuous_carotid_4_Patient-01-02505.png\n",
      "image continuous_carotid_4_Patient-01-02506.png\n",
      "image continuous_carotid_4_Patient-01-02507.png\n",
      "image continuous_carotid_4_Patient-01-02508.png\n",
      "image continuous_carotid_4_Patient-01-02509.png\n",
      "image continuous_carotid_4_Patient-01-02510.png\n"
     ]
    },
    {
     "name": "stderr",
     "output_type": "stream",
     "text": [
      " 46%|████▌     | 857/1877 [00:20<00:23, 43.35it/s]"
     ]
    },
    {
     "name": "stdout",
     "output_type": "stream",
     "text": [
      "image continuous_carotid_4_Patient-01-02511.png\n",
      "image continuous_carotid_4_Patient-01-02512.png\n",
      "image continuous_carotid_4_Patient-01-02513.png\n",
      "image continuous_carotid_4_Patient-01-02514.png\n",
      "image continuous_carotid_4_Patient-01-02515.png\n",
      "image continuous_carotid_4_Patient-01-02516.png\n",
      "image continuous_carotid_4_Patient-01-02517.png\n",
      "image continuous_carotid_4_Patient-01-02518.png\n",
      "image continuous_carotid_4_Patient-01-02519.png\n"
     ]
    },
    {
     "name": "stderr",
     "output_type": "stream",
     "text": [
      " 46%|████▌     | 867/1877 [00:20<00:23, 43.32it/s]"
     ]
    },
    {
     "name": "stdout",
     "output_type": "stream",
     "text": [
      "image continuous_carotid_4_Patient-01-02520.png\n",
      "image continuous_carotid_4_Patient-01-02521.png\n",
      "image continuous_carotid_4_Patient-01-02522.png\n",
      "image continuous_carotid_4_Patient-01-02523.png\n",
      "image continuous_carotid_4_Patient-01-02524.png\n",
      "image continuous_carotid_4_Patient-01-02525.png\n",
      "image continuous_carotid_4_Patient-01-02526.png\n",
      "image continuous_carotid_4_Patient-01-02527.png\n",
      "image continuous_carotid_4_Patient-01-02528.png\n"
     ]
    },
    {
     "name": "stderr",
     "output_type": "stream",
     "text": [
      " 47%|████▋     | 877/1877 [00:20<00:22, 43.49it/s]"
     ]
    },
    {
     "name": "stdout",
     "output_type": "stream",
     "text": [
      "image continuous_carotid_4_Patient-01-02529.png\n",
      "image continuous_carotid_4_Patient-01-02530.png\n",
      "image continuous_carotid_4_Patient-01-02531.png\n",
      "image continuous_carotid_4_Patient-01-02532.png\n",
      "image continuous_carotid_4_Patient-01-02533.png\n",
      "image continuous_carotid_4_Patient-01-02534.png\n",
      "image continuous_carotid_4_Patient-01-02535.png\n",
      "image continuous_carotid_4_Patient-01-02536.png\n",
      "image continuous_carotid_4_Patient-01-02537.png\n"
     ]
    },
    {
     "name": "stderr",
     "output_type": "stream",
     "text": [
      " 47%|████▋     | 887/1877 [00:21<00:22, 43.73it/s]"
     ]
    },
    {
     "name": "stdout",
     "output_type": "stream",
     "text": [
      "image continuous_carotid_4_Patient-01-02538.png\n",
      "image continuous_carotid_4_Patient-01-02539.png\n",
      "image continuous_carotid_4_Patient-01-02540.png\n",
      "image continuous_carotid_4_Patient-01-02541.png\n",
      "image continuous_carotid_4_Patient-01-02542.png\n",
      "image continuous_carotid_4_Patient-01-02543.png\n",
      "image continuous_carotid_4_Patient-01-02544.png\n",
      "image continuous_carotid_4_Patient-01-02545.png\n",
      "image continuous_carotid_4_Patient-01-02546.png\n"
     ]
    },
    {
     "name": "stderr",
     "output_type": "stream",
     "text": [
      " 48%|████▊     | 892/1877 [00:21<00:22, 43.60it/s]"
     ]
    },
    {
     "name": "stdout",
     "output_type": "stream",
     "text": [
      "image continuous_carotid_4_Patient-01-02547.png\n",
      "image continuous_carotid_4_Patient-01-02548.png\n",
      "image continuous_carotid_4_Patient-01-02549.png\n",
      "image continuous_carotid_4_Patient-01-02550.png\n",
      "image continuous_carotid_4_Patient-01-02551.png\n",
      "image continuous_carotid_4_Patient-01-02552.png\n",
      "image continuous_carotid_4_Patient-01-02553.png\n",
      "image continuous_carotid_4_Patient-01-02554.png\n",
      "image continuous_carotid_4_Patient-01-02555.png\n"
     ]
    },
    {
     "name": "stderr",
     "output_type": "stream",
     "text": [
      " 48%|████▊     | 902/1877 [00:21<00:22, 43.56it/s]"
     ]
    },
    {
     "name": "stdout",
     "output_type": "stream",
     "text": [
      "image continuous_carotid_4_Patient-01-02556.png\n",
      "image continuous_carotid_4_Patient-01-02557.png\n",
      "image continuous_carotid_4_Patient-01-02558.png\n",
      "image continuous_carotid_4_Patient-01-02559.png\n",
      "image continuous_carotid_4_Patient-01-02560.png\n",
      "image continuous_carotid_4_Patient-01-02561.png\n",
      "image continuous_carotid_4_Patient-01-02562.png\n",
      "image continuous_carotid_4_Patient-01-02563.png\n",
      "image continuous_carotid_4_Patient-01-02564.png\n"
     ]
    },
    {
     "name": "stderr",
     "output_type": "stream",
     "text": [
      " 49%|████▊     | 912/1877 [00:21<00:22, 43.22it/s]"
     ]
    },
    {
     "name": "stdout",
     "output_type": "stream",
     "text": [
      "image continuous_carotid_4_Patient-01-02565.png\n",
      "image continuous_carotid_4_Patient-01-02566.png\n",
      "image continuous_carotid_4_Patient-01-02567.png\n",
      "image continuous_carotid_4_Patient-01-02568.png\n",
      "image continuous_carotid_4_Patient-01-02569.png\n",
      "image continuous_carotid_4_Patient-01-02570.png\n",
      "image continuous_carotid_4_Patient-01-02571.png\n",
      "image continuous_carotid_4_Patient-01-02572.png\n",
      "image continuous_carotid_4_Patient-01-02573.png\n"
     ]
    },
    {
     "name": "stderr",
     "output_type": "stream",
     "text": [
      " 49%|████▉     | 922/1877 [00:21<00:22, 43.08it/s]"
     ]
    },
    {
     "name": "stdout",
     "output_type": "stream",
     "text": [
      "image continuous_carotid_5_Patient-01-03100.png\n",
      "image continuous_carotid_5_Patient-01-03101.png\n",
      "image continuous_carotid_5_Patient-01-03102.png\n",
      "image continuous_carotid_5_Patient-01-03103.png\n",
      "image continuous_carotid_5_Patient-01-03104.png\n",
      "image continuous_carotid_5_Patient-01-03105.png\n",
      "image continuous_carotid_5_Patient-01-03106.png\n",
      "image continuous_carotid_5_Patient-01-03107.png\n",
      "image continuous_carotid_5_Patient-01-03108.png\n"
     ]
    },
    {
     "name": "stderr",
     "output_type": "stream",
     "text": [
      " 50%|████▉     | 932/1877 [00:22<00:21, 43.23it/s]"
     ]
    },
    {
     "name": "stdout",
     "output_type": "stream",
     "text": [
      "image continuous_carotid_5_Patient-01-03109.png\n",
      "image continuous_carotid_5_Patient-01-03110.png\n",
      "image continuous_carotid_5_Patient-01-03111.png\n",
      "image continuous_carotid_5_Patient-01-03112.png\n",
      "image continuous_carotid_5_Patient-01-03113.png\n",
      "image continuous_carotid_5_Patient-01-03114.png\n",
      "image continuous_carotid_5_Patient-01-03115.png\n",
      "image continuous_carotid_5_Patient-01-03116.png\n",
      "image continuous_carotid_5_Patient-01-03117.png\n"
     ]
    },
    {
     "name": "stderr",
     "output_type": "stream",
     "text": [
      " 50%|█████     | 942/1877 [00:22<00:21, 44.21it/s]"
     ]
    },
    {
     "name": "stdout",
     "output_type": "stream",
     "text": [
      "image continuous_carotid_5_Patient-01-03118.png\n",
      "image continuous_carotid_5_Patient-01-03119.png\n",
      "image continuous_carotid_5_Patient-01-03120.png\n",
      "image continuous_carotid_5_Patient-01-03121.png\n",
      "image continuous_carotid_5_Patient-01-03122.png\n",
      "image continuous_carotid_5_Patient-01-03123.png\n",
      "image continuous_carotid_5_Patient-01-03124.png\n",
      "image continuous_carotid_5_Patient-01-03125.png\n",
      "image continuous_carotid_5_Patient-01-03126.png\n",
      "image continuous_carotid_5_Patient-01-03127.png\n"
     ]
    },
    {
     "name": "stderr",
     "output_type": "stream",
     "text": [
      " 50%|█████     | 947/1877 [00:22<00:20, 44.49it/s]"
     ]
    },
    {
     "name": "stdout",
     "output_type": "stream",
     "text": [
      "image continuous_carotid_5_Patient-01-03128.png\n",
      "image continuous_carotid_5_Patient-01-03129.png\n",
      "image continuous_carotid_5_Patient-01-03130.png\n",
      "image continuous_carotid_5_Patient-01-03131.png\n",
      "image continuous_carotid_5_Patient-01-03132.png\n",
      "image continuous_carotid_5_Patient-01-03133.png\n",
      "image continuous_carotid_5_Patient-01-03134.png\n",
      "image continuous_carotid_5_Patient-01-03135.png\n",
      "image continuous_carotid_5_Patient-01-03136.png\n"
     ]
    },
    {
     "name": "stderr",
     "output_type": "stream",
     "text": [
      " 51%|█████     | 957/1877 [00:22<00:20, 44.27it/s]"
     ]
    },
    {
     "name": "stdout",
     "output_type": "stream",
     "text": [
      "image continuous_carotid_5_Patient-01-03137.png\n",
      "image continuous_carotid_5_Patient-01-03138.png\n",
      "image continuous_carotid_5_Patient-01-03139.png\n",
      "image continuous_carotid_5_Patient-01-03140.png\n",
      "image continuous_carotid_5_Patient-01-03141.png\n",
      "image continuous_carotid_5_Patient-01-03142.png\n",
      "image continuous_carotid_5_Patient-01-03143.png\n",
      "image continuous_carotid_5_Patient-01-03144.png\n",
      "image continuous_carotid_5_Patient-01-03145.png\n",
      "image continuous_carotid_5_Patient-01-03146.png\n"
     ]
    },
    {
     "name": "stderr",
     "output_type": "stream",
     "text": [
      " 52%|█████▏    | 967/1877 [00:22<00:20, 44.89it/s]"
     ]
    },
    {
     "name": "stdout",
     "output_type": "stream",
     "text": [
      "image continuous_carotid_5_Patient-01-03147.png\n",
      "image continuous_carotid_5_Patient-01-03148.png\n",
      "image continuous_carotid_5_Patient-01-03149.png\n",
      "image continuous_carotid_5_Patient-01-03150.png\n",
      "image continuous_carotid_5_Patient-01-03151.png\n",
      "image continuous_carotid_5_Patient-01-03152.png\n",
      "image continuous_carotid_5_Patient-01-03153.png\n",
      "image continuous_carotid_5_Patient-01-03154.png\n",
      "image continuous_carotid_5_Patient-01-03155.png\n",
      "image continuous_carotid_5_Patient-01-03156.png\n"
     ]
    },
    {
     "name": "stderr",
     "output_type": "stream",
     "text": [
      " 52%|█████▏    | 977/1877 [00:23<00:19, 45.45it/s]"
     ]
    },
    {
     "name": "stdout",
     "output_type": "stream",
     "text": [
      "image continuous_carotid_5_Patient-01-03157.png\n",
      "image continuous_carotid_5_Patient-01-03158.png\n",
      "image continuous_carotid_5_Patient-01-03159.png\n",
      "image continuous_carotid_5_Patient-01-03160.png\n",
      "image continuous_carotid_5_Patient-01-03161.png\n",
      "image continuous_carotid_5_Patient-01-03162.png\n",
      "image continuous_carotid_5_Patient-01-03163.png\n",
      "image continuous_carotid_5_Patient-01-03164.png\n",
      "image continuous_carotid_5_Patient-01-03165.png\n",
      "image continuous_carotid_5_Patient-01-03166.png\n"
     ]
    },
    {
     "name": "stderr",
     "output_type": "stream",
     "text": [
      " 53%|█████▎    | 987/1877 [00:23<00:19, 45.51it/s]"
     ]
    },
    {
     "name": "stdout",
     "output_type": "stream",
     "text": [
      "image continuous_carotid_5_Patient-01-03167.png\n",
      "image continuous_carotid_5_Patient-01-03168.png\n",
      "image continuous_carotid_5_Patient-01-03169.png\n",
      "image continuous_carotid_5_Patient-01-03170.png\n",
      "image continuous_carotid_5_Patient-01-03171.png\n",
      "image continuous_carotid_5_Patient-01-03172.png\n",
      "image continuous_carotid_5_Patient-01-03173.png\n",
      "image continuous_carotid_5_Patient-01-03174.png\n",
      "image continuous_carotid_5_Patient-01-03175.png\n",
      "image continuous_carotid_5_Patient-01-03176.png\n"
     ]
    },
    {
     "name": "stderr",
     "output_type": "stream",
     "text": [
      " 53%|█████▎    | 997/1877 [00:23<00:19, 45.53it/s]"
     ]
    },
    {
     "name": "stdout",
     "output_type": "stream",
     "text": [
      "image continuous_carotid_5_Patient-01-03177.png\n",
      "image continuous_carotid_5_Patient-01-03178.png\n",
      "image continuous_carotid_5_Patient-01-03179.png\n",
      "image continuous_carotid_5_Patient-01-03180.png\n",
      "image continuous_carotid_5_Patient-01-03181.png\n",
      "image continuous_carotid_5_Patient-01-03182.png\n",
      "image continuous_carotid_5_Patient-01-03183.png\n",
      "image continuous_carotid_5_Patient-01-03184.png\n",
      "image continuous_carotid_5_Patient-01-03185.png\n",
      "image continuous_carotid_5_Patient-01-03186.png\n"
     ]
    },
    {
     "name": "stderr",
     "output_type": "stream",
     "text": [
      " 54%|█████▎    | 1007/1877 [00:23<00:20, 43.08it/s]"
     ]
    },
    {
     "name": "stdout",
     "output_type": "stream",
     "text": [
      "image continuous_carotid_5_Patient-01-03187.png\n",
      "image continuous_carotid_5_Patient-01-03188.png\n",
      "image continuous_carotid_5_Patient-01-03189.png\n",
      "image continuous_carotid_5_Patient-01-03190.png\n",
      "image continuous_carotid_5_Patient-01-03191.png\n",
      "image continuous_carotid_5_Patient-01-03192.png\n",
      "image continuous_carotid_5_Patient-01-03193.png\n",
      "image continuous_carotid_5_Patient-01-03194.png\n",
      "image continuous_carotid_5_Patient-01-03195.png\n"
     ]
    },
    {
     "name": "stderr",
     "output_type": "stream",
     "text": [
      " 54%|█████▍    | 1017/1877 [00:24<00:19, 43.91it/s]"
     ]
    },
    {
     "name": "stdout",
     "output_type": "stream",
     "text": [
      "image continuous_carotid_5_Patient-01-03196.png\n",
      "image continuous_carotid_5_Patient-01-03197.png\n",
      "image continuous_carotid_5_Patient-01-03198.png\n",
      "image continuous_carotid_5_Patient-01-03199.png\n",
      "image continuous_carotid_5_Patient-01-03200.png\n",
      "image continuous_carotid_5_Patient-01-03201.png\n",
      "image continuous_carotid_5_Patient-01-03202.png\n",
      "image continuous_carotid_5_Patient-01-03203.png\n",
      "image continuous_carotid_5_Patient-01-03204.png\n"
     ]
    },
    {
     "name": "stderr",
     "output_type": "stream",
     "text": [
      " 55%|█████▍    | 1027/1877 [00:24<00:19, 44.70it/s]"
     ]
    },
    {
     "name": "stdout",
     "output_type": "stream",
     "text": [
      "image continuous_carotid_5_Patient-01-03205.png\n",
      "image continuous_carotid_5_Patient-01-03206.png\n",
      "image continuous_carotid_5_Patient-01-03207.png\n",
      "image continuous_carotid_5_Patient-01-03208.png\n",
      "image continuous_carotid_5_Patient-01-03209.png\n",
      "image continuous_carotid_5_Patient-01-03210.png\n",
      "image continuous_carotid_5_Patient-01-03211.png\n",
      "image continuous_carotid_5_Patient-01-03212.png\n",
      "image continuous_carotid_5_Patient-01-03213.png\n",
      "image continuous_carotid_5_Patient-01-03214.png\n"
     ]
    },
    {
     "name": "stderr",
     "output_type": "stream",
     "text": [
      " 55%|█████▌    | 1037/1877 [00:24<00:18, 45.11it/s]"
     ]
    },
    {
     "name": "stdout",
     "output_type": "stream",
     "text": [
      "image continuous_carotid_5_Patient-01-03215.png\n",
      "image continuous_carotid_5_Patient-01-03216.png\n",
      "image continuous_carotid_5_Patient-01-03217.png\n",
      "image continuous_carotid_5_Patient-01-03218.png\n",
      "image continuous_carotid_5_Patient-01-03219.png\n",
      "image continuous_carotid_5_Patient-01-03220.png\n",
      "image continuous_carotid_5_Patient-01-03221.png\n",
      "image continuous_carotid_5_Patient-01-03222.png\n",
      "image continuous_carotid_5_Patient-01-03223.png\n",
      "image continuous_carotid_5_Patient-01-03224.png\n"
     ]
    },
    {
     "name": "stderr",
     "output_type": "stream",
     "text": [
      " 56%|█████▌    | 1047/1877 [00:24<00:18, 45.55it/s]"
     ]
    },
    {
     "name": "stdout",
     "output_type": "stream",
     "text": [
      "image continuous_carotid_5_Patient-01-03225.png\n",
      "image continuous_carotid_5_Patient-01-03226.png\n",
      "image continuous_carotid_5_Patient-01-03227.png\n",
      "image continuous_carotid_5_Patient-01-03228.png\n",
      "image continuous_carotid_5_Patient-01-03229.png\n",
      "image continuous_carotid_5_Patient-01-03230.png\n",
      "image continuous_carotid_5_Patient-01-03231.png\n",
      "image continuous_carotid_5_Patient-01-03232.png\n",
      "image continuous_carotid_5_Patient-01-03233.png\n",
      "image continuous_carotid_5_Patient-01-03234.png\n"
     ]
    },
    {
     "name": "stderr",
     "output_type": "stream",
     "text": [
      " 56%|█████▋    | 1057/1877 [00:24<00:17, 45.69it/s]"
     ]
    },
    {
     "name": "stdout",
     "output_type": "stream",
     "text": [
      "image continuous_carotid_5_Patient-01-03235.png\n",
      "image continuous_carotid_5_Patient-01-03236.png\n",
      "image continuous_carotid_5_Patient-01-03237.png\n",
      "image continuous_carotid_5_Patient-01-03238.png\n",
      "image continuous_carotid_5_Patient-01-03239.png\n",
      "image continuous_carotid_5_Patient-01-03240.png\n",
      "image continuous_carotid_5_Patient-01-03241.png\n",
      "image continuous_carotid_5_Patient-01-03242.png\n",
      "image continuous_carotid_5_Patient-01-03243.png\n",
      "image continuous_carotid_5_Patient-01-03244.png\n"
     ]
    },
    {
     "name": "stderr",
     "output_type": "stream",
     "text": [
      " 57%|█████▋    | 1067/1877 [00:25<00:17, 45.57it/s]"
     ]
    },
    {
     "name": "stdout",
     "output_type": "stream",
     "text": [
      "image continuous_carotid_5_Patient-01-03245.png\n",
      "image continuous_carotid_5_Patient-01-03246.png\n",
      "image continuous_carotid_5_Patient-01-03247.png\n",
      "image continuous_carotid_5_Patient-01-03248.png\n",
      "image continuous_carotid_5_Patient-01-03249.png\n",
      "image continuous_carotid_5_Patient-01-03250.png\n",
      "image continuous_carotid_5_Patient-01-03251.png\n",
      "image continuous_carotid_5_Patient-01-03252.png\n",
      "image continuous_carotid_5_Patient-01-03253.png\n",
      "image continuous_carotid_5_Patient-01-03254.png\n"
     ]
    },
    {
     "name": "stderr",
     "output_type": "stream",
     "text": [
      " 57%|█████▋    | 1077/1877 [00:25<00:17, 45.49it/s]"
     ]
    },
    {
     "name": "stdout",
     "output_type": "stream",
     "text": [
      "image continuous_carotid_5_Patient-01-03255.png\n",
      "image continuous_carotid_5_Patient-01-03256.png\n",
      "image continuous_carotid_5_Patient-01-03257.png\n",
      "image continuous_carotid_5_Patient-01-03258.png\n",
      "image continuous_carotid_5_Patient-01-03259.png\n",
      "image continuous_carotid_5_Patient-01-03260.png\n",
      "image continuous_carotid_5_Patient-01-03261.png\n",
      "image continuous_carotid_5_Patient-01-03262.png\n",
      "image continuous_carotid_5_Patient-01-03263.png\n",
      "image continuous_carotid_5_Patient-01-03264.png\n"
     ]
    },
    {
     "name": "stderr",
     "output_type": "stream",
     "text": [
      " 58%|█████▊    | 1087/1877 [00:25<00:17, 45.52it/s]"
     ]
    },
    {
     "name": "stdout",
     "output_type": "stream",
     "text": [
      "image continuous_carotid_5_Patient-01-03265.png\n",
      "image continuous_carotid_5_Patient-01-03266.png\n",
      "image continuous_carotid_5_Patient-01-03267.png\n",
      "image continuous_carotid_5_Patient-01-03268.png\n",
      "image continuous_carotid_5_Patient-01-03269.png\n",
      "image continuous_carotid_5_Patient-01-03270.png\n",
      "image continuous_carotid_5_Patient-01-03271.png\n",
      "image continuous_carotid_5_Patient-01-03272.png\n",
      "image continuous_carotid_5_Patient-01-03273.png\n",
      "image continuous_carotid_5_Patient-01-03274.png\n"
     ]
    },
    {
     "name": "stderr",
     "output_type": "stream",
     "text": [
      " 58%|█████▊    | 1097/1877 [00:25<00:17, 45.56it/s]"
     ]
    },
    {
     "name": "stdout",
     "output_type": "stream",
     "text": [
      "image continuous_carotid_5_Patient-01-03275.png\n",
      "image continuous_carotid_5_Patient-01-03276.png\n",
      "image continuous_carotid_5_Patient-01-03277.png\n",
      "image continuous_carotid_5_Patient-01-03278.png\n",
      "image continuous_carotid_5_Patient-01-03279.png\n",
      "image continuous_carotid_5_Patient-01-03280.png\n",
      "image continuous_carotid_5_Patient-01-03281.png\n",
      "image continuous_carotid_5_Patient-01-03282.png\n",
      "image continuous_carotid_5_Patient-01-03283.png\n",
      "image continuous_carotid_5_Patient-01-03284.png\n"
     ]
    },
    {
     "name": "stderr",
     "output_type": "stream",
     "text": [
      " 59%|█████▉    | 1107/1877 [00:25<00:16, 45.66it/s]"
     ]
    },
    {
     "name": "stdout",
     "output_type": "stream",
     "text": [
      "image continuous_carotid_5_Patient-01-03285.png\n",
      "image continuous_carotid_5_Patient-01-03286.png\n",
      "image continuous_carotid_5_Patient-01-03287.png\n",
      "image continuous_carotid_5_Patient-01-03288.png\n",
      "image continuous_carotid_5_Patient-01-03289.png\n",
      "image continuous_carotid_5_Patient-01-03290.png\n",
      "image continuous_carotid_5_Patient-01-03291.png\n",
      "image continuous_carotid_5_Patient-01-03292.png\n",
      "image continuous_carotid_5_Patient-01-03293.png\n",
      "image continuous_carotid_5_Patient-01-03294.png\n"
     ]
    },
    {
     "name": "stderr",
     "output_type": "stream",
     "text": [
      " 60%|█████▉    | 1117/1877 [00:26<00:16, 45.78it/s]"
     ]
    },
    {
     "name": "stdout",
     "output_type": "stream",
     "text": [
      "image continuous_carotid_5_Patient-01-03295.png\n",
      "image continuous_carotid_5_Patient-01-03296.png\n",
      "image continuous_carotid_5_Patient-01-03297.png\n",
      "image continuous_carotid_5_Patient-01-03298.png\n",
      "image continuous_carotid_5_Patient-01-03299.png\n",
      "image continuous_carotid_5_Patient-01-03300.png\n",
      "image continuous_carotid_5_Patient-01-03301.png\n",
      "image continuous_carotid_5_Patient-01-03302.png\n",
      "image continuous_carotid_5_Patient-01-03303.png\n",
      "image continuous_carotid_5_Patient-01-03304.png\n"
     ]
    },
    {
     "name": "stderr",
     "output_type": "stream",
     "text": [
      " 60%|██████    | 1127/1877 [00:26<00:16, 45.40it/s]"
     ]
    },
    {
     "name": "stdout",
     "output_type": "stream",
     "text": [
      "image continuous_carotid_5_Patient-01-03305.png\n",
      "image continuous_carotid_5_Patient-01-03306.png\n",
      "image continuous_carotid_5_Patient-01-03307.png\n",
      "image continuous_carotid_5_Patient-01-03308.png\n",
      "image continuous_carotid_5_Patient-01-03309.png\n",
      "image continuous_carotid_5_Patient-01-03310.png\n",
      "image continuous_carotid_5_Patient-01-03311.png\n",
      "image continuous_carotid_5_Patient-01-03312.png\n",
      "image continuous_carotid_5_Patient-01-03313.png\n",
      "image continuous_carotid_5_Patient-01-03314.png\n"
     ]
    },
    {
     "name": "stderr",
     "output_type": "stream",
     "text": [
      " 61%|██████    | 1137/1877 [00:26<00:16, 44.64it/s]"
     ]
    },
    {
     "name": "stdout",
     "output_type": "stream",
     "text": [
      "image continuous_carotid_5_Patient-01-03315.png\n",
      "image continuous_carotid_5_Patient-01-03316.png\n",
      "image continuous_carotid_5_Patient-01-03317.png\n",
      "image continuous_carotid_5_Patient-01-03318.png\n",
      "image continuous_carotid_5_Patient-01-03319.png\n",
      "image continuous_carotid_5_Patient-01-03320.png\n",
      "image continuous_carotid_5_Patient-01-03321.png\n",
      "image continuous_carotid_5_Patient-01-03322.png\n",
      "image continuous_carotid_5_Patient-01-03323.png\n"
     ]
    },
    {
     "name": "stderr",
     "output_type": "stream",
     "text": [
      " 61%|██████    | 1147/1877 [00:26<00:16, 45.04it/s]"
     ]
    },
    {
     "name": "stdout",
     "output_type": "stream",
     "text": [
      "image continuous_carotid_5_Patient-01-03324.png\n",
      "image continuous_carotid_5_Patient-01-03325.png\n",
      "image continuous_carotid_5_Patient-01-03326.png\n",
      "image continuous_carotid_5_Patient-01-03327.png\n",
      "image continuous_carotid_5_Patient-01-03328.png\n",
      "image continuous_carotid_5_Patient-01-03329.png\n",
      "image continuous_carotid_5_Patient-01-03330.png\n",
      "image continuous_carotid_5_Patient-01-03331.png\n",
      "image continuous_carotid_5_Patient-01-03332.png\n",
      "image continuous_carotid_5_Patient-01-03333.png\n"
     ]
    },
    {
     "name": "stderr",
     "output_type": "stream",
     "text": [
      " 62%|██████▏   | 1157/1877 [00:27<00:15, 45.03it/s]"
     ]
    },
    {
     "name": "stdout",
     "output_type": "stream",
     "text": [
      "image continuous_carotid_5_Patient-01-03334.png\n",
      "image continuous_carotid_5_Patient-01-03335.png\n",
      "image continuous_carotid_5_Patient-01-03336.png\n",
      "image continuous_carotid_5_Patient-01-03337.png\n",
      "image continuous_carotid_5_Patient-01-03338.png\n",
      "image continuous_carotid_5_Patient-01-03339.png\n",
      "image continuous_carotid_5_Patient-01-03340.png\n",
      "image continuous_carotid_5_Patient-01-03341.png\n",
      "image continuous_carotid_5_Patient-01-03342.png\n",
      "image continuous_carotid_5_Patient-01-03343.png\n"
     ]
    },
    {
     "name": "stderr",
     "output_type": "stream",
     "text": [
      " 62%|██████▏   | 1167/1877 [00:27<00:15, 45.22it/s]"
     ]
    },
    {
     "name": "stdout",
     "output_type": "stream",
     "text": [
      "image continuous_carotid_5_Patient-01-03344.png\n",
      "image continuous_carotid_5_Patient-01-03345.png\n",
      "image continuous_carotid_5_Patient-01-03346.png\n",
      "image continuous_carotid_5_Patient-01-03347.png\n",
      "image continuous_carotid_5_Patient-01-03348.png\n",
      "image continuous_carotid_5_Patient-01-03349.png\n",
      "image continuous_carotid_5_Patient-01-03350.png\n",
      "image continuous_carotid_5_Patient-01-03351.png\n",
      "image continuous_carotid_5_Patient-01-03352.png\n",
      "image continuous_carotid_5_Patient-01-03353.png\n"
     ]
    },
    {
     "name": "stderr",
     "output_type": "stream",
     "text": [
      " 63%|██████▎   | 1177/1877 [00:27<00:15, 45.66it/s]"
     ]
    },
    {
     "name": "stdout",
     "output_type": "stream",
     "text": [
      "image continuous_carotid_5_Patient-01-03354.png\n",
      "image continuous_carotid_5_Patient-01-03355.png\n",
      "image continuous_carotid_5_Patient-01-03356.png\n",
      "image continuous_carotid_5_Patient-01-03357.png\n",
      "image continuous_carotid_5_Patient-01-03358.png\n",
      "image continuous_carotid_5_Patient-01-03359.png\n",
      "image continuous_carotid_5_Patient-01-03360.png\n",
      "image continuous_carotid_5_Patient-01-03361.png\n",
      "image continuous_carotid_5_Patient-01-03362.png\n",
      "image continuous_carotid_5_Patient-01-03363.png\n"
     ]
    },
    {
     "name": "stderr",
     "output_type": "stream",
     "text": [
      " 63%|██████▎   | 1187/1877 [00:27<00:15, 45.31it/s]"
     ]
    },
    {
     "name": "stdout",
     "output_type": "stream",
     "text": [
      "image continuous_carotid_5_Patient-01-03364.png\n",
      "image continuous_carotid_5_Patient-01-03365.png\n",
      "image continuous_carotid_5_Patient-01-03366.png\n",
      "image continuous_carotid_5_Patient-01-03367.png\n",
      "image continuous_carotid_5_Patient-01-03368.png\n",
      "image continuous_carotid_5_Patient-01-03369.png\n",
      "image continuous_carotid_5_Patient-01-03370.png\n",
      "image continuous_carotid_5_Patient-01-03371.png\n",
      "image continuous_carotid_5_Patient-01-03372.png\n",
      "image continuous_carotid_5_Patient-01-03373.png\n"
     ]
    },
    {
     "name": "stderr",
     "output_type": "stream",
     "text": [
      " 64%|██████▍   | 1197/1877 [00:27<00:15, 45.31it/s]"
     ]
    },
    {
     "name": "stdout",
     "output_type": "stream",
     "text": [
      "image continuous_carotid_5_Patient-01-03374.png\n",
      "image continuous_carotid_5_Patient-01-03375.png\n",
      "image continuous_carotid_5_Patient-01-03376.png\n",
      "image continuous_carotid_5_Patient-01-03377.png\n",
      "image continuous_carotid_5_Patient-01-03378.png\n",
      "image continuous_carotid_5_Patient-01-03379.png\n",
      "image continuous_carotid_5_Patient-01-03380.png\n",
      "image continuous_carotid_5_Patient-01-03381.png\n",
      "image continuous_carotid_5_Patient-01-03382.png\n",
      "image continuous_carotid_5_Patient-01-03383.png\n"
     ]
    },
    {
     "name": "stderr",
     "output_type": "stream",
     "text": [
      " 64%|██████▍   | 1207/1877 [00:28<00:14, 45.16it/s]"
     ]
    },
    {
     "name": "stdout",
     "output_type": "stream",
     "text": [
      "image continuous_carotid_5_Patient-01-03384.png\n",
      "image continuous_carotid_5_Patient-01-03385.png\n",
      "image continuous_carotid_5_Patient-01-03386.png\n",
      "image continuous_carotid_5_Patient-01-03387.png\n",
      "image continuous_carotid_5_Patient-01-03388.png\n",
      "image continuous_carotid_5_Patient-01-03389.png\n",
      "image continuous_carotid_5_Patient-01-03390.png\n",
      "image continuous_carotid_5_Patient-01-03391.png\n",
      "image continuous_carotid_5_Patient-01-03392.png\n",
      "image continuous_carotid_5_Patient-01-03393.png\n"
     ]
    },
    {
     "name": "stderr",
     "output_type": "stream",
     "text": [
      " 65%|██████▍   | 1217/1877 [00:28<00:14, 45.42it/s]"
     ]
    },
    {
     "name": "stdout",
     "output_type": "stream",
     "text": [
      "image continuous_carotid_5_Patient-01-03394.png\n",
      "image continuous_carotid_5_Patient-01-03395.png\n",
      "image continuous_carotid_5_Patient-01-03396.png\n",
      "image continuous_carotid_5_Patient-01-03397.png\n",
      "image continuous_carotid_5_Patient-01-03398.png\n",
      "image continuous_carotid_5_Patient-01-03399.png\n",
      "image continuous_carotid_5_Patient-01-03400.png\n",
      "image continuous_carotid_5_Patient-01-03401.png\n",
      "image continuous_carotid_5_Patient-01-03402.png\n",
      "image continuous_carotid_5_Patient-01-03403.png\n"
     ]
    },
    {
     "name": "stderr",
     "output_type": "stream",
     "text": [
      " 65%|██████▌   | 1227/1877 [00:28<00:14, 45.70it/s]"
     ]
    },
    {
     "name": "stdout",
     "output_type": "stream",
     "text": [
      "image continuous_carotid_5_Patient-01-03404.png\n",
      "image continuous_carotid_5_Patient-01-03405.png\n",
      "image continuous_carotid_5_Patient-01-03406.png\n",
      "image continuous_carotid_5_Patient-01-03407.png\n",
      "image continuous_carotid_5_Patient-01-03408.png\n",
      "image continuous_carotid_5_Patient-01-03409.png\n",
      "image continuous_carotid_5_Patient-01-03410.png\n",
      "image continuous_carotid_5_Patient-01-03411.png\n",
      "image continuous_carotid_5_Patient-01-03412.png\n",
      "image continuous_carotid_5_Patient-01-03413.png\n"
     ]
    },
    {
     "name": "stderr",
     "output_type": "stream",
     "text": [
      " 66%|██████▌   | 1237/1877 [00:28<00:14, 43.30it/s]"
     ]
    },
    {
     "name": "stdout",
     "output_type": "stream",
     "text": [
      "image continuous_carotid_5_Patient-01-03414.png\n",
      "image continuous_carotid_5_Patient-01-03415.png\n",
      "image continuous_carotid_5_Patient-01-03416.png\n",
      "image continuous_carotid_5_Patient-01-03417.png\n",
      "image continuous_carotid_5_Patient-01-03418.png\n",
      "image continuous_carotid_5_Patient-01-03419.png\n",
      "image continuous_carotid_5_Patient-01-03420.png\n",
      "image continuous_carotid_5_Patient-01-03421.png\n",
      "image continuous_carotid_5_Patient-01-03422.png\n"
     ]
    },
    {
     "name": "stderr",
     "output_type": "stream",
     "text": [
      " 66%|██████▋   | 1247/1877 [00:29<00:14, 44.31it/s]"
     ]
    },
    {
     "name": "stdout",
     "output_type": "stream",
     "text": [
      "image continuous_carotid_5_Patient-01-03423.png\n",
      "image continuous_carotid_5_Patient-01-03424.png\n",
      "image continuous_carotid_5_Patient-01-03425.png\n",
      "image continuous_carotid_5_Patient-01-03426.png\n",
      "image continuous_carotid_5_Patient-01-03427.png\n",
      "image continuous_carotid_5_Patient-01-03428.png\n",
      "image continuous_carotid_5_Patient-01-03429.png\n",
      "image continuous_carotid_5_Patient-01-03430.png\n",
      "image continuous_carotid_5_Patient-01-03431.png\n",
      "image continuous_carotid_5_Patient-01-03432.png\n"
     ]
    },
    {
     "name": "stderr",
     "output_type": "stream",
     "text": [
      " 67%|██████▋   | 1257/1877 [00:29<00:13, 44.93it/s]"
     ]
    },
    {
     "name": "stdout",
     "output_type": "stream",
     "text": [
      "image continuous_carotid_5_Patient-01-03433.png\n",
      "image continuous_carotid_5_Patient-01-03434.png\n",
      "image continuous_carotid_5_Patient-01-03435.png\n",
      "image continuous_carotid_5_Patient-01-03436.png\n",
      "image continuous_carotid_5_Patient-01-03437.png\n",
      "image continuous_carotid_5_Patient-01-03438.png\n",
      "image continuous_carotid_5_Patient-01-03439.png\n",
      "image continuous_carotid_5_Patient-01-03440.png\n",
      "image continuous_carotid_5_Patient-01-03441.png\n",
      "image continuous_carotid_5_Patient-01-03442.png\n"
     ]
    },
    {
     "name": "stderr",
     "output_type": "stream",
     "text": [
      " 68%|██████▊   | 1267/1877 [00:29<00:13, 44.95it/s]"
     ]
    },
    {
     "name": "stdout",
     "output_type": "stream",
     "text": [
      "image continuous_carotid_5_Patient-01-03443.png\n",
      "image continuous_carotid_5_Patient-01-03444.png\n",
      "image continuous_carotid_5_Patient-01-03445.png\n",
      "image continuous_carotid_5_Patient-01-03446.png\n",
      "image continuous_carotid_5_Patient-01-03447.png\n",
      "image continuous_carotid_5_Patient-01-03448.png\n",
      "image continuous_carotid_5_Patient-01-03449.png\n",
      "image continuous_carotid_5_Patient-01-03450.png\n",
      "image continuous_carotid_5_Patient-01-03451.png\n",
      "image continuous_carotid_5_Patient-01-03452.png\n"
     ]
    },
    {
     "name": "stderr",
     "output_type": "stream",
     "text": [
      " 68%|██████▊   | 1277/1877 [00:29<00:13, 44.91it/s]"
     ]
    },
    {
     "name": "stdout",
     "output_type": "stream",
     "text": [
      "image continuous_carotid_5_Patient-01-03453.png\n",
      "image continuous_carotid_5_Patient-01-03454.png\n",
      "image continuous_carotid_5_Patient-01-03455.png\n",
      "image continuous_carotid_5_Patient-01-03456.png\n",
      "image continuous_carotid_5_Patient-01-03457.png\n",
      "image continuous_carotid_5_Patient-01-03458.png\n",
      "image continuous_carotid_5_Patient-01-03459.png\n",
      "image continuous_carotid_5_Patient-01-03460.png\n",
      "image continuous_carotid_5_Patient-01-03461.png\n",
      "image continuous_carotid_5_Patient-01-03462.png\n"
     ]
    },
    {
     "name": "stderr",
     "output_type": "stream",
     "text": [
      " 69%|██████▊   | 1287/1877 [00:29<00:13, 45.35it/s]"
     ]
    },
    {
     "name": "stdout",
     "output_type": "stream",
     "text": [
      "image continuous_carotid_5_Patient-01-03463.png\n",
      "image continuous_carotid_5_Patient-01-03464.png\n",
      "image continuous_carotid_5_Patient-01-03465.png\n",
      "image continuous_carotid_5_Patient-01-03466.png\n",
      "image continuous_carotid_5_Patient-01-03467.png\n",
      "image continuous_carotid_5_Patient-01-03468.png\n",
      "image continuous_carotid_5_Patient-01-03469.png\n",
      "image continuous_carotid_5_Patient-01-03470.png\n",
      "image continuous_carotid_5_Patient-01-03471.png\n",
      "image continuous_carotid_5_Patient-01-03472.png\n"
     ]
    },
    {
     "name": "stderr",
     "output_type": "stream",
     "text": [
      " 69%|██████▉   | 1297/1877 [00:30<00:12, 45.07it/s]"
     ]
    },
    {
     "name": "stdout",
     "output_type": "stream",
     "text": [
      "image continuous_carotid_5_Patient-01-03473.png\n",
      "image continuous_carotid_5_Patient-01-03474.png\n",
      "image continuous_carotid_5_Patient-01-03475.png\n",
      "image continuous_carotid_5_Patient-01-03476.png\n",
      "image continuous_carotid_5_Patient-01-03477.png\n",
      "image continuous_carotid_5_Patient-01-03478.png\n",
      "image continuous_carotid_5_Patient-01-03479.png\n",
      "image continuous_carotid_5_Patient-01-03480.png\n",
      "image continuous_carotid_5_Patient-01-03481.png\n",
      "image continuous_carotid_5_Patient-01-03482.png\n"
     ]
    },
    {
     "name": "stderr",
     "output_type": "stream",
     "text": [
      " 70%|██████▉   | 1307/1877 [00:30<00:12, 45.36it/s]"
     ]
    },
    {
     "name": "stdout",
     "output_type": "stream",
     "text": [
      "image continuous_carotid_5_Patient-01-03483.png\n",
      "image continuous_carotid_5_Patient-01-03484.png\n",
      "image continuous_carotid_5_Patient-01-03485.png\n",
      "image continuous_carotid_5_Patient-01-03486.png\n",
      "image continuous_carotid_5_Patient-01-03487.png\n",
      "image continuous_carotid_5_Patient-01-03488.png\n",
      "image continuous_carotid_5_Patient-01-03489.png\n",
      "image continuous_carotid_5_Patient-01-03490.png\n",
      "image continuous_carotid_5_Patient-01-03491.png\n",
      "image continuous_carotid_5_Patient-01-03492.png\n"
     ]
    },
    {
     "name": "stderr",
     "output_type": "stream",
     "text": [
      " 70%|███████   | 1317/1877 [00:30<00:12, 45.28it/s]"
     ]
    },
    {
     "name": "stdout",
     "output_type": "stream",
     "text": [
      "image continuous_carotid_5_Patient-01-03493.png\n",
      "image continuous_carotid_5_Patient-01-03494.png\n",
      "image continuous_carotid_5_Patient-01-03495.png\n",
      "image continuous_carotid_5_Patient-01-03496.png\n",
      "image continuous_carotid_5_Patient-01-03497.png\n",
      "image continuous_carotid_5_Patient-01-03498.png\n",
      "image continuous_carotid_5_Patient-01-03499.png\n",
      "image continuous_carotid_5_Patient-01-03500.png\n",
      "image continuous_carotid_5_Patient-01-03501.png\n",
      "image continuous_carotid_5_Patient-01-03502.png\n"
     ]
    },
    {
     "name": "stderr",
     "output_type": "stream",
     "text": [
      " 71%|███████   | 1327/1877 [00:30<00:12, 45.10it/s]"
     ]
    },
    {
     "name": "stdout",
     "output_type": "stream",
     "text": [
      "image continuous_carotid_5_Patient-01-03503.png\n",
      "image continuous_carotid_5_Patient-01-03504.png\n",
      "image continuous_carotid_5_Patient-01-03505.png\n",
      "image continuous_carotid_5_Patient-01-03506.png\n",
      "image continuous_carotid_5_Patient-01-03507.png\n",
      "image continuous_carotid_5_Patient-01-03508.png\n",
      "image continuous_carotid_5_Patient-01-03509.png\n",
      "image continuous_carotid_5_Patient-01-03510.png\n",
      "image continuous_carotid_5_Patient-01-03511.png\n",
      "image continuous_carotid_5_Patient-01-03512.png\n"
     ]
    },
    {
     "name": "stderr",
     "output_type": "stream",
     "text": [
      " 71%|███████   | 1337/1877 [00:31<00:11, 45.28it/s]"
     ]
    },
    {
     "name": "stdout",
     "output_type": "stream",
     "text": [
      "image continuous_carotid_5_Patient-01-03513.png\n",
      "image continuous_carotid_5_Patient-01-03514.png\n",
      "image continuous_carotid_5_Patient-01-03515.png\n",
      "image continuous_carotid_5_Patient-01-03516.png\n",
      "image continuous_carotid_5_Patient-01-03517.png\n",
      "image continuous_carotid_5_Patient-01-03518.png\n",
      "image continuous_carotid_5_Patient-01-03519.png\n",
      "image continuous_carotid_5_Patient-01-03520.png\n",
      "image continuous_carotid_5_Patient-01-03521.png\n",
      "image mi_segnet_Image_0.png\n"
     ]
    },
    {
     "name": "stderr",
     "output_type": "stream",
     "text": [
      " 72%|███████▏  | 1349/1877 [00:31<00:10, 50.52it/s]"
     ]
    },
    {
     "name": "stdout",
     "output_type": "stream",
     "text": [
      "image mi_segnet_Image_1.png\n",
      "image mi_segnet_Image_10.png\n",
      "image mi_segnet_Image_100.png\n",
      "image mi_segnet_Image_101.png\n",
      "image mi_segnet_Image_102.png\n",
      "image mi_segnet_Image_103.png\n",
      "image mi_segnet_Image_104.png\n",
      "image mi_segnet_Image_105.png\n",
      "image mi_segnet_Image_106.png\n",
      "image mi_segnet_Image_107.png\n",
      "image mi_segnet_Image_108.png\n",
      "image mi_segnet_Image_109.png\n"
     ]
    },
    {
     "name": "stderr",
     "output_type": "stream",
     "text": [
      " 73%|███████▎  | 1361/1877 [00:31<00:09, 53.28it/s]"
     ]
    },
    {
     "name": "stdout",
     "output_type": "stream",
     "text": [
      "image mi_segnet_Image_11.png\n",
      "image mi_segnet_Image_110.png\n",
      "image mi_segnet_Image_111.png\n",
      "image mi_segnet_Image_112.png\n",
      "image mi_segnet_Image_113.png\n",
      "image mi_segnet_Image_114.png\n",
      "image mi_segnet_Image_115.png\n",
      "image mi_segnet_Image_116.png\n",
      "image mi_segnet_Image_117.png\n",
      "image mi_segnet_Image_118.png\n",
      "image mi_segnet_Image_119.png\n",
      "image mi_segnet_Image_12.png\n"
     ]
    },
    {
     "name": "stderr",
     "output_type": "stream",
     "text": [
      " 73%|███████▎  | 1373/1877 [00:31<00:09, 54.50it/s]"
     ]
    },
    {
     "name": "stdout",
     "output_type": "stream",
     "text": [
      "image mi_segnet_Image_120.png\n",
      "image mi_segnet_Image_121.png\n",
      "image mi_segnet_Image_122.png\n",
      "image mi_segnet_Image_123.png\n",
      "image mi_segnet_Image_124.png\n",
      "image mi_segnet_Image_125.png\n",
      "image mi_segnet_Image_126.png\n",
      "image mi_segnet_Image_127.png\n",
      "image mi_segnet_Image_128.png\n",
      "image mi_segnet_Image_129.png\n",
      "image mi_segnet_Image_13.png\n",
      "image mi_segnet_Image_130.png\n"
     ]
    },
    {
     "name": "stderr",
     "output_type": "stream",
     "text": [
      " 74%|███████▍  | 1385/1877 [00:31<00:08, 54.97it/s]"
     ]
    },
    {
     "name": "stdout",
     "output_type": "stream",
     "text": [
      "image mi_segnet_Image_131.png\n",
      "image mi_segnet_Image_132.png\n",
      "image mi_segnet_Image_133.png\n",
      "image mi_segnet_Image_134.png\n",
      "image mi_segnet_Image_135.png\n",
      "image mi_segnet_Image_136.png\n",
      "image mi_segnet_Image_137.png\n",
      "image mi_segnet_Image_138.png\n",
      "image mi_segnet_Image_139.png\n",
      "image mi_segnet_Image_14.png\n",
      "image mi_segnet_Image_140.png\n",
      "image mi_segnet_Image_141.png\n"
     ]
    },
    {
     "name": "stderr",
     "output_type": "stream",
     "text": [
      " 74%|███████▍  | 1397/1877 [00:32<00:08, 55.53it/s]"
     ]
    },
    {
     "name": "stdout",
     "output_type": "stream",
     "text": [
      "image mi_segnet_Image_142.png\n",
      "image mi_segnet_Image_143.png\n",
      "image mi_segnet_Image_144.png\n",
      "image mi_segnet_Image_145.png\n",
      "image mi_segnet_Image_146.png\n",
      "image mi_segnet_Image_147.png\n",
      "image mi_segnet_Image_148.png\n",
      "image mi_segnet_Image_149.png\n",
      "image mi_segnet_Image_15.png\n",
      "image mi_segnet_Image_150.png\n",
      "image mi_segnet_Image_151.png\n",
      "image mi_segnet_Image_152.png\n"
     ]
    },
    {
     "name": "stderr",
     "output_type": "stream",
     "text": [
      " 75%|███████▌  | 1409/1877 [00:32<00:08, 55.65it/s]"
     ]
    },
    {
     "name": "stdout",
     "output_type": "stream",
     "text": [
      "image mi_segnet_Image_153.png\n",
      "image mi_segnet_Image_154.png\n",
      "image mi_segnet_Image_155.png\n",
      "image mi_segnet_Image_156.png\n",
      "image mi_segnet_Image_157.png\n",
      "image mi_segnet_Image_158.png\n",
      "image mi_segnet_Image_159.png\n",
      "image mi_segnet_Image_16.png\n",
      "image mi_segnet_Image_160.png\n",
      "image mi_segnet_Image_161.png\n",
      "image mi_segnet_Image_162.png\n",
      "image mi_segnet_Image_163.png\n"
     ]
    },
    {
     "name": "stderr",
     "output_type": "stream",
     "text": [
      " 76%|███████▌  | 1421/1877 [00:32<00:08, 55.73it/s]"
     ]
    },
    {
     "name": "stdout",
     "output_type": "stream",
     "text": [
      "image mi_segnet_Image_164.png\n",
      "image mi_segnet_Image_165.png\n",
      "image mi_segnet_Image_166.png\n",
      "image mi_segnet_Image_167.png\n",
      "image mi_segnet_Image_168.png\n",
      "image mi_segnet_Image_169.png\n",
      "image mi_segnet_Image_17.png\n",
      "image mi_segnet_Image_170.png\n",
      "image mi_segnet_Image_171.png\n",
      "image mi_segnet_Image_172.png\n",
      "image mi_segnet_Image_173.png\n",
      "image mi_segnet_Image_174.png\n"
     ]
    },
    {
     "name": "stderr",
     "output_type": "stream",
     "text": [
      " 76%|███████▋  | 1433/1877 [00:32<00:07, 56.89it/s]"
     ]
    },
    {
     "name": "stdout",
     "output_type": "stream",
     "text": [
      "image mi_segnet_Image_175.png\n",
      "image mi_segnet_Image_176.png\n",
      "image mi_segnet_Image_177.png\n",
      "image mi_segnet_Image_178.png\n",
      "image mi_segnet_Image_179.png\n",
      "image mi_segnet_Image_18.png\n",
      "image mi_segnet_Image_180.png\n",
      "image mi_segnet_Image_181.png\n",
      "image mi_segnet_Image_182.png\n",
      "image mi_segnet_Image_183.png\n",
      "image mi_segnet_Image_184.png\n",
      "image mi_segnet_Image_185.png\n"
     ]
    },
    {
     "name": "stderr",
     "output_type": "stream",
     "text": [
      " 77%|███████▋  | 1445/1877 [00:33<00:07, 57.44it/s]"
     ]
    },
    {
     "name": "stdout",
     "output_type": "stream",
     "text": [
      "image mi_segnet_Image_186.png\n",
      "image mi_segnet_Image_187.png\n",
      "image mi_segnet_Image_188.png\n",
      "image mi_segnet_Image_189.png\n",
      "image mi_segnet_Image_19.png\n",
      "image mi_segnet_Image_190.png\n",
      "image mi_segnet_Image_191.png\n",
      "image mi_segnet_Image_192.png\n",
      "image mi_segnet_Image_193.png\n",
      "image mi_segnet_Image_194.png\n",
      "image mi_segnet_Image_195.png\n",
      "image mi_segnet_Image_196.png\n"
     ]
    },
    {
     "name": "stderr",
     "output_type": "stream",
     "text": [
      " 77%|███████▋  | 1451/1877 [00:33<00:07, 57.54it/s]"
     ]
    },
    {
     "name": "stdout",
     "output_type": "stream",
     "text": [
      "image mi_segnet_Image_197.png\n",
      "image mi_segnet_Image_198.png\n",
      "image mi_segnet_Image_199.png\n",
      "image mi_segnet_Image_2.png\n",
      "image mi_segnet_Image_20.png\n",
      "image mi_segnet_Image_200.png\n",
      "image mi_segnet_Image_201.png\n",
      "image mi_segnet_Image_202.png\n",
      "image mi_segnet_Image_203.png\n",
      "image mi_segnet_Image_204.png\n",
      "image mi_segnet_Image_205.png\n",
      "image mi_segnet_Image_206.png\n"
     ]
    },
    {
     "name": "stderr",
     "output_type": "stream",
     "text": [
      " 78%|███████▊  | 1464/1877 [00:33<00:07, 58.45it/s]"
     ]
    },
    {
     "name": "stdout",
     "output_type": "stream",
     "text": [
      "image mi_segnet_Image_207.png\n",
      "image mi_segnet_Image_208.png\n",
      "image mi_segnet_Image_209.png\n",
      "image mi_segnet_Image_21.png\n",
      "image mi_segnet_Image_210.png\n",
      "image mi_segnet_Image_211.png\n",
      "image mi_segnet_Image_212.png\n",
      "image mi_segnet_Image_213.png\n",
      "image mi_segnet_Image_214.png\n",
      "image mi_segnet_Image_215.png\n",
      "image mi_segnet_Image_216.png\n",
      "image mi_segnet_Image_217.png\n",
      "image mi_segnet_Image_218.png\n"
     ]
    },
    {
     "name": "stderr",
     "output_type": "stream",
     "text": [
      " 79%|███████▊  | 1477/1877 [00:33<00:06, 58.77it/s]"
     ]
    },
    {
     "name": "stdout",
     "output_type": "stream",
     "text": [
      "image mi_segnet_Image_219.png\n",
      "image mi_segnet_Image_22.png\n",
      "image mi_segnet_Image_220.png\n",
      "image mi_segnet_Image_221.png\n",
      "image mi_segnet_Image_222.png\n",
      "image mi_segnet_Image_223.png\n",
      "image mi_segnet_Image_224.png\n",
      "image mi_segnet_Image_225.png\n",
      "image mi_segnet_Image_226.png\n",
      "image mi_segnet_Image_227.png\n",
      "image mi_segnet_Image_228.png\n",
      "image mi_segnet_Image_229.png\n"
     ]
    },
    {
     "name": "stderr",
     "output_type": "stream",
     "text": [
      " 79%|███████▉  | 1489/1877 [00:33<00:06, 57.98it/s]"
     ]
    },
    {
     "name": "stdout",
     "output_type": "stream",
     "text": [
      "image mi_segnet_Image_23.png\n",
      "image mi_segnet_Image_230.png\n",
      "image mi_segnet_Image_231.png\n",
      "image mi_segnet_Image_232.png\n",
      "image mi_segnet_Image_233.png\n",
      "image mi_segnet_Image_234.png\n",
      "image mi_segnet_Image_235.png\n",
      "image mi_segnet_Image_236.png\n",
      "image mi_segnet_Image_237.png\n",
      "image mi_segnet_Image_238.png\n",
      "image mi_segnet_Image_239.png\n",
      "image mi_segnet_Image_24.png\n"
     ]
    },
    {
     "name": "stderr",
     "output_type": "stream",
     "text": [
      " 80%|███████▉  | 1501/1877 [00:33<00:06, 55.50it/s]"
     ]
    },
    {
     "name": "stdout",
     "output_type": "stream",
     "text": [
      "image mi_segnet_Image_240.png\n",
      "image mi_segnet_Image_241.png\n",
      "image mi_segnet_Image_242.png\n",
      "image mi_segnet_Image_243.png\n",
      "image mi_segnet_Image_244.png\n",
      "image mi_segnet_Image_245.png\n",
      "image mi_segnet_Image_246.png\n",
      "image mi_segnet_Image_247.png\n",
      "image mi_segnet_Image_248.png\n",
      "image mi_segnet_Image_249.png\n",
      "image mi_segnet_Image_25.png\n"
     ]
    },
    {
     "name": "stderr",
     "output_type": "stream",
     "text": [
      " 81%|████████  | 1513/1877 [00:34<00:06, 55.71it/s]"
     ]
    },
    {
     "name": "stdout",
     "output_type": "stream",
     "text": [
      "image mi_segnet_Image_250.png\n",
      "image mi_segnet_Image_251.png\n",
      "image mi_segnet_Image_252.png\n",
      "image mi_segnet_Image_253.png\n",
      "image mi_segnet_Image_254.png\n",
      "image mi_segnet_Image_255.png\n",
      "image mi_segnet_Image_256.png\n",
      "image mi_segnet_Image_257.png\n",
      "image mi_segnet_Image_258.png\n",
      "image mi_segnet_Image_259.png\n",
      "image mi_segnet_Image_26.png\n",
      "image mi_segnet_Image_260.png\n"
     ]
    },
    {
     "name": "stderr",
     "output_type": "stream",
     "text": [
      " 81%|████████  | 1525/1877 [00:34<00:06, 56.16it/s]"
     ]
    },
    {
     "name": "stdout",
     "output_type": "stream",
     "text": [
      "image mi_segnet_Image_261.png\n",
      "image mi_segnet_Image_262.png\n",
      "image mi_segnet_Image_263.png\n",
      "image mi_segnet_Image_264.png\n",
      "image mi_segnet_Image_265.png\n",
      "image mi_segnet_Image_266.png\n",
      "image mi_segnet_Image_267.png\n",
      "image mi_segnet_Image_268.png\n",
      "image mi_segnet_Image_269.png\n",
      "image mi_segnet_Image_27.png\n"
     ]
    },
    {
     "name": "stderr",
     "output_type": "stream",
     "text": [
      " 82%|████████▏ | 1537/1877 [00:34<00:07, 47.44it/s]"
     ]
    },
    {
     "name": "stdout",
     "output_type": "stream",
     "text": [
      "image mi_segnet_Image_270.png\n",
      "image mi_segnet_Image_271.png\n",
      "image mi_segnet_Image_272.png\n",
      "image mi_segnet_Image_273.png\n",
      "image mi_segnet_Image_274.png\n",
      "image mi_segnet_Image_275.png\n",
      "image mi_segnet_Image_276.png\n",
      "image mi_segnet_Image_277.png\n",
      "image mi_segnet_Image_278.png\n",
      "image mi_segnet_Image_279.png\n",
      "image mi_segnet_Image_28.png\n",
      "image mi_segnet_Image_280.png\n"
     ]
    },
    {
     "name": "stderr",
     "output_type": "stream",
     "text": [
      " 83%|████████▎ | 1549/1877 [00:34<00:06, 52.11it/s]"
     ]
    },
    {
     "name": "stdout",
     "output_type": "stream",
     "text": [
      "image mi_segnet_Image_281.png\n",
      "image mi_segnet_Image_282.png\n",
      "image mi_segnet_Image_283.png\n",
      "image mi_segnet_Image_284.png\n",
      "image mi_segnet_Image_285.png\n",
      "image mi_segnet_Image_286.png\n",
      "image mi_segnet_Image_287.png\n",
      "image mi_segnet_Image_288.png\n",
      "image mi_segnet_Image_289.png\n",
      "image mi_segnet_Image_29.png\n",
      "image mi_segnet_Image_290.png\n",
      "image mi_segnet_Image_291.png\n"
     ]
    },
    {
     "name": "stderr",
     "output_type": "stream",
     "text": [
      " 83%|████████▎ | 1561/1877 [00:35<00:05, 54.65it/s]"
     ]
    },
    {
     "name": "stdout",
     "output_type": "stream",
     "text": [
      "image mi_segnet_Image_292.png\n",
      "image mi_segnet_Image_293.png\n",
      "image mi_segnet_Image_294.png\n",
      "image mi_segnet_Image_295.png\n",
      "image mi_segnet_Image_296.png\n",
      "image mi_segnet_Image_297.png\n",
      "image mi_segnet_Image_298.png\n",
      "image mi_segnet_Image_299.png\n",
      "image mi_segnet_Image_3.png\n",
      "image mi_segnet_Image_30.png\n",
      "image mi_segnet_Image_300.png\n",
      "image mi_segnet_Image_301.png\n"
     ]
    },
    {
     "name": "stderr",
     "output_type": "stream",
     "text": [
      " 84%|████████▍ | 1573/1877 [00:35<00:05, 56.05it/s]"
     ]
    },
    {
     "name": "stdout",
     "output_type": "stream",
     "text": [
      "image mi_segnet_Image_302.png\n",
      "image mi_segnet_Image_303.png\n",
      "image mi_segnet_Image_304.png\n",
      "image mi_segnet_Image_305.png\n",
      "image mi_segnet_Image_306.png\n",
      "image mi_segnet_Image_307.png\n",
      "image mi_segnet_Image_308.png\n",
      "image mi_segnet_Image_309.png\n",
      "image mi_segnet_Image_31.png\n",
      "image mi_segnet_Image_310.png\n",
      "image mi_segnet_Image_311.png\n",
      "image mi_segnet_Image_312.png\n"
     ]
    },
    {
     "name": "stderr",
     "output_type": "stream",
     "text": [
      " 84%|████████▍ | 1585/1877 [00:35<00:05, 57.12it/s]"
     ]
    },
    {
     "name": "stdout",
     "output_type": "stream",
     "text": [
      "image mi_segnet_Image_313.png\n",
      "image mi_segnet_Image_314.png\n",
      "image mi_segnet_Image_315.png\n",
      "image mi_segnet_Image_316.png\n",
      "image mi_segnet_Image_317.png\n",
      "image mi_segnet_Image_318.png\n",
      "image mi_segnet_Image_319.png\n",
      "image mi_segnet_Image_32.png\n",
      "image mi_segnet_Image_320.png\n",
      "image mi_segnet_Image_321.png\n",
      "image mi_segnet_Image_322.png\n",
      "image mi_segnet_Image_323.png\n"
     ]
    },
    {
     "name": "stderr",
     "output_type": "stream",
     "text": [
      " 85%|████████▌ | 1597/1877 [00:35<00:04, 57.60it/s]"
     ]
    },
    {
     "name": "stdout",
     "output_type": "stream",
     "text": [
      "image mi_segnet_Image_324.png\n",
      "image mi_segnet_Image_325.png\n",
      "image mi_segnet_Image_326.png\n",
      "image mi_segnet_Image_327.png\n",
      "image mi_segnet_Image_328.png\n",
      "image mi_segnet_Image_329.png\n",
      "image mi_segnet_Image_33.png\n",
      "image mi_segnet_Image_330.png\n",
      "image mi_segnet_Image_331.png\n",
      "image mi_segnet_Image_332.png\n",
      "image mi_segnet_Image_333.png\n",
      "image mi_segnet_Image_334.png\n"
     ]
    },
    {
     "name": "stderr",
     "output_type": "stream",
     "text": [
      " 86%|████████▌ | 1609/1877 [00:35<00:04, 58.18it/s]"
     ]
    },
    {
     "name": "stdout",
     "output_type": "stream",
     "text": [
      "image mi_segnet_Image_335.png\n",
      "image mi_segnet_Image_336.png\n",
      "image mi_segnet_Image_337.png\n",
      "image mi_segnet_Image_338.png\n",
      "image mi_segnet_Image_339.png\n",
      "image mi_segnet_Image_34.png\n",
      "image mi_segnet_Image_340.png\n",
      "image mi_segnet_Image_341.png\n",
      "image mi_segnet_Image_342.png\n",
      "image mi_segnet_Image_343.png\n",
      "image mi_segnet_Image_344.png\n",
      "image mi_segnet_Image_345.png\n"
     ]
    },
    {
     "name": "stderr",
     "output_type": "stream",
     "text": [
      " 86%|████████▋ | 1621/1877 [00:36<00:04, 58.05it/s]"
     ]
    },
    {
     "name": "stdout",
     "output_type": "stream",
     "text": [
      "image mi_segnet_Image_346.png\n",
      "image mi_segnet_Image_347.png\n",
      "image mi_segnet_Image_348.png\n",
      "image mi_segnet_Image_349.png\n",
      "image mi_segnet_Image_35.png\n",
      "image mi_segnet_Image_350.png\n",
      "image mi_segnet_Image_351.png\n",
      "image mi_segnet_Image_352.png\n",
      "image mi_segnet_Image_353.png\n",
      "image mi_segnet_Image_354.png\n",
      "image mi_segnet_Image_355.png\n",
      "image mi_segnet_Image_356.png\n"
     ]
    },
    {
     "name": "stderr",
     "output_type": "stream",
     "text": [
      " 87%|████████▋ | 1633/1877 [00:36<00:04, 58.46it/s]"
     ]
    },
    {
     "name": "stdout",
     "output_type": "stream",
     "text": [
      "image mi_segnet_Image_357.png\n",
      "image mi_segnet_Image_358.png\n",
      "image mi_segnet_Image_359.png\n",
      "image mi_segnet_Image_36.png\n",
      "image mi_segnet_Image_360.png\n",
      "image mi_segnet_Image_361.png\n",
      "image mi_segnet_Image_362.png\n",
      "image mi_segnet_Image_363.png\n",
      "image mi_segnet_Image_364.png\n",
      "image mi_segnet_Image_365.png\n",
      "image mi_segnet_Image_366.png\n",
      "image mi_segnet_Image_367.png\n"
     ]
    },
    {
     "name": "stderr",
     "output_type": "stream",
     "text": [
      " 88%|████████▊ | 1645/1877 [00:36<00:03, 58.16it/s]"
     ]
    },
    {
     "name": "stdout",
     "output_type": "stream",
     "text": [
      "image mi_segnet_Image_368.png\n",
      "image mi_segnet_Image_369.png\n",
      "image mi_segnet_Image_37.png\n",
      "image mi_segnet_Image_370.png\n",
      "image mi_segnet_Image_371.png\n",
      "image mi_segnet_Image_372.png\n",
      "image mi_segnet_Image_373.png\n",
      "image mi_segnet_Image_374.png\n",
      "image mi_segnet_Image_375.png\n",
      "image mi_segnet_Image_376.png\n",
      "image mi_segnet_Image_377.png\n",
      "image mi_segnet_Image_378.png\n"
     ]
    },
    {
     "name": "stderr",
     "output_type": "stream",
     "text": [
      " 88%|████████▊ | 1657/1877 [00:36<00:03, 58.53it/s]"
     ]
    },
    {
     "name": "stdout",
     "output_type": "stream",
     "text": [
      "image mi_segnet_Image_379.png\n",
      "image mi_segnet_Image_38.png\n",
      "image mi_segnet_Image_380.png\n",
      "image mi_segnet_Image_381.png\n",
      "image mi_segnet_Image_382.png\n",
      "image mi_segnet_Image_383.png\n",
      "image mi_segnet_Image_384.png\n",
      "image mi_segnet_Image_385.png\n",
      "image mi_segnet_Image_386.png\n",
      "image mi_segnet_Image_387.png\n",
      "image mi_segnet_Image_388.png\n",
      "image mi_segnet_Image_389.png\n"
     ]
    },
    {
     "name": "stderr",
     "output_type": "stream",
     "text": [
      " 89%|████████▉ | 1670/1877 [00:37<00:03, 58.88it/s]"
     ]
    },
    {
     "name": "stdout",
     "output_type": "stream",
     "text": [
      "image mi_segnet_Image_39.png\n",
      "image mi_segnet_Image_390.png\n",
      "image mi_segnet_Image_391.png\n",
      "image mi_segnet_Image_392.png\n",
      "image mi_segnet_Image_393.png\n",
      "image mi_segnet_Image_394.png\n",
      "image mi_segnet_Image_395.png\n",
      "image mi_segnet_Image_396.png\n",
      "image mi_segnet_Image_397.png\n",
      "image mi_segnet_Image_398.png\n",
      "image mi_segnet_Image_399.png\n",
      "image mi_segnet_Image_4.png\n"
     ]
    },
    {
     "name": "stderr",
     "output_type": "stream",
     "text": [
      " 90%|████████▉ | 1682/1877 [00:37<00:03, 57.86it/s]"
     ]
    },
    {
     "name": "stdout",
     "output_type": "stream",
     "text": [
      "image mi_segnet_Image_40.png\n",
      "image mi_segnet_Image_400.png\n",
      "image mi_segnet_Image_401.png\n",
      "image mi_segnet_Image_402.png\n",
      "image mi_segnet_Image_403.png\n",
      "image mi_segnet_Image_404.png\n",
      "image mi_segnet_Image_405.png\n",
      "image mi_segnet_Image_406.png\n",
      "image mi_segnet_Image_407.png\n",
      "image mi_segnet_Image_408.png\n",
      "image mi_segnet_Image_409.png\n",
      "image mi_segnet_Image_41.png\n"
     ]
    },
    {
     "name": "stderr",
     "output_type": "stream",
     "text": [
      " 90%|█████████ | 1694/1877 [00:37<00:03, 57.88it/s]"
     ]
    },
    {
     "name": "stdout",
     "output_type": "stream",
     "text": [
      "image mi_segnet_Image_410.png\n",
      "image mi_segnet_Image_411.png\n",
      "image mi_segnet_Image_412.png\n",
      "image mi_segnet_Image_413.png\n",
      "image mi_segnet_Image_414.png\n",
      "image mi_segnet_Image_415.png\n",
      "image mi_segnet_Image_416.png\n",
      "image mi_segnet_Image_417.png\n",
      "image mi_segnet_Image_418.png\n",
      "image mi_segnet_Image_419.png\n",
      "image mi_segnet_Image_42.png\n",
      "image mi_segnet_Image_420.png\n"
     ]
    },
    {
     "name": "stderr",
     "output_type": "stream",
     "text": [
      " 91%|█████████ | 1706/1877 [00:37<00:02, 57.34it/s]"
     ]
    },
    {
     "name": "stdout",
     "output_type": "stream",
     "text": [
      "image mi_segnet_Image_421.png\n",
      "image mi_segnet_Image_422.png\n",
      "image mi_segnet_Image_423.png\n",
      "image mi_segnet_Image_424.png\n",
      "image mi_segnet_Image_425.png\n",
      "image mi_segnet_Image_426.png\n",
      "image mi_segnet_Image_427.png\n",
      "image mi_segnet_Image_428.png\n",
      "image mi_segnet_Image_429.png\n",
      "image mi_segnet_Image_43.png\n",
      "image mi_segnet_Image_430.png\n",
      "image mi_segnet_Image_431.png\n"
     ]
    },
    {
     "name": "stderr",
     "output_type": "stream",
     "text": [
      " 92%|█████████▏| 1718/1877 [00:37<00:02, 57.74it/s]"
     ]
    },
    {
     "name": "stdout",
     "output_type": "stream",
     "text": [
      "image mi_segnet_Image_432.png\n",
      "image mi_segnet_Image_433.png\n",
      "image mi_segnet_Image_434.png\n",
      "image mi_segnet_Image_435.png\n",
      "image mi_segnet_Image_436.png\n",
      "image mi_segnet_Image_437.png\n",
      "image mi_segnet_Image_438.png\n",
      "image mi_segnet_Image_439.png\n",
      "image mi_segnet_Image_44.png\n",
      "image mi_segnet_Image_440.png\n",
      "image mi_segnet_Image_441.png\n",
      "image mi_segnet_Image_442.png\n"
     ]
    },
    {
     "name": "stderr",
     "output_type": "stream",
     "text": [
      " 92%|█████████▏| 1730/1877 [00:38<00:02, 57.60it/s]"
     ]
    },
    {
     "name": "stdout",
     "output_type": "stream",
     "text": [
      "image mi_segnet_Image_443.png\n",
      "image mi_segnet_Image_444.png\n",
      "image mi_segnet_Image_445.png\n",
      "image mi_segnet_Image_446.png\n",
      "image mi_segnet_Image_447.png\n",
      "image mi_segnet_Image_448.png\n",
      "image mi_segnet_Image_449.png\n",
      "image mi_segnet_Image_45.png\n",
      "image mi_segnet_Image_450.png\n",
      "image mi_segnet_Image_451.png\n",
      "image mi_segnet_Image_452.png\n",
      "image mi_segnet_Image_453.png\n"
     ]
    },
    {
     "name": "stderr",
     "output_type": "stream",
     "text": [
      " 93%|█████████▎| 1742/1877 [00:38<00:02, 56.91it/s]"
     ]
    },
    {
     "name": "stdout",
     "output_type": "stream",
     "text": [
      "image mi_segnet_Image_454.png\n",
      "image mi_segnet_Image_455.png\n",
      "image mi_segnet_Image_456.png\n",
      "image mi_segnet_Image_457.png\n",
      "image mi_segnet_Image_458.png\n",
      "image mi_segnet_Image_459.png\n",
      "image mi_segnet_Image_46.png\n",
      "image mi_segnet_Image_460.png\n",
      "image mi_segnet_Image_461.png\n",
      "image mi_segnet_Image_462.png\n",
      "image mi_segnet_Image_463.png\n",
      "image mi_segnet_Image_464.png\n"
     ]
    },
    {
     "name": "stderr",
     "output_type": "stream",
     "text": [
      " 93%|█████████▎| 1754/1877 [00:38<00:02, 56.76it/s]"
     ]
    },
    {
     "name": "stdout",
     "output_type": "stream",
     "text": [
      "image mi_segnet_Image_465.png\n",
      "image mi_segnet_Image_466.png\n",
      "image mi_segnet_Image_467.png\n",
      "image mi_segnet_Image_468.png\n",
      "image mi_segnet_Image_469.png\n",
      "image mi_segnet_Image_47.png\n",
      "image mi_segnet_Image_470.png\n",
      "image mi_segnet_Image_471.png\n",
      "image mi_segnet_Image_472.png\n",
      "image mi_segnet_Image_473.png\n",
      "image mi_segnet_Image_474.png\n",
      "image mi_segnet_Image_475.png\n"
     ]
    },
    {
     "name": "stderr",
     "output_type": "stream",
     "text": [
      " 94%|█████████▍| 1766/1877 [00:38<00:01, 56.99it/s]"
     ]
    },
    {
     "name": "stdout",
     "output_type": "stream",
     "text": [
      "image mi_segnet_Image_476.png\n",
      "image mi_segnet_Image_477.png\n",
      "image mi_segnet_Image_478.png\n",
      "image mi_segnet_Image_479.png\n",
      "image mi_segnet_Image_48.png\n",
      "image mi_segnet_Image_480.png\n",
      "image mi_segnet_Image_481.png\n",
      "image mi_segnet_Image_482.png\n",
      "image mi_segnet_Image_483.png\n",
      "image mi_segnet_Image_484.png\n",
      "image mi_segnet_Image_485.png\n",
      "image mi_segnet_Image_486.png\n"
     ]
    },
    {
     "name": "stderr",
     "output_type": "stream",
     "text": [
      " 95%|█████████▍| 1778/1877 [00:38<00:01, 56.62it/s]"
     ]
    },
    {
     "name": "stdout",
     "output_type": "stream",
     "text": [
      "image mi_segnet_Image_487.png\n",
      "image mi_segnet_Image_488.png\n",
      "image mi_segnet_Image_489.png\n",
      "image mi_segnet_Image_49.png\n",
      "image mi_segnet_Image_490.png\n",
      "image mi_segnet_Image_491.png\n",
      "image mi_segnet_Image_492.png\n",
      "image mi_segnet_Image_493.png\n",
      "image mi_segnet_Image_494.png\n",
      "image mi_segnet_Image_495.png\n",
      "image mi_segnet_Image_496.png\n",
      "image mi_segnet_Image_497.png\n"
     ]
    },
    {
     "name": "stderr",
     "output_type": "stream",
     "text": [
      " 95%|█████████▌| 1790/1877 [00:39<00:01, 56.10it/s]"
     ]
    },
    {
     "name": "stdout",
     "output_type": "stream",
     "text": [
      "image mi_segnet_Image_498.png\n",
      "image mi_segnet_Image_499.png\n",
      "image mi_segnet_Image_5.png\n",
      "image mi_segnet_Image_50.png\n",
      "image mi_segnet_Image_500.png\n",
      "image mi_segnet_Image_501.png\n",
      "image mi_segnet_Image_502.png\n",
      "image mi_segnet_Image_503.png\n",
      "image mi_segnet_Image_504.png\n",
      "image mi_segnet_Image_505.png\n",
      "image mi_segnet_Image_506.png\n"
     ]
    },
    {
     "name": "stderr",
     "output_type": "stream",
     "text": [
      " 96%|█████████▌| 1802/1877 [00:39<00:01, 56.06it/s]"
     ]
    },
    {
     "name": "stdout",
     "output_type": "stream",
     "text": [
      "image mi_segnet_Image_507.png\n",
      "image mi_segnet_Image_508.png\n",
      "image mi_segnet_Image_509.png\n",
      "image mi_segnet_Image_51.png\n",
      "image mi_segnet_Image_510.png\n",
      "image mi_segnet_Image_511.png\n",
      "image mi_segnet_Image_512.png\n",
      "image mi_segnet_Image_513.png\n",
      "image mi_segnet_Image_514.png\n",
      "image mi_segnet_Image_515.png\n",
      "image mi_segnet_Image_516.png\n",
      "image mi_segnet_Image_517.png\n"
     ]
    },
    {
     "name": "stderr",
     "output_type": "stream",
     "text": [
      " 97%|█████████▋| 1814/1877 [00:39<00:01, 57.47it/s]"
     ]
    },
    {
     "name": "stdout",
     "output_type": "stream",
     "text": [
      "image mi_segnet_Image_518.png\n",
      "image mi_segnet_Image_519.png\n",
      "image mi_segnet_Image_52.png\n",
      "image mi_segnet_Image_520.png\n",
      "image mi_segnet_Image_521.png\n",
      "image mi_segnet_Image_522.png\n",
      "image mi_segnet_Image_523.png\n",
      "image mi_segnet_Image_524.png\n",
      "image mi_segnet_Image_525.png\n",
      "image mi_segnet_Image_526.png\n",
      "image mi_segnet_Image_527.png\n",
      "image mi_segnet_Image_528.png\n"
     ]
    },
    {
     "name": "stderr",
     "output_type": "stream",
     "text": [
      " 97%|█████████▋| 1826/1877 [00:39<00:00, 57.78it/s]"
     ]
    },
    {
     "name": "stdout",
     "output_type": "stream",
     "text": [
      "image mi_segnet_Image_529.png\n",
      "image mi_segnet_Image_53.png\n",
      "image mi_segnet_Image_530.png\n",
      "image mi_segnet_Image_531.png\n",
      "image mi_segnet_Image_532.png\n",
      "image mi_segnet_Image_533.png\n",
      "image mi_segnet_Image_534.png\n",
      "image mi_segnet_Image_535.png\n",
      "image mi_segnet_Image_536.png\n",
      "image mi_segnet_Image_537.png\n",
      "image mi_segnet_Image_538.png\n",
      "image mi_segnet_Image_539.png\n"
     ]
    },
    {
     "name": "stderr",
     "output_type": "stream",
     "text": [
      " 98%|█████████▊| 1838/1877 [00:39<00:00, 58.17it/s]"
     ]
    },
    {
     "name": "stdout",
     "output_type": "stream",
     "text": [
      "image mi_segnet_Image_54.png\n",
      "image mi_segnet_Image_55.png\n",
      "image mi_segnet_Image_56.png\n",
      "image mi_segnet_Image_57.png\n",
      "image mi_segnet_Image_58.png\n",
      "image mi_segnet_Image_59.png\n",
      "image mi_segnet_Image_6.png\n",
      "image mi_segnet_Image_60.png\n",
      "image mi_segnet_Image_61.png\n",
      "image mi_segnet_Image_62.png\n",
      "image mi_segnet_Image_63.png\n",
      "image mi_segnet_Image_64.png\n"
     ]
    },
    {
     "name": "stderr",
     "output_type": "stream",
     "text": [
      " 99%|█████████▊| 1850/1877 [00:40<00:00, 57.61it/s]"
     ]
    },
    {
     "name": "stdout",
     "output_type": "stream",
     "text": [
      "image mi_segnet_Image_65.png\n",
      "image mi_segnet_Image_66.png\n",
      "image mi_segnet_Image_67.png\n",
      "image mi_segnet_Image_68.png\n",
      "image mi_segnet_Image_69.png\n",
      "image mi_segnet_Image_7.png\n",
      "image mi_segnet_Image_70.png\n",
      "image mi_segnet_Image_71.png\n",
      "image mi_segnet_Image_72.png\n",
      "image mi_segnet_Image_73.png\n",
      "image mi_segnet_Image_74.png\n",
      "image mi_segnet_Image_75.png\n"
     ]
    },
    {
     "name": "stderr",
     "output_type": "stream",
     "text": [
      " 99%|█████████▉| 1862/1877 [00:40<00:00, 57.36it/s]"
     ]
    },
    {
     "name": "stdout",
     "output_type": "stream",
     "text": [
      "image mi_segnet_Image_76.png\n",
      "image mi_segnet_Image_77.png\n",
      "image mi_segnet_Image_78.png\n",
      "image mi_segnet_Image_79.png\n",
      "image mi_segnet_Image_8.png\n",
      "image mi_segnet_Image_80.png\n",
      "image mi_segnet_Image_81.png\n",
      "image mi_segnet_Image_82.png\n",
      "image mi_segnet_Image_83.png\n",
      "image mi_segnet_Image_84.png\n",
      "image mi_segnet_Image_85.png\n",
      "image mi_segnet_Image_86.png\n"
     ]
    },
    {
     "name": "stderr",
     "output_type": "stream",
     "text": [
      "100%|█████████▉| 1868/1877 [00:40<00:00, 57.32it/s]"
     ]
    },
    {
     "name": "stdout",
     "output_type": "stream",
     "text": [
      "image mi_segnet_Image_87.png\n",
      "image mi_segnet_Image_88.png\n",
      "image mi_segnet_Image_89.png\n",
      "image mi_segnet_Image_9.png\n",
      "image mi_segnet_Image_90.png\n",
      "image mi_segnet_Image_91.png\n",
      "image mi_segnet_Image_92.png\n",
      "image mi_segnet_Image_93.png\n"
     ]
    },
    {
     "name": "stderr",
     "output_type": "stream",
     "text": [
      "100%|██████████| 1877/1877 [00:40<00:00, 46.07it/s]"
     ]
    },
    {
     "name": "stdout",
     "output_type": "stream",
     "text": [
      "image mi_segnet_Image_94.png\n",
      "image mi_segnet_Image_95.png\n",
      "image mi_segnet_Image_96.png\n",
      "image mi_segnet_Image_97.png\n",
      "image mi_segnet_Image_98.png\n",
      "image mi_segnet_Image_99.png\n"
     ]
    },
    {
     "name": "stderr",
     "output_type": "stream",
     "text": [
      "\n"
     ]
    }
   ],
   "source": [
    "# delete frames that are entirely black\n",
    "for image in tqdm(images):\n",
    "    print(\"image\", image)\n",
    "    im_file = os.path.join(VOLUME_SLICES, image)\n",
    "    segm_file = os.path.join(SEGMENTATION_SLICES, image)\n",
    "    resize(Image.open(im_file).convert('RGB')).save(im_file)\n",
    "    resize(Image.open(segm_file).convert('L')).save(segm_file)"
   ]
  },
  {
   "cell_type": "code",
   "execution_count": 22,
   "metadata": {},
   "outputs": [],
   "source": [
    "import matplotlib.pyplot as plt"
   ]
  },
  {
   "cell_type": "code",
   "execution_count": 23,
   "metadata": {},
   "outputs": [],
   "source": [
    "im0=images[0]\n",
    "segm0=labels[0]"
   ]
  },
  {
   "cell_type": "code",
   "execution_count": 24,
   "metadata": {},
   "outputs": [
    {
     "data": {
      "text/plain": [
       "('continuous_carotid_3_Patient-01-01100.png',\n",
       " 'continuous_carotid_3_Patient-01-01100.png')"
      ]
     },
     "execution_count": 24,
     "metadata": {},
     "output_type": "execute_result"
    }
   ],
   "source": [
    "im0, segm0"
   ]
  },
  {
   "cell_type": "code",
   "execution_count": 25,
   "metadata": {},
   "outputs": [],
   "source": [
    "im_file = os.path.join(VOLUME_SLICES, im0)\n",
    "segm_file = os.path.join(SEGMENTATION_SLICES, segm0)"
   ]
  },
  {
   "cell_type": "code",
   "execution_count": 26,
   "metadata": {},
   "outputs": [],
   "source": [
    "im = Image.open(im_file).convert('RGB')\n",
    "segm = Image.open(segm_file).convert('L')"
   ]
  },
  {
   "cell_type": "code",
   "execution_count": 27,
   "metadata": {},
   "outputs": [
    {
     "data": {
      "text/plain": [
       "<matplotlib.image.AxesImage at 0x7f2e9aefb970>"
      ]
     },
     "execution_count": 27,
     "metadata": {},
     "output_type": "execute_result"
    },
    {
     "data": {
      "image/png": "[encoded data removed]",
      "text/plain": [
       "<Figure size 640x480 with 1 Axes>"
      ]
     },
     "metadata": {},
     "output_type": "display_data"
    }
   ],
   "source": [
    "plt.imshow(im)"
   ]
  },
  {
   "cell_type": "code",
   "execution_count": 28,
   "metadata": {},
   "outputs": [
    {
     "data": {
      "text/plain": [
       "<matplotlib.image.AxesImage at 0x7f2e98b98c10>"
      ]
     },
     "execution_count": 28,
     "metadata": {},
     "output_type": "execute_result"
    },
    {
     "data": {
      "image/png": "[encoded data removed]",
      "text/plain": [
       "<Figure size 640x480 with 1 Axes>"
      ]
     },
     "metadata": {},
     "output_type": "display_data"
    }
   ],
   "source": [
    "plt.imshow(segm)"
   ]
  },
  {
   "cell_type": "code",
   "execution_count": null,
   "metadata": {},
   "outputs": [],
   "source": []
  }
 ],
 "metadata": {
  "kernelspec": {
   "display_name": "thesis_env",
   "language": "python",
   "name": "python3"
  },
  "language_info": {
   "codemirror_mode": {
    "name": "ipython",
    "version": 3
   },
   "file_extension": ".py",
   "mimetype": "text/x-python",
   "name": "python",
   "nbconvert_exporter": "python",
   "pygments_lexer": "ipython3",
   "version": "3.8.12"
  },
  "orig_nbformat": 4
 },
 "nbformat": 4,
 "nbformat_minor": 2
}
