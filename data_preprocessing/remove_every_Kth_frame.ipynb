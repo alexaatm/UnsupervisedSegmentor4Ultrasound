{
 "cells": [
  {
   "cell_type": "code",
   "execution_count": 2,
   "metadata": {},
   "outputs": [],
   "source": [
    "import os\n",
    "from tqdm import tqdm\n",
    "import numpy as np\n",
    "from PIL import Image\n",
    "import matplotlib.pyplot as plt"
   ]
  },
  {
   "cell_type": "markdown",
   "metadata": {},
   "source": [
    "## Thyroid compounded TEST"
   ]
  },
  {
   "cell_type": "code",
   "execution_count": 16,
   "metadata": {},
   "outputs": [],
   "source": [
    "skipped_frames_images_file = open('skipped_frames_images.txt', 'a')\n",
    "skipped_frames_labels_file = open('skipped_frames_labels.txt', 'a')\n",
    " "
   ]
  },
  {
   "cell_type": "code",
   "execution_count": 17,
   "metadata": {},
   "outputs": [],
   "source": [
    "VOLUME_FOLDER=\"C:/Users/Tmenova/personal/tum/thesis/initial-data/new_datasets/THYROID_COMPOUNDED/test/images\"\n",
    "LABELS_FOLDER=\"C:/Users/Tmenova/personal/tum/thesis/initial-data/new_datasets/THYROID_COMPOUNDED/test/labels\"\n",
    "REMOVED_IMAGES_FOLDER=\"C:/Users/Tmenova/personal/tum/thesis/initial-data/new_datasets/THYROID_COMPOUNDED/removed/test/images\"\n",
    "REMOVED_LABELS_FOLDER=\"C:/Users/Tmenova/personal/tum/thesis/initial-data/new_datasets/THYROID_COMPOUNDED/removed/test/labels\""
   ]
  },
  {
   "cell_type": "code",
   "execution_count": 18,
   "metadata": {},
   "outputs": [],
   "source": [
    "if not os.path.exists(REMOVED_IMAGES_FOLDER):\n",
    "    os.makedirs(REMOVED_IMAGES_FOLDER)\n",
    "\n",
    "if not os.path.exists(REMOVED_LABELS_FOLDER):\n",
    "    os.makedirs(REMOVED_LABELS_FOLDER)"
   ]
  },
  {
   "cell_type": "code",
   "execution_count": 19,
   "metadata": {},
   "outputs": [],
   "source": [
    "#take every 2nd image (if equal 1, take every; if equal 3, take every thirs)\n",
    "SKIPPING_STEP=5"
   ]
  },
  {
   "cell_type": "code",
   "execution_count": 20,
   "metadata": {},
   "outputs": [],
   "source": [
    "def downsample_by_step(input_list, step):\n",
    "    return input_list[::int(step)]"
   ]
  },
  {
   "cell_type": "code",
   "execution_count": 21,
   "metadata": {},
   "outputs": [],
   "source": [
    "original_images_list = sorted(os.listdir(VOLUME_FOLDER))\n",
    "original_labels_list = sorted(os.listdir(LABELS_FOLDER))                    \n"
   ]
  },
  {
   "cell_type": "code",
   "execution_count": 23,
   "metadata": {},
   "outputs": [],
   "source": [
    "downsampled_images_list = downsample_by_step(original_images_list, SKIPPING_STEP)\n",
    "downsampled_labels_list = downsample_by_step(original_labels_list, SKIPPING_STEP)\n",
    "assert(downsampled_images_list==downsampled_labels_list)"
   ]
  },
  {
   "cell_type": "code",
   "execution_count": 24,
   "metadata": {},
   "outputs": [],
   "source": [
    "# move skipped frames\n",
    "for v_slice_file, segm_slice_file in zip(original_images_list, original_labels_list):\n",
    "    assert(v_slice_file==segm_slice_file)\n",
    "    if v_slice_file not in downsampled_images_list and segm_slice_file not in downsampled_labels_list:\n",
    "        # remove files since they were skipped\n",
    "        v_slice_file_path = os.path.join(VOLUME_FOLDER, v_slice_file)\n",
    "        v_slice_file_path_moved = os.path.join(REMOVED_IMAGES_FOLDER, v_slice_file)\n",
    "        os.rename(v_slice_file_path, v_slice_file_path_moved)\n",
    "        s_slice_file_path = os.path.join(LABELS_FOLDER, segm_slice_file)\n",
    "        s_slice_file_path_moved = os.path.join(REMOVED_LABELS_FOLDER, segm_slice_file)\n",
    "        os.rename(s_slice_file_path, s_slice_file_path_moved)\n",
    "\n",
    "        # write in file which frames were deleted\n",
    "        skipped_frames_images_file.write(f'{v_slice_file_path_moved} \\n')\n",
    "        skipped_frames_labels_file.write(f'{s_slice_file_path_moved} \\n')\n",
    "\n",
    "skipped_frames_images_file.close()   \n",
    "skipped_frames_labels_file.close()      "
   ]
  },
  {
   "cell_type": "code",
   "execution_count": 25,
   "metadata": {},
   "outputs": [
    {
     "name": "stdout",
     "output_type": "stream",
     "text": [
      "images num:  231\n",
      "lebles num:  231\n",
      "REMOVED images num:  1537\n",
      "REMOVED lebels num:  1537\n"
     ]
    }
   ],
   "source": [
    "print('images num: ', len(os.listdir(VOLUME_FOLDER)))\n",
    "print('lebles num: ', len(os.listdir(LABELS_FOLDER)))\n",
    "print('REMOVED images num: ', len(os.listdir(REMOVED_IMAGES_FOLDER)))\n",
    "print('REMOVED lebels num: ', len(os.listdir(REMOVED_LABELS_FOLDER)))\n"
   ]
  },
  {
   "cell_type": "markdown",
   "metadata": {},
   "source": [
    "## Thyroid compounded VAL"
   ]
  },
  {
   "cell_type": "code",
   "execution_count": 26,
   "metadata": {},
   "outputs": [
    {
     "name": "stdout",
     "output_type": "stream",
     "text": [
      "images num:  229\n",
      "lebles num:  229\n",
      "REMOVED images num:  1838\n",
      "REMOVED lebels num:  1838\n"
     ]
    }
   ],
   "source": [
    "skipped_frames_images_file = open('skipped_frames_images.txt', 'a')\n",
    "skipped_frames_labels_file = open('skipped_frames_labels.txt', 'a')\n",
    "\n",
    "VOLUME_FOLDER=\"C:/Users/Tmenova/personal/tum/thesis/initial-data/new_datasets/THYROID_COMPOUNDED/val/images\"\n",
    "LABELS_FOLDER=\"C:/Users/Tmenova/personal/tum/thesis/initial-data/new_datasets/THYROID_COMPOUNDED/val/labels\"\n",
    "REMOVED_IMAGES_FOLDER=\"C:/Users/Tmenova/personal/tum/thesis/initial-data/new_datasets/THYROID_COMPOUNDED/removed/val/images\"\n",
    "REMOVED_LABELS_FOLDER=\"C:/Users/Tmenova/personal/tum/thesis/initial-data/new_datasets/THYROID_COMPOUNDED/removed/val/labels\"\n",
    "\n",
    "if not os.path.exists(REMOVED_IMAGES_FOLDER):\n",
    "    os.makedirs(REMOVED_IMAGES_FOLDER)\n",
    "\n",
    "if not os.path.exists(REMOVED_LABELS_FOLDER):\n",
    "    os.makedirs(REMOVED_LABELS_FOLDER)\n",
    "\n",
    "#take every 5th image (if equal 1, take every; if equal 3, take every thirs)\n",
    "SKIPPING_STEP=5\n",
    "\n",
    "def downsample_by_step(input_list, step):\n",
    "    return input_list[::int(step)]\n",
    "\n",
    "original_images_list = sorted(os.listdir(VOLUME_FOLDER))\n",
    "original_labels_list = sorted(os.listdir(LABELS_FOLDER))                    \n",
    "\n",
    "downsampled_images_list = downsample_by_step(original_images_list, SKIPPING_STEP)\n",
    "downsampled_labels_list = downsample_by_step(original_labels_list, SKIPPING_STEP)\n",
    "assert(downsampled_images_list==downsampled_labels_list)\n",
    "\n",
    "# move skipped frames\n",
    "for v_slice_file, segm_slice_file in zip(original_images_list, original_labels_list):\n",
    "    assert(v_slice_file==segm_slice_file)\n",
    "    if v_slice_file not in downsampled_images_list and segm_slice_file not in downsampled_labels_list:\n",
    "        # remove files since they were skipped\n",
    "        v_slice_file_path = os.path.join(VOLUME_FOLDER, v_slice_file)\n",
    "        v_slice_file_path_moved = os.path.join(REMOVED_IMAGES_FOLDER, v_slice_file)\n",
    "        os.rename(v_slice_file_path, v_slice_file_path_moved)\n",
    "        s_slice_file_path = os.path.join(LABELS_FOLDER, segm_slice_file)\n",
    "        s_slice_file_path_moved = os.path.join(REMOVED_LABELS_FOLDER, segm_slice_file)\n",
    "        os.rename(s_slice_file_path, s_slice_file_path_moved)\n",
    "\n",
    "        # write in file which frames were deleted\n",
    "        skipped_frames_images_file.write(f'{v_slice_file_path_moved} \\n')\n",
    "        skipped_frames_labels_file.write(f'{s_slice_file_path_moved} \\n')\n",
    "\n",
    "skipped_frames_images_file.close()   \n",
    "skipped_frames_labels_file.close()      \n",
    "\n",
    "print('images num: ', len(os.listdir(VOLUME_FOLDER)))\n",
    "print('lebles num: ', len(os.listdir(LABELS_FOLDER)))\n",
    "print('REMOVED images num: ', len(os.listdir(REMOVED_IMAGES_FOLDER)))\n",
    "print('REMOVED lebels num: ', len(os.listdir(REMOVED_LABELS_FOLDER)))\n"
   ]
  },
  {
   "cell_type": "markdown",
   "metadata": {},
   "source": [
    "## Thyroid compounded TRAIN"
   ]
  },
  {
   "cell_type": "code",
   "execution_count": 3,
   "metadata": {},
   "outputs": [
    {
     "name": "stdout",
     "output_type": "stream",
     "text": [
      "images num:  683\n",
      "REMOVED images num:  5395\n"
     ]
    }
   ],
   "source": [
    "skipped_frames_images_file = open('skipped_frames_images.txt', 'a')\n",
    "\n",
    "VOLUME_FOLDER=\"C:/Users/Tmenova/personal/tum/thesis/initial-data/new_datasets/THYROID_COMPOUNDED/train/images\"\n",
    "REMOVED_IMAGES_FOLDER=\"C:/Users/Tmenova/personal/tum/thesis/initial-data/new_datasets/THYROID_COMPOUNDED/removed/train/images\"\n",
    "\n",
    "if not os.path.exists(REMOVED_IMAGES_FOLDER):\n",
    "    os.makedirs(REMOVED_IMAGES_FOLDER)\n",
    "\n",
    "#take every 5th image (if equal 1, take every; if equal 3, take every thirs)\n",
    "SKIPPING_STEP=5\n",
    "\n",
    "def downsample_by_step(input_list, step):\n",
    "    return input_list[::int(step)]\n",
    "\n",
    "original_images_list = sorted(os.listdir(VOLUME_FOLDER))\n",
    "\n",
    "downsampled_images_list = downsample_by_step(original_images_list, SKIPPING_STEP)\n",
    "\n",
    "# move skipped frames\n",
    "for v_slice_file in original_images_list:\n",
    "    if v_slice_file not in downsampled_images_list:\n",
    "        # remove files since they were skipped\n",
    "        v_slice_file_path = os.path.join(VOLUME_FOLDER, v_slice_file)\n",
    "        v_slice_file_path_moved = os.path.join(REMOVED_IMAGES_FOLDER, v_slice_file)\n",
    "        os.rename(v_slice_file_path, v_slice_file_path_moved)\n",
    "\n",
    "        # write in file which frames were deleted\n",
    "        skipped_frames_images_file.write(f'{v_slice_file_path_moved} \\n')\n",
    "\n",
    "skipped_frames_images_file.close()   \n",
    "\n",
    "print('images num: ', len(os.listdir(VOLUME_FOLDER)))\n",
    "print('REMOVED images num: ', len(os.listdir(REMOVED_IMAGES_FOLDER)))"
   ]
  },
  {
   "cell_type": "markdown",
   "metadata": {},
   "source": [
    "## Liver TRAIN"
   ]
  },
  {
   "cell_type": "code",
   "execution_count": 4,
   "metadata": {},
   "outputs": [
    {
     "name": "stdout",
     "output_type": "stream",
     "text": [
      "images num:  1255\n",
      "REMOVED images num:  10627\n"
     ]
    }
   ],
   "source": [
    "skipped_frames_images_file = open('skipped_frames_images_LIVER_MIXED.txt', 'a')\n",
    "\n",
    "VOLUME_FOLDER=\"C:/Users/Tmenova/personal/tum/thesis/initial-data/new_datasets/LIVER_MIXED/train/images\"\n",
    "REMOVED_IMAGES_FOLDER=\"C:/Users/Tmenova/personal/tum/thesis/initial-data/new_datasets/LIVER_MIXED/removed/train/images\"\n",
    "\n",
    "if not os.path.exists(REMOVED_IMAGES_FOLDER):\n",
    "    os.makedirs(REMOVED_IMAGES_FOLDER)\n",
    "\n",
    "#take every 5th image (if equal 1, take every; if equal 3, take every thirs)\n",
    "SKIPPING_STEP=5\n",
    "\n",
    "def downsample_by_step(input_list, step):\n",
    "    return input_list[::int(step)]\n",
    "\n",
    "original_images_list = sorted(os.listdir(VOLUME_FOLDER))\n",
    "\n",
    "downsampled_images_list = downsample_by_step(original_images_list, SKIPPING_STEP)\n",
    "\n",
    "# move skipped frames\n",
    "for v_slice_file in original_images_list:\n",
    "    if v_slice_file not in downsampled_images_list:\n",
    "        # remove files since they were skipped\n",
    "        v_slice_file_path = os.path.join(VOLUME_FOLDER, v_slice_file)\n",
    "        v_slice_file_path_moved = os.path.join(REMOVED_IMAGES_FOLDER, v_slice_file)\n",
    "        os.rename(v_slice_file_path, v_slice_file_path_moved)\n",
    "\n",
    "        # write in file which frames were deleted\n",
    "        skipped_frames_images_file.write(f'{v_slice_file_path_moved} \\n')\n",
    "\n",
    "skipped_frames_images_file.close()   \n",
    "\n",
    "print('images num: ', len(os.listdir(VOLUME_FOLDER)))\n",
    "print('REMOVED images num: ', len(os.listdir(REMOVED_IMAGES_FOLDER)))"
   ]
  },
  {
   "cell_type": "markdown",
   "metadata": {},
   "source": [
    "## Carotid TRAIN  "
   ]
  },
  {
   "cell_type": "code",
   "execution_count": 4,
   "metadata": {},
   "outputs": [
    {
     "name": "stdout",
     "output_type": "stream",
     "text": [
      "images num:  1666\n",
      "REMOVED images num:  14989\n"
     ]
    }
   ],
   "source": [
    "skipped_frames_images_file = open('skipped_frames_images_CAROTID_MIXED.txt', 'a')\n",
    "\n",
    "VOLUME_FOLDER=\"C:/Users/Tmenova/personal/tum/thesis/initial-data/new_datasets/CAROTID_MIXED/train/images\"\n",
    "REMOVED_IMAGES_FOLDER=\"C:/Users/Tmenova/personal/tum/thesis/initial-data/new_datasets/CAROTID_MIXED/removed/train/images\"\n",
    "\n",
    "if not os.path.exists(REMOVED_IMAGES_FOLDER):\n",
    "    os.makedirs(REMOVED_IMAGES_FOLDER)\n",
    "\n",
    "#take every 5th image (if equal 1, take every; if equal 3, take every thirs)\n",
    "SKIPPING_STEP=10\n",
    "\n",
    "def downsample_by_step(input_list, step):\n",
    "    return input_list[::int(step)]\n",
    "\n",
    "original_images_list = sorted(os.listdir(VOLUME_FOLDER))\n",
    "\n",
    "downsampled_images_list = downsample_by_step(original_images_list, SKIPPING_STEP)\n",
    "\n",
    "# move skipped frames\n",
    "for v_slice_file in original_images_list:\n",
    "    if v_slice_file not in downsampled_images_list:\n",
    "        # remove files since they were skipped\n",
    "        v_slice_file_path = os.path.join(VOLUME_FOLDER, v_slice_file)\n",
    "        v_slice_file_path_moved = os.path.join(REMOVED_IMAGES_FOLDER, v_slice_file)\n",
    "        os.rename(v_slice_file_path, v_slice_file_path_moved)\n",
    "\n",
    "        # write in file which frames were deleted\n",
    "        skipped_frames_images_file.write(f'{v_slice_file_path_moved} \\n')\n",
    "\n",
    "skipped_frames_images_file.close()   \n",
    "\n",
    "print('images num: ', len(os.listdir(VOLUME_FOLDER)))\n",
    "print('REMOVED images num: ', len(os.listdir(REMOVED_IMAGES_FOLDER)))"
   ]
  },
  {
   "cell_type": "markdown",
   "metadata": {},
   "source": [
    "Carotid mixed TRAIN - downsample more, but only the continuous dataset"
   ]
  },
  {
   "cell_type": "code",
   "execution_count": 6,
   "metadata": {},
   "outputs": [
    {
     "name": "stdout",
     "output_type": "stream",
     "text": [
      "images num:  939\n",
      "REMOVED images num:  15716\n"
     ]
    }
   ],
   "source": [
    "skipped_frames_images_file = open('skipped_frames_images_CAROTID_MIXED.txt', 'a')\n",
    "\n",
    "VOLUME_FOLDER=\"C:/Users/Tmenova/personal/tum/thesis/initial-data/new_datasets/CAROTID_MIXED/train/images\"\n",
    "REMOVED_IMAGES_FOLDER=\"C:/Users/Tmenova/personal/tum/thesis/initial-data/new_datasets/CAROTID_MIXED/removed/train/images\"\n",
    "\n",
    "if not os.path.exists(REMOVED_IMAGES_FOLDER):\n",
    "    os.makedirs(REMOVED_IMAGES_FOLDER)\n",
    "\n",
    "#take every 5th image (if equal 1, take every; if equal 3, take every thirs)\n",
    "SKIPPING_STEP=2\n",
    "\n",
    "def downsample_by_step(input_list, step):\n",
    "    return input_list[::int(step)]\n",
    "\n",
    "original_images_list = sorted(os.listdir(VOLUME_FOLDER))\n",
    "continuous_images_list = [im for im in original_images_list if \"continuous\" in im]\n",
    "\n",
    "downsampled_images_list = downsample_by_step(continuous_images_list, SKIPPING_STEP)\n",
    "\n",
    "# move skipped frames\n",
    "for v_slice_file in continuous_images_list:\n",
    "    if v_slice_file not in downsampled_images_list:\n",
    "        # remove files since they were skipped\n",
    "        v_slice_file_path = os.path.join(VOLUME_FOLDER, v_slice_file)\n",
    "        v_slice_file_path_moved = os.path.join(REMOVED_IMAGES_FOLDER, v_slice_file)\n",
    "        os.rename(v_slice_file_path, v_slice_file_path_moved)\n",
    "\n",
    "        # write in file which frames were deleted\n",
    "        skipped_frames_images_file.write(f'{v_slice_file_path_moved} \\n')\n",
    "\n",
    "skipped_frames_images_file.close()   \n",
    "\n",
    "print('images num: ', len(os.listdir(VOLUME_FOLDER)))\n",
    "print('REMOVED images num: ', len(os.listdir(REMOVED_IMAGES_FOLDER)))"
   ]
  },
  {
   "cell_type": "markdown",
   "metadata": {},
   "source": [
    "## Carotid TEST  "
   ]
  },
  {
   "cell_type": "code",
   "execution_count": 8,
   "metadata": {},
   "outputs": [
    {
     "name": "stdout",
     "output_type": "stream",
     "text": [
      "images num:  188\n",
      "lebles num:  188\n",
      "REMOVED images num:  1689\n",
      "REMOVED lebels num:  1689\n"
     ]
    }
   ],
   "source": [
    "skipped_frames_images_file = open('skipped_frames_images_CAROTID_MIXED.txt', 'a')\n",
    "skipped_frames_labels_file = open('skipped_frames_labels_CAROTID_MIXED.txt', 'a')\n",
    "\n",
    "VOLUME_FOLDER=\"C:/Users/Tmenova/personal/tum/thesis/initial-data/new_datasets/CAROTID_MIXED/test/images\"\n",
    "LABELS_FOLDER=\"C:/Users/Tmenova/personal/tum/thesis/initial-data/new_datasets/CAROTID_MIXED/test/labels\"\n",
    "REMOVED_IMAGES_FOLDER=\"C:/Users/Tmenova/personal/tum/thesis/initial-data/new_datasets/CAROTID_MIXED/removed/test/images\"\n",
    "REMOVED_LABELS_FOLDER=\"C:/Users/Tmenova/personal/tum/thesis/initial-data/new_datasets/CAROTID_MIXED/removed/test/labels\"\n",
    "\n",
    "if not os.path.exists(REMOVED_IMAGES_FOLDER):\n",
    "    os.makedirs(REMOVED_IMAGES_FOLDER)\n",
    "\n",
    "if not os.path.exists(REMOVED_LABELS_FOLDER):\n",
    "    os.makedirs(REMOVED_LABELS_FOLDER)\n",
    "\n",
    "#take every 5th image (if equal 1, take every; if equal 3, take every thirs)\n",
    "SKIPPING_STEP=10\n",
    "\n",
    "def downsample_by_step(input_list, step):\n",
    "    return input_list[::int(step)]\n",
    "\n",
    "original_images_list = sorted(os.listdir(VOLUME_FOLDER))\n",
    "original_labels_list = sorted(os.listdir(LABELS_FOLDER))                    \n",
    "\n",
    "downsampled_images_list = downsample_by_step(original_images_list, SKIPPING_STEP)\n",
    "downsampled_labels_list = downsample_by_step(original_labels_list, SKIPPING_STEP)\n",
    "assert(downsampled_images_list==downsampled_labels_list)\n",
    "\n",
    "# move skipped frames\n",
    "for v_slice_file, segm_slice_file in zip(original_images_list, original_labels_list):\n",
    "    assert(v_slice_file==segm_slice_file)\n",
    "    if v_slice_file not in downsampled_images_list and segm_slice_file not in downsampled_labels_list:\n",
    "        # remove files since they were skipped\n",
    "        v_slice_file_path = os.path.join(VOLUME_FOLDER, v_slice_file)\n",
    "        v_slice_file_path_moved = os.path.join(REMOVED_IMAGES_FOLDER, v_slice_file)\n",
    "        os.rename(v_slice_file_path, v_slice_file_path_moved)\n",
    "        s_slice_file_path = os.path.join(LABELS_FOLDER, segm_slice_file)\n",
    "        s_slice_file_path_moved = os.path.join(REMOVED_LABELS_FOLDER, segm_slice_file)\n",
    "        os.rename(s_slice_file_path, s_slice_file_path_moved)\n",
    "\n",
    "        # write in file which frames were deleted\n",
    "        skipped_frames_images_file.write(f'{v_slice_file_path_moved} \\n')\n",
    "        skipped_frames_labels_file.write(f'{s_slice_file_path_moved} \\n')\n",
    "\n",
    "skipped_frames_images_file.close()   \n",
    "skipped_frames_labels_file.close()      \n",
    "\n",
    "print('images num: ', len(os.listdir(VOLUME_FOLDER)))\n",
    "print('lebles num: ', len(os.listdir(LABELS_FOLDER)))\n",
    "print('REMOVED images num: ', len(os.listdir(REMOVED_IMAGES_FOLDER)))\n",
    "print('REMOVED lebels num: ', len(os.listdir(REMOVED_LABELS_FOLDER)))\n"
   ]
  },
  {
   "cell_type": "code",
   "execution_count": null,
   "metadata": {},
   "outputs": [],
   "source": []
  },
  {
   "cell_type": "markdown",
   "metadata": {},
   "source": [
    "# Carotid MUTINFO val"
   ]
  },
  {
   "cell_type": "code",
   "execution_count": 3,
   "metadata": {},
   "outputs": [
    {
     "name": "stdout",
     "output_type": "stream",
     "text": [
      "images num:  208\n",
      "lebles num:  208\n",
      "REMOVED images num:  250\n",
      "REMOVED lebels num:  250\n"
     ]
    }
   ],
   "source": [
    "skipped_frames_images_file = open('skipped_frames_images_CAROTID_MUTINFO_val.txt', 'a')\n",
    "skipped_frames_labels_file = open('skipped_frames_labels_CAROTID_MUTINFO_val.txt', 'a')\n",
    "\n",
    "VOLUME_FOLDER=\"C:/Users/Tmenova/personal/tum/thesis/initial-data/new_datasets/CAROTID_MUTINFO/val/images\"\n",
    "LABELS_FOLDER=\"C:/Users/Tmenova/personal/tum/thesis/initial-data/new_datasets/CAROTID_MUTINFO/val/labels\"\n",
    "REMOVED_IMAGES_FOLDER=\"C:/Users/Tmenova/personal/tum/thesis/initial-data/new_datasets/CAROTID_MUTINFO/removed/val/images\"\n",
    "REMOVED_LABELS_FOLDER=\"C:/Users/Tmenova/personal/tum/thesis/initial-data/new_datasets/CAROTID_MUTINFO/removed/val/labels\"\n",
    "\n",
    "if not os.path.exists(REMOVED_IMAGES_FOLDER):\n",
    "    os.makedirs(REMOVED_IMAGES_FOLDER)\n",
    "\n",
    "if not os.path.exists(REMOVED_LABELS_FOLDER):\n",
    "    os.makedirs(REMOVED_LABELS_FOLDER)\n",
    "\n",
    "#take every 5th image (if equal 1, take every; if equal 3, take every thirs)\n",
    "SKIPPING_STEP=2\n",
    "\n",
    "def downsample_by_step(input_list, step):\n",
    "    return input_list[::int(step)]\n",
    "\n",
    "original_images_list = sorted(os.listdir(VOLUME_FOLDER))\n",
    "original_labels_list = sorted(os.listdir(LABELS_FOLDER))                    \n",
    "\n",
    "downsampled_images_list = downsample_by_step(original_images_list, SKIPPING_STEP)\n",
    "downsampled_labels_list = downsample_by_step(original_labels_list, SKIPPING_STEP)\n",
    "assert(downsampled_images_list==downsampled_labels_list)\n",
    "\n",
    "# move skipped frames\n",
    "for v_slice_file, segm_slice_file in zip(original_images_list, original_labels_list):\n",
    "    assert(v_slice_file==segm_slice_file)\n",
    "    if v_slice_file not in downsampled_images_list and segm_slice_file not in downsampled_labels_list:\n",
    "        # remove files since they were skipped\n",
    "        v_slice_file_path = os.path.join(VOLUME_FOLDER, v_slice_file)\n",
    "        v_slice_file_path_moved = os.path.join(REMOVED_IMAGES_FOLDER, v_slice_file)\n",
    "        os.rename(v_slice_file_path, v_slice_file_path_moved)\n",
    "        s_slice_file_path = os.path.join(LABELS_FOLDER, segm_slice_file)\n",
    "        s_slice_file_path_moved = os.path.join(REMOVED_LABELS_FOLDER, segm_slice_file)\n",
    "        os.rename(s_slice_file_path, s_slice_file_path_moved)\n",
    "\n",
    "        # write in file which frames were deleted\n",
    "        skipped_frames_images_file.write(f'{v_slice_file_path_moved} \\n')\n",
    "        skipped_frames_labels_file.write(f'{s_slice_file_path_moved} \\n')\n",
    "\n",
    "skipped_frames_images_file.close()   \n",
    "skipped_frames_labels_file.close()      \n",
    "\n",
    "print('images num: ', len(os.listdir(VOLUME_FOLDER)))\n",
    "print('lebles num: ', len(os.listdir(LABELS_FOLDER)))\n",
    "print('REMOVED images num: ', len(os.listdir(REMOVED_IMAGES_FOLDER)))\n",
    "print('REMOVED lebels num: ', len(os.listdir(REMOVED_LABELS_FOLDER)))\n"
   ]
  },
  {
   "cell_type": "code",
   "execution_count": null,
   "metadata": {},
   "outputs": [],
   "source": []
  }
 ],
 "metadata": {
  "kernelspec": {
   "display_name": "thesis_env",
   "language": "python",
   "name": "python3"
  },
  "language_info": {
   "codemirror_mode": {
    "name": "ipython",
    "version": 3
   },
   "file_extension": ".py",
   "mimetype": "text/x-python",
   "name": "python",
   "nbconvert_exporter": "python",
   "pygments_lexer": "ipython3",
   "version": "3.7.7"
  },
  "orig_nbformat": 4
 },
 "nbformat": 4,
 "nbformat_minor": 2
}
